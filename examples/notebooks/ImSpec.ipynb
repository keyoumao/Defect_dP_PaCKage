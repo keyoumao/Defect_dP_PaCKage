{
  "nbformat": 4,
  "nbformat_minor": 0,
  "metadata": {
    "colab": {
      "name": "ImSpec.ipynb",
      "provenance": [],
      "include_colab_link": true
    },
    "kernelspec": {
      "name": "python3",
      "display_name": "Python 3"
    },
    "accelerator": "GPU"
  },
  "cells": [
    {
      "cell_type": "markdown",
      "metadata": {
        "id": "view-in-github",
        "colab_type": "text"
      },
      "source": [
        "<a href=\"https://colab.research.google.com/github/keyoumao/Defect_dP_PaCKage/blob/main/examples/notebooks/ImSpec.ipynb\" target=\"_parent\"><img src=\"https://colab.research.google.com/assets/colab-badge.svg\" alt=\"Open In Colab\"/></a>"
      ]
    },
    {
      "cell_type": "markdown",
      "metadata": {
        "id": "Ekny4V0iZeKu"
      },
      "source": [
        "# Im2Spec models for predicting property (spectrum) from structure (image)\n",
        "\n",
        "*  *Notebook prepared by Maxim Ziatdinov  (email: ziatdinovmax@gmail.com)*\n",
        "\n",
        "*  *The experimental SPM data was collected by Kyle Kelley and the experimental STEM EELS data was collected by Jordan Hachtel and Kevin Roccapriore*\n",
        "\n",
        "---\n",
        "\n",
        "This notebook demonstrates usage of encoder-decoder neural networks for predicting spectra (property/functionality) from images (structure) using the *im2spec* deep learning model. In the *im2spec* approach, the sub-images representing a local structure are “compressed” via a convolutional neural network architecture to the small number of latent variables, and the latter are “deconvoluted” to yield the spectra. The architecture of the *im2spec* model is straightforward. It consists of two parts: an encoder for embedding input images into a latent vector and a decoder for generating one-dimensional signals from the embedded features. The encoder part consists of three back-to-back two-dimensional convolutional layers, whereas the decoder part represents a cascade of one-dimensional dilated convolutions with dilation rates of 1, 2, 3, and 4. The dilated convolutions showed superior performance compared to regular convolutional blocks in the decoder. Each convolutional layer in both encoder and decoder parts is formed by running 64 filters (“kernels”) of size 3 on its input and is activated by a leaky rectified linear unit with a negative slope of 0.1. The batch normalization is applied after each activation to avoid overfitting and improve generalization to new data. The “bottleneck” layer for representing the latent vector is a fully connected layer with the number of neurons equal to the specified number of latent dimensions. \n",
        "\n",
        "<img src=\"https://drive.google.com/uc?export=view&id=18cvXfDdpy1Ij-p1T-jALa_nBZ0iRsalW\" width=800 px><br><br>\n",
        "\n",
        "\n",
        "The assumption is of course that there is only a small variability of spectral behaviour within each (sub)-image. Here we are going to apply the *imspec* approach to two different datasets: i) SPM BEPS dataset obtained by Kyle Kelley, and ii) STEM EELS dataset obtained by Jordan Hachtel. For the details of training/test data preparation, see [this](https://arxiv.org/pdf/2006.01374.pdf) and [this](https://arxiv.org/pdf/2009.09005.pdf) papers.\n",
        "\n",
        "\n",
        "---\n",
        "\n",
        "\n",
        "\n",
        "\n"
      ]
    },
    {
      "cell_type": "markdown",
      "metadata": {
        "id": "eAV1Jun1k4xo"
      },
      "source": [
        "Install AtomAI:"
      ]
    },
    {
      "cell_type": "code",
      "metadata": {
        "id": "RTTKRtL4rb7C"
      },
      "source": [
        "!pip install atomai"
      ],
      "execution_count": null,
      "outputs": []
    },
    {
      "cell_type": "markdown",
      "metadata": {
        "id": "hLMdVgNctiZw"
      },
      "source": [
        "Imports:"
      ]
    },
    {
      "cell_type": "code",
      "metadata": {
        "id": "aMbJ68Wytb-1"
      },
      "source": [
        "import atomai as aoi\n",
        "import numpy as np\n",
        "import matplotlib.pyplot as plt"
      ],
      "execution_count": null,
      "outputs": []
    },
    {
      "cell_type": "markdown",
      "metadata": {
        "id": "gBUTYEG0k5fJ"
      },
      "source": [
        "(Down)load training data:"
      ]
    },
    {
      "cell_type": "markdown",
      "metadata": {
        "id": "n-XcBsKoXixq"
      },
      "source": []
    },
    {
      "cell_type": "markdown",
      "metadata": {
        "id": "j1jk_lsQU7H6"
      },
      "source": [
        "## Application to SPM BEPS data"
      ]
    },
    {
      "cell_type": "markdown",
      "metadata": {
        "id": "IfQrBpnDU1Em"
      },
      "source": [
        "(Down)load training data:"
      ]
    },
    {
      "cell_type": "code",
      "metadata": {
        "colab": {
          "base_uri": "https://localhost:8080/"
        },
        "id": "LYchGqCQvz-m",
        "outputId": "27d8def5-d674-459a-a1ac-c230b93b7863"
      },
      "source": [
        "!wget -O \"imspec_data.npz\" https://www.dropbox.com/s/os0weihai4l1kf8/im2spec.zip?dl=1\n",
        "\n",
        "dataset = np.load('imspec_data.npz')\n",
        "imgs = dataset['im2spec_images']\n",
        "spectra = dataset['im2spec_spectra']\n",
        "specval = dataset['im2spec_specval']"
      ],
      "execution_count": null,
      "outputs": [
        {
          "output_type": "stream",
          "text": [
            "--2021-04-21 04:00:28--  https://www.dropbox.com/s/os0weihai4l1kf8/im2spec.zip?dl=1\n",
            "Resolving www.dropbox.com (www.dropbox.com)... 162.125.1.18, 2620:100:601a:18::a27d:712\n",
            "Connecting to www.dropbox.com (www.dropbox.com)|162.125.1.18|:443... connected.\n",
            "HTTP request sent, awaiting response... 301 Moved Permanently\n",
            "Location: /s/dl/os0weihai4l1kf8/im2spec.zip [following]\n",
            "--2021-04-21 04:00:28--  https://www.dropbox.com/s/dl/os0weihai4l1kf8/im2spec.zip\n",
            "Reusing existing connection to www.dropbox.com:443.\n",
            "HTTP request sent, awaiting response... 302 Found\n",
            "Location: https://uc97cc0d216ef642e298d41cd6aa.dl.dropboxusercontent.com/cd/0/get/BND-jcP2JPhHoZ77z_vR-bTPP3HQhIcBfLf9V3LQCrTCFxVJGKb1Mvs9_qBz9gzqaQHsaNdRu5N3pvPkDMdpxnh4pdrOV3CgQGHWW7I784DmJ5KUd9pM58GEli17puVh8TDAqXM6CCdXQssw30iBzAWt/file?dl=1# [following]\n",
            "--2021-04-21 04:00:29--  https://uc97cc0d216ef642e298d41cd6aa.dl.dropboxusercontent.com/cd/0/get/BND-jcP2JPhHoZ77z_vR-bTPP3HQhIcBfLf9V3LQCrTCFxVJGKb1Mvs9_qBz9gzqaQHsaNdRu5N3pvPkDMdpxnh4pdrOV3CgQGHWW7I784DmJ5KUd9pM58GEli17puVh8TDAqXM6CCdXQssw30iBzAWt/file?dl=1\n",
            "Resolving uc97cc0d216ef642e298d41cd6aa.dl.dropboxusercontent.com (uc97cc0d216ef642e298d41cd6aa.dl.dropboxusercontent.com)... 162.125.1.15, 2620:100:601a:15::a27d:70f\n",
            "Connecting to uc97cc0d216ef642e298d41cd6aa.dl.dropboxusercontent.com (uc97cc0d216ef642e298d41cd6aa.dl.dropboxusercontent.com)|162.125.1.15|:443... connected.\n",
            "HTTP request sent, awaiting response... 200 OK\n",
            "Length: 467788 (457K) [application/binary]\n",
            "Saving to: ‘imspec_data.npz’\n",
            "\n",
            "imspec_data.npz     100%[===================>] 456.82K  --.-KB/s    in 0.03s   \n",
            "\n",
            "2021-04-21 04:00:29 (13.5 MB/s) - ‘imspec_data.npz’ saved [467788/467788]\n",
            "\n"
          ],
          "name": "stdout"
        }
      ]
    },
    {
      "cell_type": "markdown",
      "metadata": {
        "id": "jUeeqy58VCEo"
      },
      "source": [
        "Visualize individual image spectra pairs:"
      ]
    },
    {
      "cell_type": "code",
      "metadata": {
        "colab": {
          "base_uri": "https://localhost:8080/",
          "height": 283
        },
        "id": "SmcZaGOzVFa_",
        "outputId": "d03114a2-4a35-4d00-e56f-e5fa4f91dc9b"
      },
      "source": [
        "k = 35\n",
        "_, (ax1, ax2) = plt.subplots(1, 2, figsize=(9, 4))\n",
        "ax1.imshow(imgs[k], cmap='gray')\n",
        "ax2.plot(specval[0, :64], spectra[k])"
      ],
      "execution_count": null,
      "outputs": [
        {
          "output_type": "execute_result",
          "data": {
            "text/plain": [
              "[<matplotlib.lines.Line2D at 0x7f86019c43d0>]"
            ]
          },
          "metadata": {
            "tags": []
          },
          "execution_count": 32
        },
        {
          "output_type": "display_data",
          "data": {
            "image/png": "[encoded data removed]",
            "text/plain": [
              "<Figure size 648x288 with 2 Axes>"
            ]
          },
          "metadata": {
            "tags": [],
            "needs_background": "light"
          }
        }
      ]
    },
    {
      "cell_type": "markdown",
      "metadata": {
        "id": "Xdx-kP9E60SH"
      },
      "source": [
        "Train-test split:"
      ]
    },
    {
      "cell_type": "code",
      "metadata": {
        "id": "ejgyv6Fd3EEo"
      },
      "source": [
        "imgs_train, spectra_train, imgs_test, spectra_test = aoi.utils.data_split(imgs, spectra, format_out=\"torch_float\")"
      ],
      "execution_count": null,
      "outputs": []
    },
    {
      "cell_type": "markdown",
      "metadata": {
        "id": "-HzP6F7xWcaC"
      },
      "source": [
        "Initialize and train ImSpec model:"
      ]
    },
    {
      "cell_type": "code",
      "metadata": {
        "colab": {
          "base_uri": "https://localhost:8080/",
          "height": 1000
        },
        "id": "vO_RmdtD3MCq",
        "outputId": "589339b7-25cd-45ae-8500-fb1d79dab9a9"
      },
      "source": [
        "in_dim = (16, 16)\n",
        "out_dim = (64,)\n",
        "\n",
        "model = aoi.models.ImSpec(in_dim, out_dim, latent_dim=10, seed=2)\n",
        "\n",
        "model.fit(imgs_train, spectra_train, imgs_test, spectra_test,  # training data\n",
        "          full_epoch=True, training_cycles=120, swa=True, batch_norm=True)  # training parameters"
      ],
      "execution_count": null,
      "outputs": [
        {
          "output_type": "stream",
          "text": [
            "/usr/local/lib/python3.7/dist-packages/atomai/utils/preproc.py:89: UserWarning: Adding a channel dimension of 1 to training images\n",
            "  UserWarning)\n",
            "/usr/local/lib/python3.7/dist-packages/atomai/utils/preproc.py:94: UserWarning: Adding a channel dimension of 1 to test images\n",
            "  UserWarning)\n",
            "/usr/local/lib/python3.7/dist-packages/atomai/utils/preproc.py:99: UserWarning: Adding a channel dimension of 1 to training spectra\n",
            "  UserWarning)\n",
            "/usr/local/lib/python3.7/dist-packages/atomai/utils/preproc.py:104: UserWarning: Adding a channel dimension of 1 to test spectra\n",
            "  UserWarning)\n"
          ],
          "name": "stderr"
        },
        {
          "output_type": "stream",
          "text": [
            "Epoch 1/120 ... Training loss: 26.0838 ... Test loss: 26.0948 ... GPU memory usage: 981/16280\n",
            "Epoch 2/120 ... Training loss: 24.926 ... Test loss: 24.4757 ... GPU memory usage: 981/16280\n",
            "Epoch 3/120 ... Training loss: 24.41 ... Test loss: 24.4639 ... GPU memory usage: 981/16280\n",
            "Epoch 4/120 ... Training loss: 24.091 ... Test loss: 24.2706 ... GPU memory usage: 981/16280\n",
            "Epoch 5/120 ... Training loss: 23.5924 ... Test loss: 24.0812 ... GPU memory usage: 981/16280\n",
            "Epoch 6/120 ... Training loss: 23.1415 ... Test loss: 23.0834 ... GPU memory usage: 981/16280\n",
            "Epoch 7/120 ... Training loss: 22.6777 ... Test loss: 22.88 ... GPU memory usage: 981/16280\n",
            "Epoch 8/120 ... Training loss: 22.3535 ... Test loss: 22.0157 ... GPU memory usage: 981/16280\n",
            "Epoch 9/120 ... Training loss: 21.8291 ... Test loss: 21.9476 ... GPU memory usage: 981/16280\n",
            "Epoch 10/120 ... Training loss: 21.4348 ... Test loss: 21.1658 ... GPU memory usage: 981/16280\n",
            "Epoch 11/120 ... Training loss: 21.0787 ... Test loss: 21.1337 ... GPU memory usage: 981/16280\n",
            "Epoch 12/120 ... Training loss: 20.5769 ... Test loss: 20.7975 ... GPU memory usage: 981/16280\n",
            "Epoch 13/120 ... Training loss: 20.2417 ... Test loss: 19.1108 ... GPU memory usage: 981/16280\n",
            "Epoch 14/120 ... Training loss: 19.8889 ... Test loss: 19.5165 ... GPU memory usage: 981/16280\n",
            "Epoch 15/120 ... Training loss: 19.3676 ... Test loss: 19.4582 ... GPU memory usage: 981/16280\n",
            "Epoch 16/120 ... Training loss: 18.9149 ... Test loss: 18.9698 ... GPU memory usage: 981/16280\n",
            "Epoch 17/120 ... Training loss: 18.393 ... Test loss: 17.9682 ... GPU memory usage: 981/16280\n",
            "Epoch 18/120 ... Training loss: 18.063 ... Test loss: 17.3815 ... GPU memory usage: 981/16280\n",
            "Epoch 19/120 ... Training loss: 17.6653 ... Test loss: 17.2306 ... GPU memory usage: 981/16280\n",
            "Epoch 20/120 ... Training loss: 17.2933 ... Test loss: 16.899 ... GPU memory usage: 981/16280\n",
            "Epoch 21/120 ... Training loss: 16.8082 ... Test loss: 17.0282 ... GPU memory usage: 981/16280\n",
            "Epoch 22/120 ... Training loss: 16.3377 ... Test loss: 15.8341 ... GPU memory usage: 981/16280\n",
            "Epoch 23/120 ... Training loss: 16.0921 ... Test loss: 16.0757 ... GPU memory usage: 981/16280\n",
            "Epoch 24/120 ... Training loss: 15.61 ... Test loss: 15.4635 ... GPU memory usage: 981/16280\n",
            "Epoch 25/120 ... Training loss: 15.1619 ... Test loss: 15.4732 ... GPU memory usage: 981/16280\n",
            "Epoch 26/120 ... Training loss: 14.7779 ... Test loss: 14.8568 ... GPU memory usage: 981/16280\n",
            "Epoch 27/120 ... Training loss: 14.3533 ... Test loss: 14.4267 ... GPU memory usage: 981/16280\n",
            "Epoch 28/120 ... Training loss: 13.9195 ... Test loss: 14.1726 ... GPU memory usage: 981/16280\n",
            "Epoch 29/120 ... Training loss: 13.5876 ... Test loss: 13.5363 ... GPU memory usage: 981/16280\n",
            "Epoch 30/120 ... Training loss: 13.1337 ... Test loss: 13.0175 ... GPU memory usage: 981/16280\n",
            "Epoch 31/120 ... Training loss: 12.7201 ... Test loss: 12.4708 ... GPU memory usage: 981/16280\n",
            "Epoch 32/120 ... Training loss: 12.3284 ... Test loss: 12.2032 ... GPU memory usage: 981/16280\n",
            "Epoch 33/120 ... Training loss: 11.9327 ... Test loss: 11.4412 ... GPU memory usage: 981/16280\n",
            "Epoch 34/120 ... Training loss: 11.5698 ... Test loss: 11.4932 ... GPU memory usage: 981/16280\n",
            "Epoch 35/120 ... Training loss: 11.1174 ... Test loss: 10.9051 ... GPU memory usage: 981/16280\n",
            "Epoch 36/120 ... Training loss: 10.9044 ... Test loss: 10.9379 ... GPU memory usage: 981/16280\n",
            "Epoch 37/120 ... Training loss: 10.4524 ... Test loss: 10.9275 ... GPU memory usage: 981/16280\n",
            "Epoch 38/120 ... Training loss: 10.0911 ... Test loss: 10.4045 ... GPU memory usage: 981/16280\n",
            "Epoch 39/120 ... Training loss: 9.7378 ... Test loss: 9.9635 ... GPU memory usage: 981/16280\n",
            "Epoch 40/120 ... Training loss: 9.4101 ... Test loss: 10.0723 ... GPU memory usage: 981/16280\n",
            "Epoch 41/120 ... Training loss: 9.0787 ... Test loss: 9.8695 ... GPU memory usage: 981/16280\n",
            "Epoch 42/120 ... Training loss: 8.7042 ... Test loss: 8.4855 ... GPU memory usage: 981/16280\n",
            "Epoch 43/120 ... Training loss: 8.3528 ... Test loss: 8.1501 ... GPU memory usage: 981/16280\n",
            "Epoch 44/120 ... Training loss: 7.953 ... Test loss: 8.5104 ... GPU memory usage: 981/16280\n",
            "Epoch 45/120 ... Training loss: 7.7557 ... Test loss: 7.5974 ... GPU memory usage: 981/16280\n",
            "Epoch 46/120 ... Training loss: 7.4596 ... Test loss: 7.4564 ... GPU memory usage: 981/16280\n",
            "Epoch 47/120 ... Training loss: 7.1424 ... Test loss: 7.1106 ... GPU memory usage: 981/16280\n",
            "Epoch 48/120 ... Training loss: 6.8462 ... Test loss: 6.5644 ... GPU memory usage: 981/16280\n",
            "Epoch 49/120 ... Training loss: 6.5298 ... Test loss: 6.6524 ... GPU memory usage: 981/16280\n",
            "Epoch 50/120 ... Training loss: 6.2609 ... Test loss: 6.4737 ... GPU memory usage: 981/16280\n",
            "Epoch 51/120 ... Training loss: 5.9957 ... Test loss: 6.471 ... GPU memory usage: 981/16280\n",
            "Epoch 52/120 ... Training loss: 5.6969 ... Test loss: 5.8746 ... GPU memory usage: 981/16280\n",
            "Epoch 53/120 ... Training loss: 5.4868 ... Test loss: 5.9441 ... GPU memory usage: 981/16280\n",
            "Epoch 54/120 ... Training loss: 5.199 ... Test loss: 5.6305 ... GPU memory usage: 981/16280\n",
            "Epoch 55/120 ... Training loss: 5.0123 ... Test loss: 5.7712 ... GPU memory usage: 981/16280\n",
            "Epoch 56/120 ... Training loss: 4.7149 ... Test loss: 5.0534 ... GPU memory usage: 981/16280\n",
            "Epoch 57/120 ... Training loss: 4.54 ... Test loss: 5.124 ... GPU memory usage: 981/16280\n",
            "Epoch 58/120 ... Training loss: 4.2897 ... Test loss: 4.6482 ... GPU memory usage: 981/16280\n",
            "Epoch 59/120 ... Training loss: 4.1423 ... Test loss: 4.4747 ... GPU memory usage: 981/16280\n",
            "Epoch 60/120 ... Training loss: 3.8511 ... Test loss: 4.1836 ... GPU memory usage: 981/16280\n",
            "Epoch 61/120 ... Training loss: 3.6584 ... Test loss: 4.0994 ... GPU memory usage: 981/16280\n",
            "Epoch 62/120 ... Training loss: 3.4721 ... Test loss: 3.6741 ... GPU memory usage: 981/16280\n",
            "Epoch 63/120 ... Training loss: 3.3538 ... Test loss: 3.3885 ... GPU memory usage: 981/16280\n",
            "Epoch 64/120 ... Training loss: 3.1662 ... Test loss: 3.3341 ... GPU memory usage: 981/16280\n",
            "Epoch 65/120 ... Training loss: 3.0493 ... Test loss: 3.2727 ... GPU memory usage: 981/16280\n",
            "Epoch 66/120 ... Training loss: 2.8363 ... Test loss: 3.3019 ... GPU memory usage: 981/16280\n",
            "Epoch 67/120 ... Training loss: 2.6736 ... Test loss: 2.6775 ... GPU memory usage: 981/16280\n",
            "Epoch 68/120 ... Training loss: 2.5067 ... Test loss: 3.1844 ... GPU memory usage: 981/16280\n",
            "Epoch 69/120 ... Training loss: 2.3839 ... Test loss: 2.6783 ... GPU memory usage: 981/16280\n",
            "Epoch 70/120 ... Training loss: 2.2345 ... Test loss: 2.5806 ... GPU memory usage: 981/16280\n",
            "Epoch 71/120 ... Training loss: 2.1569 ... Test loss: 2.1617 ... GPU memory usage: 981/16280\n",
            "Epoch 72/120 ... Training loss: 2.028 ... Test loss: 2.3399 ... GPU memory usage: 981/16280\n",
            "Epoch 73/120 ... Training loss: 1.9085 ... Test loss: 2.2703 ... GPU memory usage: 981/16280\n",
            "Epoch 74/120 ... Training loss: 1.7583 ... Test loss: 2.3976 ... GPU memory usage: 981/16280\n",
            "Epoch 75/120 ... Training loss: 1.7037 ... Test loss: 2.3985 ... GPU memory usage: 981/16280\n",
            "Epoch 76/120 ... Training loss: 1.5396 ... Test loss: 1.8525 ... GPU memory usage: 981/16280\n",
            "Epoch 77/120 ... Training loss: 1.5383 ... Test loss: 1.6827 ... GPU memory usage: 981/16280\n",
            "Epoch 78/120 ... Training loss: 1.422 ... Test loss: 1.87 ... GPU memory usage: 981/16280\n",
            "Epoch 79/120 ... Training loss: 1.3116 ... Test loss: 1.9408 ... GPU memory usage: 981/16280\n",
            "Epoch 80/120 ... Training loss: 1.3278 ... Test loss: 1.7252 ... GPU memory usage: 981/16280\n",
            "Epoch 81/120 ... Training loss: 1.1651 ... Test loss: 1.69 ... GPU memory usage: 981/16280\n",
            "Epoch 82/120 ... Training loss: 1.1245 ... Test loss: 1.6214 ... GPU memory usage: 981/16280\n",
            "Epoch 83/120 ... Training loss: 1.0723 ... Test loss: 1.3758 ... GPU memory usage: 981/16280\n",
            "Epoch 84/120 ... Training loss: 1.0148 ... Test loss: 1.6242 ... GPU memory usage: 981/16280\n",
            "Epoch 85/120 ... Training loss: 0.9405 ... Test loss: 1.4928 ... GPU memory usage: 981/16280\n",
            "Epoch 86/120 ... Training loss: 0.9087 ... Test loss: 1.6245 ... GPU memory usage: 981/16280\n",
            "Epoch 87/120 ... Training loss: 0.8193 ... Test loss: 1.3515 ... GPU memory usage: 981/16280\n",
            "Epoch 88/120 ... Training loss: 0.7562 ... Test loss: 1.3144 ... GPU memory usage: 981/16280\n",
            "Epoch 89/120 ... Training loss: 0.6997 ... Test loss: 1.1532 ... GPU memory usage: 981/16280\n",
            "Epoch 90/120 ... Training loss: 0.6622 ... Test loss: 1.2305 ... GPU memory usage: 981/16280\n",
            "Epoch 91/120 ... Training loss: 0.6472 ... Test loss: 1.139 ... GPU memory usage: 981/16280\n",
            "Epoch 92/120 ... Training loss: 0.6182 ... Test loss: 1.2257 ... GPU memory usage: 981/16280\n",
            "Epoch 93/120 ... Training loss: 0.5836 ... Test loss: 1.2599 ... GPU memory usage: 981/16280\n",
            "Epoch 94/120 ... Training loss: 0.5434 ... Test loss: 1.2798 ... GPU memory usage: 981/16280\n",
            "Epoch 95/120 ... Training loss: 0.5289 ... Test loss: 1.1831 ... GPU memory usage: 981/16280\n",
            "Epoch 96/120 ... Training loss: 0.4761 ... Test loss: 0.9986 ... GPU memory usage: 981/16280\n",
            "Epoch 97/120 ... Training loss: 0.4549 ... Test loss: 1.07 ... GPU memory usage: 981/16280\n",
            "Epoch 98/120 ... Training loss: 0.4425 ... Test loss: 1.0147 ... GPU memory usage: 981/16280\n",
            "Epoch 99/120 ... Training loss: 0.421 ... Test loss: 1.0654 ... GPU memory usage: 981/16280\n",
            "Epoch 100/120 ... Training loss: 0.3901 ... Test loss: 1.0116 ... GPU memory usage: 981/16280\n",
            "Epoch 101/120 ... Training loss: 0.3705 ... Test loss: 1.0333 ... GPU memory usage: 981/16280\n",
            "Epoch 102/120 ... Training loss: 0.3538 ... Test loss: 0.9831 ... GPU memory usage: 981/16280\n",
            "Epoch 103/120 ... Training loss: 0.336 ... Test loss: 0.9949 ... GPU memory usage: 981/16280\n",
            "Epoch 104/120 ... Training loss: 0.3167 ... Test loss: 0.9625 ... GPU memory usage: 981/16280\n",
            "Epoch 105/120 ... Training loss: 0.3142 ... Test loss: 1.0042 ... GPU memory usage: 981/16280\n",
            "Epoch 106/120 ... Training loss: 0.2883 ... Test loss: 0.8447 ... GPU memory usage: 981/16280\n",
            "Epoch 107/120 ... Training loss: 0.2877 ... Test loss: 1.0012 ... GPU memory usage: 981/16280\n",
            "Epoch 108/120 ... Training loss: 0.3277 ... Test loss: 0.8908 ... GPU memory usage: 981/16280\n",
            "Epoch 109/120 ... Training loss: 0.3083 ... Test loss: 0.8435 ... GPU memory usage: 981/16280\n",
            "Epoch 110/120 ... Training loss: 0.2869 ... Test loss: 0.9562 ... GPU memory usage: 981/16280\n",
            "Epoch 111/120 ... Training loss: 0.2483 ... Test loss: 0.8806 ... GPU memory usage: 981/16280\n",
            "Epoch 112/120 ... Training loss: 0.2251 ... Test loss: 0.9325 ... GPU memory usage: 981/16280\n",
            "Epoch 113/120 ... Training loss: 0.2333 ... Test loss: 1.013 ... GPU memory usage: 981/16280\n",
            "Epoch 114/120 ... Training loss: 0.2671 ... Test loss: 0.9755 ... GPU memory usage: 981/16280\n",
            "Epoch 115/120 ... Training loss: 0.2279 ... Test loss: 0.8998 ... GPU memory usage: 981/16280\n",
            "Epoch 116/120 ... Training loss: 0.2201 ... Test loss: 0.8449 ... GPU memory usage: 981/16280\n",
            "Epoch 117/120 ... Training loss: 0.1894 ... Test loss: 0.8561 ... GPU memory usage: 981/16280\n",
            "Epoch 118/120 ... Training loss: 0.1958 ... Test loss: 0.944 ... GPU memory usage: 981/16280\n",
            "Epoch 119/120 ... Training loss: 0.1665 ... Test loss: 0.8976 ... GPU memory usage: 981/16280\n",
            "Epoch 120/120 ... Training loss: 0.1703 ... Test loss: 0.9409 ... GPU memory usage: 981/16280\n",
            "Performing stochastic weights averaging...\n",
            "Model (final state) evaluation loss: 0.8244\n",
            "Plotting training history\n"
          ],
          "name": "stdout"
        },
        {
          "output_type": "display_data",
          "data": {
            "image/png": "[encoded data removed]",
            "text/plain": [
              "<Figure size 432x432 with 1 Axes>"
            ]
          },
          "metadata": {
            "tags": [],
            "needs_background": "light"
          }
        }
      ]
    },
    {
      "cell_type": "markdown",
      "metadata": {
        "id": "PyGLIjMn-5j4"
      },
      "source": [
        "Make a prediction with the trained model:"
      ]
    },
    {
      "cell_type": "code",
      "metadata": {
        "colab": {
          "base_uri": "https://localhost:8080/"
        },
        "id": "mBGZBXnz3Qbw",
        "outputId": "b78af45e-8c24-4107-c465-0aec9012bbe3"
      },
      "source": [
        "prediction = model.predict(imgs_test, norm=False)"
      ],
      "execution_count": null,
      "outputs": [
        {
          "output_type": "stream",
          "text": [
            "Batch 10/10\n",
            "174 images were decoded in approximately 0.5655 seconds\n"
          ],
          "name": "stdout"
        }
      ]
    },
    {
      "cell_type": "markdown",
      "metadata": {
        "id": "b_yeyL-5-76U"
      },
      "source": [
        "Visualize predicted spectra for selected test images:\n",
        "\n",
        "(note that predictions get improved as if we train longer)"
      ]
    },
    {
      "cell_type": "code",
      "metadata": {
        "colab": {
          "base_uri": "https://localhost:8080/",
          "height": 283
        },
        "id": "lsrOTx-O4H6X",
        "outputId": "75c7a717-7708-4a8b-f0f4-c43f1e228a08"
      },
      "source": [
        "k = 150\n",
        "\n",
        "_, (ax1, ax2) = plt.subplots(1, 2, figsize=(10, 4))\n",
        "ax1.imshow(imgs_test[k], cmap='gray', label=\"Input image\")\n",
        "ax2.plot(specval[0,:64], spectra_test[k], label=\"Ground truth\")\n",
        "ax2.plot(specval[0,:64], prediction[k], label=\"Prediction\")\n",
        "plt.legend()"
      ],
      "execution_count": null,
      "outputs": [
        {
          "output_type": "execute_result",
          "data": {
            "text/plain": [
              "<matplotlib.legend.Legend at 0x7f8602a606d0>"
            ]
          },
          "metadata": {
            "tags": []
          },
          "execution_count": 61
        },
        {
          "output_type": "display_data",
          "data": {
            "image/png": "[encoded data removed]",
            "text/plain": [
              "<Figure size 720x288 with 2 Axes>"
            ]
          },
          "metadata": {
            "tags": [],
            "needs_background": "light"
          }
        }
      ]
    },
    {
      "cell_type": "markdown",
      "metadata": {
        "id": "8qdxW4ufWpa8"
      },
      "source": [
        "## Application to STEM EELS data"
      ]
    },
    {
      "cell_type": "markdown",
      "metadata": {
        "id": "yRubayNbWwnr"
      },
      "source": [
        "(Down)load data:"
      ]
    },
    {
      "cell_type": "code",
      "metadata": {
        "id": "w1Afe3wt8mM1",
        "colab": {
          "base_uri": "https://localhost:8080/"
        },
        "outputId": "235a16c2-a4e5-44ec-e041-eeff7928b14b"
      },
      "source": [
        "!wget -O 'eels_imspec.npz' https://www.dropbox.com/s/n3gmmpr50igelyc/eels_imspec.npz?dl=1"
      ],
      "execution_count": null,
      "outputs": [
        {
          "output_type": "stream",
          "text": [
            "--2021-04-21 03:37:16--  https://www.dropbox.com/s/n3gmmpr50igelyc/eels_imspec.npz?dl=1\n",
            "Resolving www.dropbox.com (www.dropbox.com)... 162.125.1.18, 2620:100:6017:18::a27d:212\n",
            "Connecting to www.dropbox.com (www.dropbox.com)|162.125.1.18|:443... connected.\n",
            "HTTP request sent, awaiting response... 301 Moved Permanently\n",
            "Location: /s/dl/n3gmmpr50igelyc/eels_imspec.npz [following]\n",
            "--2021-04-21 03:37:16--  https://www.dropbox.com/s/dl/n3gmmpr50igelyc/eels_imspec.npz\n",
            "Reusing existing connection to www.dropbox.com:443.\n",
            "HTTP request sent, awaiting response... 302 Found\n",
            "Location: https://uc20ff17c0044a8cdb8efc6d803d.dl.dropboxusercontent.com/cd/0/get/BNA4OBkI5sU7fW53mbzBaW-lhsQcQYjpMTCP4lQxgIpE6bNeEjR485WA9IApklFjdRhYOUCxDBuXUd4lMKY8mhU50PHri4pC8mIu_vZLvcuEf-sekPu7TlCYwdS3LkQPTAy6J4ZaM_-o-_f2piPWx0zP/file?dl=1# [following]\n",
            "--2021-04-21 03:37:17--  https://uc20ff17c0044a8cdb8efc6d803d.dl.dropboxusercontent.com/cd/0/get/BNA4OBkI5sU7fW53mbzBaW-lhsQcQYjpMTCP4lQxgIpE6bNeEjR485WA9IApklFjdRhYOUCxDBuXUd4lMKY8mhU50PHri4pC8mIu_vZLvcuEf-sekPu7TlCYwdS3LkQPTAy6J4ZaM_-o-_f2piPWx0zP/file?dl=1\n",
            "Resolving uc20ff17c0044a8cdb8efc6d803d.dl.dropboxusercontent.com (uc20ff17c0044a8cdb8efc6d803d.dl.dropboxusercontent.com)... 162.125.1.15, 2620:100:601a:15::a27d:70f\n",
            "Connecting to uc20ff17c0044a8cdb8efc6d803d.dl.dropboxusercontent.com (uc20ff17c0044a8cdb8efc6d803d.dl.dropboxusercontent.com)|162.125.1.15|:443... connected.\n",
            "HTTP request sent, awaiting response... 200 OK\n",
            "Length: 50041586 (48M) [application/binary]\n",
            "Saving to: ‘eels_imspec.npz’\n",
            "\n",
            "eels_imspec.npz     100%[===================>]  47.72M  29.2MB/s    in 1.6s    \n",
            "\n",
            "2021-04-21 03:37:19 (29.2 MB/s) - ‘eels_imspec.npz’ saved [50041586/50041586]\n",
            "\n"
          ],
          "name": "stdout"
        }
      ]
    },
    {
      "cell_type": "code",
      "metadata": {
        "id": "gE_KLCsRMCjz"
      },
      "source": [
        "dataset = np.load('eels_imspec.npz')\n",
        "imgs = dataset['imgs']\n",
        "spectra = dataset['spectra']\n",
        "specval = dataset['specval']"
      ],
      "execution_count": null,
      "outputs": []
    },
    {
      "cell_type": "code",
      "metadata": {
        "colab": {
          "base_uri": "https://localhost:8080/",
          "height": 283
        },
        "id": "d22y33eAW1eP",
        "outputId": "f2cadc2d-bcd6-4ef7-dd1e-906826394198"
      },
      "source": [
        "k = 12\n",
        "_, (ax1, ax2) = plt.subplots(1, 2, figsize=(9, 4))\n",
        "ax1.imshow(imgs[k], cmap='gray')\n",
        "ax2.plot(specval, spectra[k])"
      ],
      "execution_count": null,
      "outputs": [
        {
          "output_type": "execute_result",
          "data": {
            "text/plain": [
              "[<matplotlib.lines.Line2D at 0x7f860a6a6510>]"
            ]
          },
          "metadata": {
            "tags": []
          },
          "execution_count": 11
        },
        {
          "output_type": "display_data",
          "data": {
            "image/png": "[encoded data removed]",
            "text/plain": [
              "<Figure size 648x288 with 2 Axes>"
            ]
          },
          "metadata": {
            "tags": [],
            "needs_background": "light"
          }
        }
      ]
    },
    {
      "cell_type": "markdown",
      "metadata": {
        "id": "M5Yxzx9iW2rR"
      },
      "source": [
        "Train-test split:"
      ]
    },
    {
      "cell_type": "code",
      "metadata": {
        "id": "6it4KwtaMKGF"
      },
      "source": [
        "imgs_train, spectra_train, imgs_test, spectra_test = aoi.utils.data_split(imgs, spectra, format_out=\"torch_float\")"
      ],
      "execution_count": null,
      "outputs": []
    },
    {
      "cell_type": "markdown",
      "metadata": {
        "id": "3KML-hO-W4aj"
      },
      "source": [
        "Initialize and train ImSpec model (same parameters as above):"
      ]
    },
    {
      "cell_type": "code",
      "metadata": {
        "colab": {
          "base_uri": "https://localhost:8080/",
          "height": 1000
        },
        "id": "mXS9NFX5MKGF",
        "outputId": "fb87cadd-5071-42a0-9674-52f23e59dfd1"
      },
      "source": [
        "in_dim = (16, 16)\n",
        "out_dim = (2048,)\n",
        "\n",
        "model = aoi.models.ImSpec(in_dim, out_dim, latent_dim=10, seed=2)\n",
        "\n",
        "model.fit(imgs_train, spectra_train, imgs_test, spectra_test,  # training data\n",
        "          full_epoch=True, training_cycles=120, swa=True, batch_norm=True)  # training parameters"
      ],
      "execution_count": null,
      "outputs": [
        {
          "output_type": "stream",
          "text": [
            "/usr/local/lib/python3.7/dist-packages/atomai/utils/preproc.py:89: UserWarning: Adding a channel dimension of 1 to training images\n",
            "  UserWarning)\n",
            "/usr/local/lib/python3.7/dist-packages/atomai/utils/preproc.py:94: UserWarning: Adding a channel dimension of 1 to test images\n",
            "  UserWarning)\n",
            "/usr/local/lib/python3.7/dist-packages/atomai/utils/preproc.py:99: UserWarning: Adding a channel dimension of 1 to training spectra\n",
            "  UserWarning)\n",
            "/usr/local/lib/python3.7/dist-packages/atomai/utils/preproc.py:104: UserWarning: Adding a channel dimension of 1 to test spectra\n",
            "  UserWarning)\n"
          ],
          "name": "stderr"
        },
        {
          "output_type": "stream",
          "text": [
            "Epoch 1/120 ... Training loss: 1.383 ... Test loss: 3.5974 ... GPU memory usage: 1855/16280\n",
            "Epoch 2/120 ... Training loss: 1.1435 ... Test loss: 0.9982 ... GPU memory usage: 1855/16280\n",
            "Epoch 3/120 ... Training loss: 0.9658 ... Test loss: 0.8959 ... GPU memory usage: 1855/16280\n",
            "Epoch 4/120 ... Training loss: 0.8185 ... Test loss: 0.7674 ... GPU memory usage: 1855/16280\n",
            "Epoch 5/120 ... Training loss: 0.6953 ... Test loss: 0.6764 ... GPU memory usage: 1855/16280\n",
            "Epoch 6/120 ... Training loss: 0.5919 ... Test loss: 0.5657 ... GPU memory usage: 1855/16280\n",
            "Epoch 7/120 ... Training loss: 0.5052 ... Test loss: 0.4978 ... GPU memory usage: 1855/16280\n",
            "Epoch 8/120 ... Training loss: 0.4321 ... Test loss: 0.4029 ... GPU memory usage: 1855/16280\n",
            "Epoch 9/120 ... Training loss: 0.3704 ... Test loss: 0.3597 ... GPU memory usage: 1855/16280\n",
            "Epoch 10/120 ... Training loss: 0.3183 ... Test loss: 0.3174 ... GPU memory usage: 1855/16280\n",
            "Epoch 11/120 ... Training loss: 0.274 ... Test loss: 0.2716 ... GPU memory usage: 1855/16280\n",
            "Epoch 12/120 ... Training loss: 0.2364 ... Test loss: 0.2447 ... GPU memory usage: 1855/16280\n",
            "Epoch 13/120 ... Training loss: 0.2045 ... Test loss: 0.2017 ... GPU memory usage: 1855/16280\n",
            "Epoch 14/120 ... Training loss: 0.1773 ... Test loss: 0.1755 ... GPU memory usage: 1855/16280\n",
            "Epoch 15/120 ... Training loss: 0.1541 ... Test loss: 0.1614 ... GPU memory usage: 1855/16280\n",
            "Epoch 16/120 ... Training loss: 0.1342 ... Test loss: 0.1323 ... GPU memory usage: 1855/16280\n",
            "Epoch 17/120 ... Training loss: 0.1172 ... Test loss: 0.1152 ... GPU memory usage: 1855/16280\n",
            "Epoch 18/120 ... Training loss: 0.1025 ... Test loss: 0.1022 ... GPU memory usage: 1855/16280\n",
            "Epoch 19/120 ... Training loss: 0.09 ... Test loss: 0.0893 ... GPU memory usage: 1855/16280\n",
            "Epoch 20/120 ... Training loss: 0.0792 ... Test loss: 0.0796 ... GPU memory usage: 1855/16280\n",
            "Epoch 21/120 ... Training loss: 0.0696 ... Test loss: 0.0715 ... GPU memory usage: 1855/16280\n",
            "Epoch 22/120 ... Training loss: 0.0616 ... Test loss: 0.064 ... GPU memory usage: 1855/16280\n",
            "Epoch 23/120 ... Training loss: 0.0544 ... Test loss: 0.0569 ... GPU memory usage: 1855/16280\n",
            "Epoch 24/120 ... Training loss: 0.0483 ... Test loss: 0.0518 ... GPU memory usage: 1855/16280\n",
            "Epoch 25/120 ... Training loss: 0.0429 ... Test loss: 0.0437 ... GPU memory usage: 1855/16280\n",
            "Epoch 26/120 ... Training loss: 0.0381 ... Test loss: 0.0382 ... GPU memory usage: 1855/16280\n",
            "Epoch 27/120 ... Training loss: 0.034 ... Test loss: 0.0343 ... GPU memory usage: 1855/16280\n",
            "Epoch 28/120 ... Training loss: 0.0303 ... Test loss: 0.031 ... GPU memory usage: 1855/16280\n",
            "Epoch 29/120 ... Training loss: 0.0272 ... Test loss: 0.0255 ... GPU memory usage: 1855/16280\n",
            "Epoch 30/120 ... Training loss: 0.0243 ... Test loss: 0.025 ... GPU memory usage: 1855/16280\n",
            "Epoch 31/120 ... Training loss: 0.0218 ... Test loss: 0.0234 ... GPU memory usage: 1855/16280\n",
            "Epoch 32/120 ... Training loss: 0.0195 ... Test loss: 0.0202 ... GPU memory usage: 1855/16280\n",
            "Epoch 33/120 ... Training loss: 0.0176 ... Test loss: 0.0187 ... GPU memory usage: 1855/16280\n",
            "Epoch 34/120 ... Training loss: 0.0158 ... Test loss: 0.0158 ... GPU memory usage: 1855/16280\n",
            "Epoch 35/120 ... Training loss: 0.0142 ... Test loss: 0.0143 ... GPU memory usage: 1855/16280\n",
            "Epoch 36/120 ... Training loss: 0.0128 ... Test loss: 0.0133 ... GPU memory usage: 1855/16280\n",
            "Epoch 37/120 ... Training loss: 0.0115 ... Test loss: 0.0123 ... GPU memory usage: 1855/16280\n",
            "Epoch 38/120 ... Training loss: 0.0104 ... Test loss: 0.011 ... GPU memory usage: 1855/16280\n",
            "Epoch 39/120 ... Training loss: 0.0094 ... Test loss: 0.0098 ... GPU memory usage: 1855/16280\n",
            "Epoch 40/120 ... Training loss: 0.0085 ... Test loss: 0.0087 ... GPU memory usage: 1855/16280\n",
            "Epoch 41/120 ... Training loss: 0.0076 ... Test loss: 0.008 ... GPU memory usage: 1855/16280\n",
            "Epoch 42/120 ... Training loss: 0.0069 ... Test loss: 0.0072 ... GPU memory usage: 1855/16280\n",
            "Epoch 43/120 ... Training loss: 0.0063 ... Test loss: 0.0063 ... GPU memory usage: 1855/16280\n",
            "Epoch 44/120 ... Training loss: 0.0057 ... Test loss: 0.0057 ... GPU memory usage: 1855/16280\n",
            "Epoch 45/120 ... Training loss: 0.0051 ... Test loss: 0.0054 ... GPU memory usage: 1855/16280\n",
            "Epoch 46/120 ... Training loss: 0.0046 ... Test loss: 0.0052 ... GPU memory usage: 1855/16280\n",
            "Epoch 47/120 ... Training loss: 0.0042 ... Test loss: 0.0046 ... GPU memory usage: 1855/16280\n",
            "Epoch 48/120 ... Training loss: 0.0038 ... Test loss: 0.0039 ... GPU memory usage: 1855/16280\n",
            "Epoch 49/120 ... Training loss: 0.0034 ... Test loss: 0.0033 ... GPU memory usage: 1855/16280\n",
            "Epoch 50/120 ... Training loss: 0.0031 ... Test loss: 0.0031 ... GPU memory usage: 1855/16280\n",
            "Epoch 51/120 ... Training loss: 0.0029 ... Test loss: 0.0029 ... GPU memory usage: 1855/16280\n",
            "Epoch 52/120 ... Training loss: 0.0026 ... Test loss: 0.0028 ... GPU memory usage: 1855/16280\n",
            "Epoch 53/120 ... Training loss: 0.0023 ... Test loss: 0.0026 ... GPU memory usage: 1855/16280\n",
            "Epoch 54/120 ... Training loss: 0.0021 ... Test loss: 0.0023 ... GPU memory usage: 1855/16280\n",
            "Epoch 55/120 ... Training loss: 0.0019 ... Test loss: 0.0019 ... GPU memory usage: 1855/16280\n",
            "Epoch 56/120 ... Training loss: 0.0018 ... Test loss: 0.0017 ... GPU memory usage: 1855/16280\n",
            "Epoch 57/120 ... Training loss: 0.0016 ... Test loss: 0.0016 ... GPU memory usage: 1855/16280\n",
            "Epoch 58/120 ... Training loss: 0.0015 ... Test loss: 0.0016 ... GPU memory usage: 1855/16280\n",
            "Epoch 59/120 ... Training loss: 0.0013 ... Test loss: 0.0014 ... GPU memory usage: 1855/16280\n",
            "Epoch 60/120 ... Training loss: 0.0012 ... Test loss: 0.0011 ... GPU memory usage: 1855/16280\n",
            "Epoch 61/120 ... Training loss: 0.0011 ... Test loss: 0.0012 ... GPU memory usage: 1855/16280\n",
            "Epoch 62/120 ... Training loss: 0.001 ... Test loss: 0.001 ... GPU memory usage: 1855/16280\n",
            "Epoch 63/120 ... Training loss: 0.0009 ... Test loss: 0.001 ... GPU memory usage: 1855/16280\n",
            "Epoch 64/120 ... Training loss: 0.0008 ... Test loss: 0.0008 ... GPU memory usage: 1855/16280\n",
            "Epoch 65/120 ... Training loss: 0.0008 ... Test loss: 0.0007 ... GPU memory usage: 1855/16280\n",
            "Epoch 66/120 ... Training loss: 0.0007 ... Test loss: 0.0007 ... GPU memory usage: 1855/16280\n",
            "Epoch 67/120 ... Training loss: 0.0007 ... Test loss: 0.0007 ... GPU memory usage: 1855/16280\n",
            "Epoch 68/120 ... Training loss: 0.0006 ... Test loss: 0.0006 ... GPU memory usage: 1855/16280\n",
            "Epoch 69/120 ... Training loss: 0.0006 ... Test loss: 0.0005 ... GPU memory usage: 1855/16280\n",
            "Epoch 70/120 ... Training loss: 0.0005 ... Test loss: 0.0006 ... GPU memory usage: 1855/16280\n",
            "Epoch 71/120 ... Training loss: 0.0005 ... Test loss: 0.0006 ... GPU memory usage: 1855/16280\n",
            "Epoch 72/120 ... Training loss: 0.0005 ... Test loss: 0.0005 ... GPU memory usage: 1855/16280\n",
            "Epoch 73/120 ... Training loss: 0.0004 ... Test loss: 0.0005 ... GPU memory usage: 1855/16280\n",
            "Epoch 74/120 ... Training loss: 0.0004 ... Test loss: 0.0005 ... GPU memory usage: 1855/16280\n",
            "Epoch 75/120 ... Training loss: 0.0004 ... Test loss: 0.0004 ... GPU memory usage: 1855/16280\n",
            "Epoch 76/120 ... Training loss: 0.0004 ... Test loss: 0.0004 ... GPU memory usage: 1855/16280\n",
            "Epoch 77/120 ... Training loss: 0.0003 ... Test loss: 0.0004 ... GPU memory usage: 1855/16280\n",
            "Epoch 78/120 ... Training loss: 0.0003 ... Test loss: 0.0003 ... GPU memory usage: 1855/16280\n",
            "Epoch 79/120 ... Training loss: 0.0003 ... Test loss: 0.0003 ... GPU memory usage: 1855/16280\n",
            "Epoch 80/120 ... Training loss: 0.0003 ... Test loss: 0.0003 ... GPU memory usage: 1855/16280\n",
            "Epoch 81/120 ... Training loss: 0.0003 ... Test loss: 0.0003 ... GPU memory usage: 1855/16280\n",
            "Epoch 82/120 ... Training loss: 0.0003 ... Test loss: 0.0003 ... GPU memory usage: 1855/16280\n",
            "Epoch 83/120 ... Training loss: 0.0003 ... Test loss: 0.0003 ... GPU memory usage: 1855/16280\n",
            "Epoch 84/120 ... Training loss: 0.0003 ... Test loss: 0.0003 ... GPU memory usage: 1855/16280\n",
            "Epoch 85/120 ... Training loss: 0.0002 ... Test loss: 0.0003 ... GPU memory usage: 1855/16280\n",
            "Epoch 86/120 ... Training loss: 0.0003 ... Test loss: 0.0003 ... GPU memory usage: 1855/16280\n",
            "Epoch 87/120 ... Training loss: 0.0002 ... Test loss: 0.0002 ... GPU memory usage: 1855/16280\n",
            "Epoch 88/120 ... Training loss: 0.0002 ... Test loss: 0.0002 ... GPU memory usage: 1855/16280\n",
            "Epoch 89/120 ... Training loss: 0.0002 ... Test loss: 0.0002 ... GPU memory usage: 1855/16280\n",
            "Epoch 90/120 ... Training loss: 0.0002 ... Test loss: 0.0002 ... GPU memory usage: 1855/16280\n",
            "Epoch 91/120 ... Training loss: 0.0002 ... Test loss: 0.0002 ... GPU memory usage: 1855/16280\n",
            "Epoch 92/120 ... Training loss: 0.0002 ... Test loss: 0.0002 ... GPU memory usage: 1855/16280\n",
            "Epoch 93/120 ... Training loss: 0.0002 ... Test loss: 0.0002 ... GPU memory usage: 1855/16280\n",
            "Epoch 94/120 ... Training loss: 0.0002 ... Test loss: 0.0003 ... GPU memory usage: 1855/16280\n",
            "Epoch 95/120 ... Training loss: 0.0002 ... Test loss: 0.0002 ... GPU memory usage: 1855/16280\n",
            "Epoch 96/120 ... Training loss: 0.0002 ... Test loss: 0.0002 ... GPU memory usage: 1855/16280\n",
            "Epoch 97/120 ... Training loss: 0.0002 ... Test loss: 0.0002 ... GPU memory usage: 1855/16280\n",
            "Epoch 98/120 ... Training loss: 0.0002 ... Test loss: 0.0002 ... GPU memory usage: 1855/16280\n",
            "Epoch 99/120 ... Training loss: 0.0002 ... Test loss: 0.0002 ... GPU memory usage: 1855/16280\n",
            "Epoch 100/120 ... Training loss: 0.0002 ... Test loss: 0.0002 ... GPU memory usage: 1855/16280\n",
            "Epoch 101/120 ... Training loss: 0.0002 ... Test loss: 0.0002 ... GPU memory usage: 1855/16280\n",
            "Epoch 102/120 ... Training loss: 0.0002 ... Test loss: 0.0002 ... GPU memory usage: 1855/16280\n",
            "Epoch 103/120 ... Training loss: 0.0002 ... Test loss: 0.0002 ... GPU memory usage: 1855/16280\n",
            "Epoch 104/120 ... Training loss: 0.0002 ... Test loss: 0.0002 ... GPU memory usage: 1855/16280\n",
            "Epoch 105/120 ... Training loss: 0.0002 ... Test loss: 0.0002 ... GPU memory usage: 1855/16280\n",
            "Epoch 106/120 ... Training loss: 0.0002 ... Test loss: 0.0002 ... GPU memory usage: 1855/16280\n",
            "Epoch 107/120 ... Training loss: 0.0002 ... Test loss: 0.0002 ... GPU memory usage: 1855/16280\n",
            "Epoch 108/120 ... Training loss: 0.0002 ... Test loss: 0.0002 ... GPU memory usage: 1855/16280\n",
            "Epoch 109/120 ... Training loss: 0.0002 ... Test loss: 0.0002 ... GPU memory usage: 1855/16280\n",
            "Epoch 110/120 ... Training loss: 0.0002 ... Test loss: 0.0002 ... GPU memory usage: 1855/16280\n",
            "Epoch 111/120 ... Training loss: 0.0002 ... Test loss: 0.0002 ... GPU memory usage: 1855/16280\n",
            "Epoch 112/120 ... Training loss: 0.0002 ... Test loss: 0.0002 ... GPU memory usage: 1855/16280\n",
            "Epoch 113/120 ... Training loss: 0.0002 ... Test loss: 0.0002 ... GPU memory usage: 1855/16280\n",
            "Epoch 114/120 ... Training loss: 0.0002 ... Test loss: 0.0002 ... GPU memory usage: 1855/16280\n",
            "Epoch 115/120 ... Training loss: 0.0002 ... Test loss: 0.0002 ... GPU memory usage: 1855/16280\n",
            "Epoch 116/120 ... Training loss: 0.0002 ... Test loss: 0.0002 ... GPU memory usage: 1855/16280\n",
            "Epoch 117/120 ... Training loss: 0.0002 ... Test loss: 0.0002 ... GPU memory usage: 1855/16280\n",
            "Epoch 118/120 ... Training loss: 0.0002 ... Test loss: 0.0002 ... GPU memory usage: 1855/16280\n",
            "Epoch 119/120 ... Training loss: 0.0002 ... Test loss: 0.0002 ... GPU memory usage: 1855/16280\n",
            "Epoch 120/120 ... Training loss: 0.0002 ... Test loss: 0.0002 ... GPU memory usage: 1855/16280\n",
            "Performing stochastic weights averaging...\n",
            "Model (final state) evaluation loss: 0.0002\n",
            "Plotting training history\n"
          ],
          "name": "stdout"
        },
        {
          "output_type": "display_data",
          "data": {
            "image/png": "[encoded data removed]",
            "text/plain": [
              "<Figure size 432x432 with 1 Axes>"
            ]
          },
          "metadata": {
            "tags": [],
            "needs_background": "light"
          }
        }
      ]
    },
    {
      "cell_type": "markdown",
      "metadata": {
        "id": "B_m9vjqIUU7O"
      },
      "source": [
        "Make prediciton on test data:"
      ]
    },
    {
      "cell_type": "code",
      "metadata": {
        "colab": {
          "base_uri": "https://localhost:8080/"
        },
        "id": "mQIoPMKwOaYO",
        "outputId": "6ec2fef9-6c46-4780-ab6b-9e28bc7d589d"
      },
      "source": [
        "prediction = model.predict(imgs_test, norm=False)"
      ],
      "execution_count": null,
      "outputs": [
        {
          "output_type": "stream",
          "text": [
            "Batch 10/10\n",
            "408 images were decoded in approximately 1.4325 seconds\n"
          ],
          "name": "stdout"
        }
      ]
    },
    {
      "cell_type": "markdown",
      "metadata": {
        "id": "fnOpYG04UXcG"
      },
      "source": [
        "Visualize for selected test image: "
      ]
    },
    {
      "cell_type": "code",
      "metadata": {
        "colab": {
          "base_uri": "https://localhost:8080/",
          "height": 283
        },
        "id": "ZduPGiZsUM64",
        "outputId": "03f786a3-5fbe-4119-9795-f5f750402b07"
      },
      "source": [
        "k = 10\n",
        "\n",
        "_, (ax1, ax2) = plt.subplots(1, 2, figsize=(10, 4))\n",
        "ax1.imshow(imgs_test[k], cmap='gray', label=\"Input image\")\n",
        "ax2.plot(specval, spectra_test[k], label=\"Ground truth\")\n",
        "ax2.plot(specval, prediction[k], label=\"Prediction\")\n",
        "plt.legend()"
      ],
      "execution_count": null,
      "outputs": [
        {
          "output_type": "execute_result",
          "data": {
            "text/plain": [
              "<matplotlib.legend.Legend at 0x7f860a59e490>"
            ]
          },
          "metadata": {
            "tags": []
          },
          "execution_count": 18
        },
        {
          "output_type": "display_data",
          "data": {
            "image/png": "[encoded data removed]",
            "text/plain": [
              "<Figure size 720x288 with 2 Axes>"
            ]
          },
          "metadata": {
            "tags": [],
            "needs_background": "light"
          }
        }
      ]
    },
    {
      "cell_type": "code",
      "metadata": {
        "id": "osx--biaVQO5"
      },
      "source": [],
      "execution_count": null,
      "outputs": []
    }
  ]
}