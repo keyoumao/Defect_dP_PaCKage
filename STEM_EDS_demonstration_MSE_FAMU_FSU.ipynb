{
  "cells": [
    {
      "cell_type": "markdown",
      "metadata": {
        "id": "view-in-github",
        "colab_type": "text"
      },
      "source": [
        "<a href=\"https://colab.research.google.com/github/keyoumao/Defect_dP_PaCKage/blob/main/STEM_EDS_demonstration_MSE_FAMU_FSU.ipynb\" target=\"_parent\"><img src=\"https://colab.research.google.com/assets/colab-badge.svg\" alt=\"Open In Colab\"/></a>"
      ]
    },
    {
      "cell_type": "markdown",
      "source": [
        "## Basics"
      ],
      "metadata": {
        "id": "Fe9q_x54jQm5"
      }
    },
    {
      "cell_type": "code",
      "source": [
        "import pandas as pd\n",
        "mnist = pd.read_csv(\"https://www.dropbox.com/s/ziifxocfp7dl0j1/mnist.csv?dl=1\")\n",
        "mnist.head()"
      ],
      "metadata": {
        "colab": {
          "base_uri": "https://localhost:8080/",
          "height": 236
        },
        "id": "F4zrOPPIjTfz",
        "outputId": "e01d8601-26b5-4fcc-c3fd-1b144f65e4b1"
      },
      "execution_count": 10,
      "outputs": [
        {
          "output_type": "execute_result",
          "data": {
            "text/plain": [
              "   label  1x1  1x2  1x3  1x4  1x5  1x6  1x7  1x8  1x9  ...  28x19  28x20  \\\n",
              "0      5    0    0    0    0    0    0    0    0    0  ...      0      0   \n",
              "1      0    0    0    0    0    0    0    0    0    0  ...      0      0   \n",
              "2      4    0    0    0    0    0    0    0    0    0  ...      0      0   \n",
              "3      1    0    0    0    0    0    0    0    0    0  ...      0      0   \n",
              "4      9    0    0    0    0    0    0    0    0    0  ...      0      0   \n",
              "\n",
              "   28x21  28x22  28x23  28x24  28x25  28x26  28x27  28x28  \n",
              "0      0      0      0      0      0      0      0      0  \n",
              "1      0      0      0      0      0      0      0      0  \n",
              "2      0      0      0      0      0      0      0      0  \n",
              "3      0      0      0      0      0      0      0      0  \n",
              "4      0      0      0      0      0      0      0      0  \n",
              "\n",
              "[5 rows x 785 columns]"
            ],
            "text/html": [
              "\n",
              "  <div id=\"df-7429d101-aed7-4420-9377-4cae339ba553\">\n",
              "    <div class=\"colab-df-container\">\n",
              "      <div>\n",
              "<style scoped>\n",
              "    .dataframe tbody tr th:only-of-type {\n",
              "        vertical-align: middle;\n",
              "    }\n",
              "\n",
              "    .dataframe tbody tr th {\n",
              "        vertical-align: top;\n",
              "    }\n",
              "\n",
              "    .dataframe thead th {\n",
              "        text-align: right;\n",
              "    }\n",
              "</style>\n",
              "<table border=\"1\" class=\"dataframe\">\n",
              "  <thead>\n",
              "    <tr style=\"text-align: right;\">\n",
              "      <th></th>\n",
              "      <th>label</th>\n",
              "      <th>1x1</th>\n",
              "      <th>1x2</th>\n",
              "      <th>1x3</th>\n",
              "      <th>1x4</th>\n",
              "      <th>1x5</th>\n",
              "      <th>1x6</th>\n",
              "      <th>1x7</th>\n",
              "      <th>1x8</th>\n",
              "      <th>1x9</th>\n",
              "      <th>...</th>\n",
              "      <th>28x19</th>\n",
              "      <th>28x20</th>\n",
              "      <th>28x21</th>\n",
              "      <th>28x22</th>\n",
              "      <th>28x23</th>\n",
              "      <th>28x24</th>\n",
              "      <th>28x25</th>\n",
              "      <th>28x26</th>\n",
              "      <th>28x27</th>\n",
              "      <th>28x28</th>\n",
              "    </tr>\n",
              "  </thead>\n",
              "  <tbody>\n",
              "    <tr>\n",
              "      <th>0</th>\n",
              "      <td>5</td>\n",
              "      <td>0</td>\n",
              "      <td>0</td>\n",
              "      <td>0</td>\n",
              "      <td>0</td>\n",
              "      <td>0</td>\n",
              "      <td>0</td>\n",
              "      <td>0</td>\n",
              "      <td>0</td>\n",
              "      <td>0</td>\n",
              "      <td>...</td>\n",
              "      <td>0</td>\n",
              "      <td>0</td>\n",
              "      <td>0</td>\n",
              "      <td>0</td>\n",
              "      <td>0</td>\n",
              "      <td>0</td>\n",
              "      <td>0</td>\n",
              "      <td>0</td>\n",
              "      <td>0</td>\n",
              "      <td>0</td>\n",
              "    </tr>\n",
              "    <tr>\n",
              "      <th>1</th>\n",
              "      <td>0</td>\n",
              "      <td>0</td>\n",
              "      <td>0</td>\n",
              "      <td>0</td>\n",
              "      <td>0</td>\n",
              "      <td>0</td>\n",
              "      <td>0</td>\n",
              "      <td>0</td>\n",
              "      <td>0</td>\n",
              "      <td>0</td>\n",
              "      <td>...</td>\n",
              "      <td>0</td>\n",
              "      <td>0</td>\n",
              "      <td>0</td>\n",
              "      <td>0</td>\n",
              "      <td>0</td>\n",
              "      <td>0</td>\n",
              "      <td>0</td>\n",
              "      <td>0</td>\n",
              "      <td>0</td>\n",
              "      <td>0</td>\n",
              "    </tr>\n",
              "    <tr>\n",
              "      <th>2</th>\n",
              "      <td>4</td>\n",
              "      <td>0</td>\n",
              "      <td>0</td>\n",
              "      <td>0</td>\n",
              "      <td>0</td>\n",
              "      <td>0</td>\n",
              "      <td>0</td>\n",
              "      <td>0</td>\n",
              "      <td>0</td>\n",
              "      <td>0</td>\n",
              "      <td>...</td>\n",
              "      <td>0</td>\n",
              "      <td>0</td>\n",
              "      <td>0</td>\n",
              "      <td>0</td>\n",
              "      <td>0</td>\n",
              "      <td>0</td>\n",
              "      <td>0</td>\n",
              "      <td>0</td>\n",
              "      <td>0</td>\n",
              "      <td>0</td>\n",
              "    </tr>\n",
              "    <tr>\n",
              "      <th>3</th>\n",
              "      <td>1</td>\n",
              "      <td>0</td>\n",
              "      <td>0</td>\n",
              "      <td>0</td>\n",
              "      <td>0</td>\n",
              "      <td>0</td>\n",
              "      <td>0</td>\n",
              "      <td>0</td>\n",
              "      <td>0</td>\n",
              "      <td>0</td>\n",
              "      <td>...</td>\n",
              "      <td>0</td>\n",
              "      <td>0</td>\n",
              "      <td>0</td>\n",
              "      <td>0</td>\n",
              "      <td>0</td>\n",
              "      <td>0</td>\n",
              "      <td>0</td>\n",
              "      <td>0</td>\n",
              "      <td>0</td>\n",
              "      <td>0</td>\n",
              "    </tr>\n",
              "    <tr>\n",
              "      <th>4</th>\n",
              "      <td>9</td>\n",
              "      <td>0</td>\n",
              "      <td>0</td>\n",
              "      <td>0</td>\n",
              "      <td>0</td>\n",
              "      <td>0</td>\n",
              "      <td>0</td>\n",
              "      <td>0</td>\n",
              "      <td>0</td>\n",
              "      <td>0</td>\n",
              "      <td>...</td>\n",
              "      <td>0</td>\n",
              "      <td>0</td>\n",
              "      <td>0</td>\n",
              "      <td>0</td>\n",
              "      <td>0</td>\n",
              "      <td>0</td>\n",
              "      <td>0</td>\n",
              "      <td>0</td>\n",
              "      <td>0</td>\n",
              "      <td>0</td>\n",
              "    </tr>\n",
              "  </tbody>\n",
              "</table>\n",
              "<p>5 rows × 785 columns</p>\n",
              "</div>\n",
              "      <button class=\"colab-df-convert\" onclick=\"convertToInteractive('df-7429d101-aed7-4420-9377-4cae339ba553')\"\n",
              "              title=\"Convert this dataframe to an interactive table.\"\n",
              "              style=\"display:none;\">\n",
              "        \n",
              "  <svg xmlns=\"http://www.w3.org/2000/svg\" height=\"24px\"viewBox=\"0 0 24 24\"\n",
              "       width=\"24px\">\n",
              "    <path d=\"M0 0h24v24H0V0z\" fill=\"none\"/>\n",
              "    <path d=\"M18.56 5.44l.94 2.06.94-2.06 2.06-.94-2.06-.94-.94-2.06-.94 2.06-2.06.94zm-11 1L8.5 8.5l.94-2.06 2.06-.94-2.06-.94L8.5 2.5l-.94 2.06-2.06.94zm10 10l.94 2.06.94-2.06 2.06-.94-2.06-.94-.94-2.06-.94 2.06-2.06.94z\"/><path d=\"M17.41 7.96l-1.37-1.37c-.4-.4-.92-.59-1.43-.59-.52 0-1.04.2-1.43.59L10.3 9.45l-7.72 7.72c-.78.78-.78 2.05 0 2.83L4 21.41c.39.39.9.59 1.41.59.51 0 1.02-.2 1.41-.59l7.78-7.78 2.81-2.81c.8-.78.8-2.07 0-2.86zM5.41 20L4 18.59l7.72-7.72 1.47 1.35L5.41 20z\"/>\n",
              "  </svg>\n",
              "      </button>\n",
              "      \n",
              "  <style>\n",
              "    .colab-df-container {\n",
              "      display:flex;\n",
              "      flex-wrap:wrap;\n",
              "      gap: 12px;\n",
              "    }\n",
              "\n",
              "    .colab-df-convert {\n",
              "      background-color: #E8F0FE;\n",
              "      border: none;\n",
              "      border-radius: 50%;\n",
              "      cursor: pointer;\n",
              "      display: none;\n",
              "      fill: #1967D2;\n",
              "      height: 32px;\n",
              "      padding: 0 0 0 0;\n",
              "      width: 32px;\n",
              "    }\n",
              "\n",
              "    .colab-df-convert:hover {\n",
              "      background-color: #E2EBFA;\n",
              "      box-shadow: 0px 1px 2px rgba(60, 64, 67, 0.3), 0px 1px 3px 1px rgba(60, 64, 67, 0.15);\n",
              "      fill: #174EA6;\n",
              "    }\n",
              "\n",
              "    [theme=dark] .colab-df-convert {\n",
              "      background-color: #3B4455;\n",
              "      fill: #D2E3FC;\n",
              "    }\n",
              "\n",
              "    [theme=dark] .colab-df-convert:hover {\n",
              "      background-color: #434B5C;\n",
              "      box-shadow: 0px 1px 3px 1px rgba(0, 0, 0, 0.15);\n",
              "      filter: drop-shadow(0px 1px 2px rgba(0, 0, 0, 0.3));\n",
              "      fill: #FFFFFF;\n",
              "    }\n",
              "  </style>\n",
              "\n",
              "      <script>\n",
              "        const buttonEl =\n",
              "          document.querySelector('#df-7429d101-aed7-4420-9377-4cae339ba553 button.colab-df-convert');\n",
              "        buttonEl.style.display =\n",
              "          google.colab.kernel.accessAllowed ? 'block' : 'none';\n",
              "\n",
              "        async function convertToInteractive(key) {\n",
              "          const element = document.querySelector('#df-7429d101-aed7-4420-9377-4cae339ba553');\n",
              "          const dataTable =\n",
              "            await google.colab.kernel.invokeFunction('convertToInteractive',\n",
              "                                                     [key], {});\n",
              "          if (!dataTable) return;\n",
              "\n",
              "          const docLinkHtml = 'Like what you see? Visit the ' +\n",
              "            '<a target=\"_blank\" href=https://colab.research.google.com/notebooks/data_table.ipynb>data table notebook</a>'\n",
              "            + ' to learn more about interactive tables.';\n",
              "          element.innerHTML = '';\n",
              "          dataTable['output_type'] = 'display_data';\n",
              "          await google.colab.output.renderOutput(dataTable, element);\n",
              "          const docLink = document.createElement('div');\n",
              "          docLink.innerHTML = docLinkHtml;\n",
              "          element.appendChild(docLink);\n",
              "        }\n",
              "      </script>\n",
              "    </div>\n",
              "  </div>\n",
              "  "
            ]
          },
          "metadata": {},
          "execution_count": 10
        }
      ]
    },
    {
      "cell_type": "code",
      "source": [
        "mnist.drop(columns='label', inplace=True)\n",
        "mnist.head()"
      ],
      "metadata": {
        "colab": {
          "base_uri": "https://localhost:8080/",
          "height": 236
        },
        "id": "UV9ZaRDHj5l9",
        "outputId": "20c10bf3-4a99-489e-800f-06a584290f2a"
      },
      "execution_count": 11,
      "outputs": [
        {
          "output_type": "execute_result",
          "data": {
            "text/plain": [
              "   1x1  1x2  1x3  1x4  1x5  1x6  1x7  1x8  1x9  1x10  ...  28x19  28x20  \\\n",
              "0    0    0    0    0    0    0    0    0    0     0  ...      0      0   \n",
              "1    0    0    0    0    0    0    0    0    0     0  ...      0      0   \n",
              "2    0    0    0    0    0    0    0    0    0     0  ...      0      0   \n",
              "3    0    0    0    0    0    0    0    0    0     0  ...      0      0   \n",
              "4    0    0    0    0    0    0    0    0    0     0  ...      0      0   \n",
              "\n",
              "   28x21  28x22  28x23  28x24  28x25  28x26  28x27  28x28  \n",
              "0      0      0      0      0      0      0      0      0  \n",
              "1      0      0      0      0      0      0      0      0  \n",
              "2      0      0      0      0      0      0      0      0  \n",
              "3      0      0      0      0      0      0      0      0  \n",
              "4      0      0      0      0      0      0      0      0  \n",
              "\n",
              "[5 rows x 784 columns]"
            ],
            "text/html": [
              "\n",
              "  <div id=\"df-0c3d241d-eb68-4778-96c0-8fa8e8f85c58\">\n",
              "    <div class=\"colab-df-container\">\n",
              "      <div>\n",
              "<style scoped>\n",
              "    .dataframe tbody tr th:only-of-type {\n",
              "        vertical-align: middle;\n",
              "    }\n",
              "\n",
              "    .dataframe tbody tr th {\n",
              "        vertical-align: top;\n",
              "    }\n",
              "\n",
              "    .dataframe thead th {\n",
              "        text-align: right;\n",
              "    }\n",
              "</style>\n",
              "<table border=\"1\" class=\"dataframe\">\n",
              "  <thead>\n",
              "    <tr style=\"text-align: right;\">\n",
              "      <th></th>\n",
              "      <th>1x1</th>\n",
              "      <th>1x2</th>\n",
              "      <th>1x3</th>\n",
              "      <th>1x4</th>\n",
              "      <th>1x5</th>\n",
              "      <th>1x6</th>\n",
              "      <th>1x7</th>\n",
              "      <th>1x8</th>\n",
              "      <th>1x9</th>\n",
              "      <th>1x10</th>\n",
              "      <th>...</th>\n",
              "      <th>28x19</th>\n",
              "      <th>28x20</th>\n",
              "      <th>28x21</th>\n",
              "      <th>28x22</th>\n",
              "      <th>28x23</th>\n",
              "      <th>28x24</th>\n",
              "      <th>28x25</th>\n",
              "      <th>28x26</th>\n",
              "      <th>28x27</th>\n",
              "      <th>28x28</th>\n",
              "    </tr>\n",
              "  </thead>\n",
              "  <tbody>\n",
              "    <tr>\n",
              "      <th>0</th>\n",
              "      <td>0</td>\n",
              "      <td>0</td>\n",
              "      <td>0</td>\n",
              "      <td>0</td>\n",
              "      <td>0</td>\n",
              "      <td>0</td>\n",
              "      <td>0</td>\n",
              "      <td>0</td>\n",
              "      <td>0</td>\n",
              "      <td>0</td>\n",
              "      <td>...</td>\n",
              "      <td>0</td>\n",
              "      <td>0</td>\n",
              "      <td>0</td>\n",
              "      <td>0</td>\n",
              "      <td>0</td>\n",
              "      <td>0</td>\n",
              "      <td>0</td>\n",
              "      <td>0</td>\n",
              "      <td>0</td>\n",
              "      <td>0</td>\n",
              "    </tr>\n",
              "    <tr>\n",
              "      <th>1</th>\n",
              "      <td>0</td>\n",
              "      <td>0</td>\n",
              "      <td>0</td>\n",
              "      <td>0</td>\n",
              "      <td>0</td>\n",
              "      <td>0</td>\n",
              "      <td>0</td>\n",
              "      <td>0</td>\n",
              "      <td>0</td>\n",
              "      <td>0</td>\n",
              "      <td>...</td>\n",
              "      <td>0</td>\n",
              "      <td>0</td>\n",
              "      <td>0</td>\n",
              "      <td>0</td>\n",
              "      <td>0</td>\n",
              "      <td>0</td>\n",
              "      <td>0</td>\n",
              "      <td>0</td>\n",
              "      <td>0</td>\n",
              "      <td>0</td>\n",
              "    </tr>\n",
              "    <tr>\n",
              "      <th>2</th>\n",
              "      <td>0</td>\n",
              "      <td>0</td>\n",
              "      <td>0</td>\n",
              "      <td>0</td>\n",
              "      <td>0</td>\n",
              "      <td>0</td>\n",
              "      <td>0</td>\n",
              "      <td>0</td>\n",
              "      <td>0</td>\n",
              "      <td>0</td>\n",
              "      <td>...</td>\n",
              "      <td>0</td>\n",
              "      <td>0</td>\n",
              "      <td>0</td>\n",
              "      <td>0</td>\n",
              "      <td>0</td>\n",
              "      <td>0</td>\n",
              "      <td>0</td>\n",
              "      <td>0</td>\n",
              "      <td>0</td>\n",
              "      <td>0</td>\n",
              "    </tr>\n",
              "    <tr>\n",
              "      <th>3</th>\n",
              "      <td>0</td>\n",
              "      <td>0</td>\n",
              "      <td>0</td>\n",
              "      <td>0</td>\n",
              "      <td>0</td>\n",
              "      <td>0</td>\n",
              "      <td>0</td>\n",
              "      <td>0</td>\n",
              "      <td>0</td>\n",
              "      <td>0</td>\n",
              "      <td>...</td>\n",
              "      <td>0</td>\n",
              "      <td>0</td>\n",
              "      <td>0</td>\n",
              "      <td>0</td>\n",
              "      <td>0</td>\n",
              "      <td>0</td>\n",
              "      <td>0</td>\n",
              "      <td>0</td>\n",
              "      <td>0</td>\n",
              "      <td>0</td>\n",
              "    </tr>\n",
              "    <tr>\n",
              "      <th>4</th>\n",
              "      <td>0</td>\n",
              "      <td>0</td>\n",
              "      <td>0</td>\n",
              "      <td>0</td>\n",
              "      <td>0</td>\n",
              "      <td>0</td>\n",
              "      <td>0</td>\n",
              "      <td>0</td>\n",
              "      <td>0</td>\n",
              "      <td>0</td>\n",
              "      <td>...</td>\n",
              "      <td>0</td>\n",
              "      <td>0</td>\n",
              "      <td>0</td>\n",
              "      <td>0</td>\n",
              "      <td>0</td>\n",
              "      <td>0</td>\n",
              "      <td>0</td>\n",
              "      <td>0</td>\n",
              "      <td>0</td>\n",
              "      <td>0</td>\n",
              "    </tr>\n",
              "  </tbody>\n",
              "</table>\n",
              "<p>5 rows × 784 columns</p>\n",
              "</div>\n",
              "      <button class=\"colab-df-convert\" onclick=\"convertToInteractive('df-0c3d241d-eb68-4778-96c0-8fa8e8f85c58')\"\n",
              "              title=\"Convert this dataframe to an interactive table.\"\n",
              "              style=\"display:none;\">\n",
              "        \n",
              "  <svg xmlns=\"http://www.w3.org/2000/svg\" height=\"24px\"viewBox=\"0 0 24 24\"\n",
              "       width=\"24px\">\n",
              "    <path d=\"M0 0h24v24H0V0z\" fill=\"none\"/>\n",
              "    <path d=\"M18.56 5.44l.94 2.06.94-2.06 2.06-.94-2.06-.94-.94-2.06-.94 2.06-2.06.94zm-11 1L8.5 8.5l.94-2.06 2.06-.94-2.06-.94L8.5 2.5l-.94 2.06-2.06.94zm10 10l.94 2.06.94-2.06 2.06-.94-2.06-.94-.94-2.06-.94 2.06-2.06.94z\"/><path d=\"M17.41 7.96l-1.37-1.37c-.4-.4-.92-.59-1.43-.59-.52 0-1.04.2-1.43.59L10.3 9.45l-7.72 7.72c-.78.78-.78 2.05 0 2.83L4 21.41c.39.39.9.59 1.41.59.51 0 1.02-.2 1.41-.59l7.78-7.78 2.81-2.81c.8-.78.8-2.07 0-2.86zM5.41 20L4 18.59l7.72-7.72 1.47 1.35L5.41 20z\"/>\n",
              "  </svg>\n",
              "      </button>\n",
              "      \n",
              "  <style>\n",
              "    .colab-df-container {\n",
              "      display:flex;\n",
              "      flex-wrap:wrap;\n",
              "      gap: 12px;\n",
              "    }\n",
              "\n",
              "    .colab-df-convert {\n",
              "      background-color: #E8F0FE;\n",
              "      border: none;\n",
              "      border-radius: 50%;\n",
              "      cursor: pointer;\n",
              "      display: none;\n",
              "      fill: #1967D2;\n",
              "      height: 32px;\n",
              "      padding: 0 0 0 0;\n",
              "      width: 32px;\n",
              "    }\n",
              "\n",
              "    .colab-df-convert:hover {\n",
              "      background-color: #E2EBFA;\n",
              "      box-shadow: 0px 1px 2px rgba(60, 64, 67, 0.3), 0px 1px 3px 1px rgba(60, 64, 67, 0.15);\n",
              "      fill: #174EA6;\n",
              "    }\n",
              "\n",
              "    [theme=dark] .colab-df-convert {\n",
              "      background-color: #3B4455;\n",
              "      fill: #D2E3FC;\n",
              "    }\n",
              "\n",
              "    [theme=dark] .colab-df-convert:hover {\n",
              "      background-color: #434B5C;\n",
              "      box-shadow: 0px 1px 3px 1px rgba(0, 0, 0, 0.15);\n",
              "      filter: drop-shadow(0px 1px 2px rgba(0, 0, 0, 0.3));\n",
              "      fill: #FFFFFF;\n",
              "    }\n",
              "  </style>\n",
              "\n",
              "      <script>\n",
              "        const buttonEl =\n",
              "          document.querySelector('#df-0c3d241d-eb68-4778-96c0-8fa8e8f85c58 button.colab-df-convert');\n",
              "        buttonEl.style.display =\n",
              "          google.colab.kernel.accessAllowed ? 'block' : 'none';\n",
              "\n",
              "        async function convertToInteractive(key) {\n",
              "          const element = document.querySelector('#df-0c3d241d-eb68-4778-96c0-8fa8e8f85c58');\n",
              "          const dataTable =\n",
              "            await google.colab.kernel.invokeFunction('convertToInteractive',\n",
              "                                                     [key], {});\n",
              "          if (!dataTable) return;\n",
              "\n",
              "          const docLinkHtml = 'Like what you see? Visit the ' +\n",
              "            '<a target=\"_blank\" href=https://colab.research.google.com/notebooks/data_table.ipynb>data table notebook</a>'\n",
              "            + ' to learn more about interactive tables.';\n",
              "          element.innerHTML = '';\n",
              "          dataTable['output_type'] = 'display_data';\n",
              "          await google.colab.output.renderOutput(dataTable, element);\n",
              "          const docLink = document.createElement('div');\n",
              "          docLink.innerHTML = docLinkHtml;\n",
              "          element.appendChild(docLink);\n",
              "        }\n",
              "      </script>\n",
              "    </div>\n",
              "  </div>\n",
              "  "
            ]
          },
          "metadata": {},
          "execution_count": 11
        }
      ]
    },
    {
      "cell_type": "code",
      "source": [
        "mnist.shape\n",
        "#(60000, 784)"
      ],
      "metadata": {
        "colab": {
          "base_uri": "https://localhost:8080/",
          "height": 0
        },
        "id": "2umctzsfmZOS",
        "outputId": "929d54e7-eb7f-4666-c2ec-adf4fd311e35"
      },
      "execution_count": 12,
      "outputs": [
        {
          "output_type": "execute_result",
          "data": {
            "text/plain": [
              "(60000, 784)"
            ]
          },
          "metadata": {},
          "execution_count": 12
        }
      ]
    },
    {
      "cell_type": "code",
      "source": [
        "import matplotlib.pyplot as plt\n",
        "\n",
        "second_image = mnist.iloc[1].values.reshape([28,28])\n",
        "plt.imshow(second_image, cmap='gray_r')\n",
        "plt.title('Second image: Digit 0', fontsize=15, pad=15)\n",
        "plt.savefig(\"Second image.png\")"
      ],
      "metadata": {
        "colab": {
          "base_uri": "https://localhost:8080/",
          "height": 292
        },
        "id": "5GKdL2EjmgDz",
        "outputId": "3382cf4b-16b7-4b05-c1da-9547be037e6d"
      },
      "execution_count": 13,
      "outputs": [
        {
          "output_type": "display_data",
          "data": {
            "text/plain": [
              "<Figure size 432x288 with 1 Axes>"
            ],
            "image/png": "[encoded data removed]"
          },
          "metadata": {
            "needs_background": "light"
          }
        }
      ]
    },
    {
      "cell_type": "code",
      "source": [
        "#2nd image\n",
        "print(mnist.iloc[1].min())\n",
        "print(mnist.iloc[1].max())\n",
        "#0\n",
        "#255"
      ],
      "metadata": {
        "colab": {
          "base_uri": "https://localhost:8080/",
          "height": 0
        },
        "id": "NpSXc2x8mheI",
        "outputId": "4c4ad1ff-2d8c-4805-c976-041e001c0f2b"
      },
      "execution_count": 14,
      "outputs": [
        {
          "output_type": "stream",
          "name": "stdout",
          "text": [
            "0\n",
            "255\n"
          ]
        }
      ]
    },
    {
      "cell_type": "code",
      "source": [
        "import numpy as np\n",
        "from sklearn.decomposition import PCA\n",
        "\n",
        "pca_784 = PCA(n_components=784)\n",
        "pca_784.fit(mnist)\n",
        "\n",
        "plt.grid()\n",
        "plt.plot(np.cumsum(pca_784.explained_variance_ratio_ * 100))\n",
        "plt.xlabel('Number of components')\n",
        "plt.ylabel('Explained variance')\n",
        "plt.savefig('Scree plot.png')"
      ],
      "metadata": {
        "colab": {
          "base_uri": "https://localhost:8080/",
          "height": 279
        },
        "id": "owrodql0moko",
        "outputId": "6bcf5327-68b3-415d-b33a-f2a9cdb0dce7"
      },
      "execution_count": 15,
      "outputs": [
        {
          "output_type": "display_data",
          "data": {
            "text/plain": [
              "<Figure size 432x288 with 1 Axes>"
            ],
            "image/png": "[encoded data removed]"
          },
          "metadata": {
            "needs_background": "light"
          }
        }
      ]
    },
    {
      "cell_type": "code",
      "source": [
        "pca_10 = PCA(n_components=10)\n",
        "mnist_pca_10_reduced = pca_10.fit_transform(mnist)\n",
        "mnist_pca_10_recovered = pca_10.inverse_transform(mnist_pca_10_reduced)\n",
        "\n",
        "image_pca_10 = mnist_pca_10_recovered[1,:].reshape([28,28])\n",
        "plt.imshow(image_pca_10, cmap='gray_r')\n",
        "plt.title('Compressed image with 10 components', fontsize=15, pad=15)\n",
        "plt.savefig(\"image_pca_10.png\")"
      ],
      "metadata": {
        "colab": {
          "base_uri": "https://localhost:8080/",
          "height": 292
        },
        "id": "ON3gidHbmvWB",
        "outputId": "aac500bb-63da-4ca8-e53a-457145e2caa2"
      },
      "execution_count": 16,
      "outputs": [
        {
          "output_type": "display_data",
          "data": {
            "text/plain": [
              "<Figure size 432x288 with 1 Axes>"
            ],
            "image/png": "[encoded data removed]"
          },
          "metadata": {
            "needs_background": "light"
          }
        }
      ]
    },
    {
      "cell_type": "code",
      "source": [
        "\n",
        "pca_184 = PCA(n_components=184)\n",
        "mnist_pca_184_reduced = pca_184.fit_transform(mnist)\n",
        "mnist_pca_184_recovered = pca_184.inverse_transform(mnist_pca_184_reduced)\n",
        "\n",
        "image_pca_184 = mnist_pca_184_recovered[1,:].reshape([28,28])\n",
        "plt.imshow(image_pca_184, cmap='gray_r')\n",
        "plt.title('Compressed image with 184 components', fontsize=15, pad=15)\n",
        "plt.savefig(\"image_pca_184.png\")"
      ],
      "metadata": {
        "colab": {
          "base_uri": "https://localhost:8080/",
          "height": 292
        },
        "id": "uVmolAuCmzX4",
        "outputId": "01c05d54-d652-4b04-e943-6106ba8664ab"
      },
      "execution_count": 17,
      "outputs": [
        {
          "output_type": "display_data",
          "data": {
            "text/plain": [
              "<Figure size 432x288 with 1 Axes>"
            ],
            "image/png": "[encoded data removed]"
          },
          "metadata": {
            "needs_background": "light"
          }
        }
      ]
    },
    {
      "cell_type": "code",
      "source": [
        "# calculate the explained variance of 184 components:\n",
        "np.cumsum(pca_184.explained_variance_ratio_ * 100)[-1]\n"
      ],
      "metadata": {
        "colab": {
          "base_uri": "https://localhost:8080/",
          "height": 0
        },
        "id": "9hcFAYWUnFC1",
        "outputId": "2167aa30-e19c-48e8-de1b-738bdb83a159"
      },
      "execution_count": 18,
      "outputs": [
        {
          "output_type": "execute_result",
          "data": {
            "text/plain": [
              "96.11626200468143"
            ]
          },
          "metadata": {},
          "execution_count": 18
        }
      ]
    },
    {
      "cell_type": "markdown",
      "source": [
        "<img src=\"https://miro.medium.com/v2/resize:fit:1266/format:webp/1*Eep8seWUQ7_evYa0rl3kkw.png\" alt=\"original image with 784 dimensions comparison with Compressed image with 184 dimensions\">\n"
      ],
      "metadata": {
        "id": "BKKXPRNwnc4i"
      }
    },
    {
      "cell_type": "markdown",
      "metadata": {
        "id": "vtaEkW74MvAi"
      },
      "source": [
        "# STEM-EDS quantification of core shell nanoparticles\n",
        "\n",
        "Using machine learning methods, such as independent component analysis (ICA), the composition of embedded nanostructures, such as core-shell nanoparticles, can be accurately measured as demonstrated by D. Roussow et al., Nano Letters, 2015 (see the [full article](https://www.repository.cam.ac.uk/bitstream/handle/1810/248102/Roussouw%20et%20al%202015%20Nano%20Letters.pdf?sequence=1)). Using the same data, this notebook reproduces the main results of this article.\n",
        "\n",
        "\n",
        "## Author\n",
        "\n",
        "* 13/04/2015 Pierre Burdet - Developed for HyperSpy workshop at University of Cambridge\n",
        "\n",
        "## Changes\n",
        "\n",
        "* 29/05/2016 Duncan Johnstone. Update the syntax for HyperSpy 0.8.5 (Python 3 compatibility)\n",
        "* 03/08/2016 Francisco de la Peña. Update the syntax for HyperSpy 1.1\n",
        "* 06/08/2016 Francisco de la Peña. Update the syntax for HyperSpy 0.8.1\n",
        "* 27/08/2016 Pierre Burdet. Update for workshop at EMC Lyon\n",
        "* 04/04/2018 Joshua Taillon. Bugfix and update for workshop at NIST\n",
        "* 18/07/2019 Katherine MacArthur. Update to include basic quantification, for M&M 2019 Portland\n",
        "* 01/17/2023 Sam Mao, modifications to the GoogleColab version. \n",
        "* 02/03/2023 Sam Mao, Added the SEM-EDS data. \n",
        "\n",
        "## Requirements\n",
        "\n",
        "* HyperSpy 1.5.1\n",
        "\n",
        "## <a id='top'></a> Contents\n",
        "\n",
        "1. <a href='dat'> Specimen & Data</a>\n",
        "2. <a href='#loa'> Loading and viewing data</a>\n",
        "3. <a href='#counts'> Extracting Counts </a>\n",
        "4. <a href='#quant'> Basic Quantification </a>\n",
        "5. <a href='#bss'> Blind source separation of core/shell nanoparticles</a>\n",
        "6. <a href='#bare'> Representative spectrum from bare cores</a>\n",
        "7. <a href='#com'> Comparison and quantification</a>\n",
        "8. <a href='#fur'> Going father: Isolating the nanoparticles</a>\n",
        "\n",
        "# <a id='dat'></a> 1. Specimen & Data\n",
        "\n",
        "The sample and the data used in this tutorial are described in \n",
        "D. Roussow, et al., Nano Letters, In Press (2015) (see the [full article](https://www.repository.cam.ac.uk/bitstream/handle/1810/248102/Roussouw%20et%20al%202015%20Nano%20Letters.pdf?sequence=1)).\n",
        "\n",
        "FePt@Fe$_3$O$_4$ core-shell nanoparticles are investigated with an EDS/TEM experiment (FEI Osiris TEM, 4 EDS detectors). The composition of the core can be measured with ICA (see figure 1c). To prove the accuracy of the results, measurements on bare FePt bimetallic nanoparticles from a synthesis prior to the shell addition step are used."
      ]
    },
    {
      "cell_type": "markdown",
      "metadata": {
        "id": "nH8B81ndMvAk"
      },
      "source": [
        "<img src=\"https://github.com/keyoumao/Defect_dP_PaCKage/blob/main/images/core_shell.png?raw=1\" style=\"height:350px;\">\n",
        "Figure 1: (a) A spectrum image obtained from a cluster of core-shell nanoparticles. (b) The nanoparticles are comprised of a bi-metallic Pt/Fe core surrounded by an iron oxide shell on a carbon support. (c) ICA decomposes the mixed EDX signals into components representing the core (IC#0), shell (IC#1) and support (IC#2)."
      ]
    },
    {
      "cell_type": "code",
      "execution_count": 23,
      "metadata": {
        "id": "mK3FS-jaMvAl"
      },
      "outputs": [],
      "source": [
        "#Download the data (1MB)\n",
        "from urllib.request import urlretrieve, urlopen\n",
        "from zipfile import ZipFile\n",
        "files = urlretrieve(\"https://www.dropbox.com/s/ecdlgwxjq04m5mx/HyperSpy_demos_EDS_TEM_files.zip?raw=1\", \"./HyperSpy_demos_EDX_TEM_files.zip\")\n",
        "with ZipFile(\"HyperSpy_demos_EDX_TEM_files.zip\") as z:\n",
        "    z.extractall()"
      ]
    },
    {
      "cell_type": "markdown",
      "metadata": {
        "id": "QBeCDyXCMvAm"
      },
      "source": [
        "# <a id='loa'></a> 2. Loading and viewing data"
      ]
    },
    {
      "cell_type": "markdown",
      "metadata": {
        "id": "jLAWyig1MvAm"
      },
      "source": [
        "<a href='#top'> Table of contents</a>"
      ]
    },
    {
      "cell_type": "markdown",
      "metadata": {
        "id": "mp4DxCqWMvAm"
      },
      "source": [
        "Import HyperSpy, numpy and matplotlib libraries.\n"
      ]
    },
    {
      "cell_type": "code",
      "execution_count": 24,
      "metadata": {
        "colab": {
          "base_uri": "https://localhost:8080/",
          "height": 0
        },
        "id": "_ALGprDDMvAm",
        "outputId": "a0dc8a04-74c7-467c-b7ec-6a960e63e017"
      },
      "outputs": [
        {
          "output_type": "stream",
          "name": "stdout",
          "text": [
            "Looking in indexes: https://pypi.org/simple, https://us-python.pkg.dev/colab-wheels/public/simple/\n",
            "Collecting hyperspy\n",
            "  Downloading hyperspy-1.7.3-cp38-cp38-manylinux_2_17_x86_64.manylinux2014_x86_64.manylinux_2_24_x86_64.whl (32.6 MB)\n",
            "\u001b[2K     \u001b[90m━━━━━━━━━━━━━━━━━━━━━━━━━━━━━━━━━━━━━━━━\u001b[0m \u001b[32m32.6/32.6 MB\u001b[0m \u001b[31m8.3 MB/s\u001b[0m eta \u001b[36m0:00:00\u001b[0m\n",
            "\u001b[?25hRequirement already satisfied: tifffile>=2020.2.16 in /usr/local/lib/python3.8/dist-packages (from hyperspy) (2023.2.3)\n",
            "Requirement already satisfied: packaging in /usr/local/lib/python3.8/dist-packages (from hyperspy) (23.0)\n",
            "Requirement already satisfied: natsort in /usr/local/lib/python3.8/dist-packages (from hyperspy) (5.5.0)\n",
            "Requirement already satisfied: sympy in /usr/local/lib/python3.8/dist-packages (from hyperspy) (1.7.1)\n",
            "Requirement already satisfied: dill in /usr/local/lib/python3.8/dist-packages (from hyperspy) (0.3.6)\n",
            "Requirement already satisfied: numba>=0.52 in /usr/local/lib/python3.8/dist-packages (from hyperspy) (0.56.4)\n",
            "Requirement already satisfied: scikit-image>=0.15 in /usr/local/lib/python3.8/dist-packages (from hyperspy) (0.18.3)\n",
            "Requirement already satisfied: importlib-metadata>=3.6 in /usr/local/lib/python3.8/dist-packages (from hyperspy) (6.0.0)\n",
            "Collecting traits>=4.5.0\n",
            "  Downloading traits-6.4.1-cp38-cp38-manylinux_2_5_x86_64.manylinux1_x86_64.manylinux_2_17_x86_64.manylinux2014_x86_64.whl (5.1 MB)\n",
            "\u001b[2K     \u001b[90m━━━━━━━━━━━━━━━━━━━━━━━━━━━━━━━━━━━━━━━━\u001b[0m \u001b[32m5.1/5.1 MB\u001b[0m \u001b[31m84.8 MB/s\u001b[0m eta \u001b[36m0:00:00\u001b[0m\n",
            "\u001b[?25hRequirement already satisfied: numexpr in /usr/local/lib/python3.8/dist-packages (from hyperspy) (2.8.4)\n",
            "Requirement already satisfied: ipython!=8.0.* in /usr/local/lib/python3.8/dist-packages (from hyperspy) (7.9.0)\n",
            "Requirement already satisfied: scipy>=1.1 in /usr/local/lib/python3.8/dist-packages (from hyperspy) (1.7.3)\n",
            "Requirement already satisfied: dask[array]>=2.11.0 in /usr/local/lib/python3.8/dist-packages (from hyperspy) (2022.2.1)\n",
            "Requirement already satisfied: pyyaml in /usr/local/lib/python3.8/dist-packages (from hyperspy) (6.0)\n",
            "Requirement already satisfied: prettytable in /usr/local/lib/python3.8/dist-packages (from hyperspy) (3.6.0)\n",
            "Requirement already satisfied: h5py>=2.3 in /usr/local/lib/python3.8/dist-packages (from hyperspy) (3.1.0)\n",
            "Requirement already satisfied: tqdm>=4.9.0 in /usr/local/lib/python3.8/dist-packages (from hyperspy) (4.64.1)\n",
            "Requirement already satisfied: jinja2 in /usr/local/lib/python3.8/dist-packages (from hyperspy) (2.11.3)\n",
            "Collecting ipyparallel\n",
            "  Downloading ipyparallel-8.4.1-py3-none-any.whl (298 kB)\n",
            "\u001b[2K     \u001b[90m━━━━━━━━━━━━━━━━━━━━━━━━━━━━━━━━━━━━━━\u001b[0m \u001b[32m298.0/298.0 KB\u001b[0m \u001b[31m30.0 MB/s\u001b[0m eta \u001b[36m0:00:00\u001b[0m\n",
            "\u001b[?25hRequirement already satisfied: imageio in /usr/local/lib/python3.8/dist-packages (from hyperspy) (2.9.0)\n",
            "Requirement already satisfied: matplotlib>=3.1.3 in /usr/local/lib/python3.8/dist-packages (from hyperspy) (3.2.2)\n",
            "Requirement already satisfied: toolz in /usr/local/lib/python3.8/dist-packages (from hyperspy) (0.12.0)\n",
            "Requirement already satisfied: numpy>=1.17.1 in /usr/local/lib/python3.8/dist-packages (from hyperspy) (1.21.6)\n",
            "Collecting sparse\n",
            "  Downloading sparse-0.13.0-py2.py3-none-any.whl (77 kB)\n",
            "\u001b[2K     \u001b[90m━━━━━━━━━━━━━━━━━━━━━━━━━━━━━━━━━━━━━━━━\u001b[0m \u001b[32m77.8/77.8 KB\u001b[0m \u001b[31m4.0 MB/s\u001b[0m eta \u001b[36m0:00:00\u001b[0m\n",
            "\u001b[?25hRequirement already satisfied: fsspec in /usr/local/lib/python3.8/dist-packages (from hyperspy) (2023.1.0)\n",
            "Collecting zarr>=2.9.0\n",
            "  Downloading zarr-2.14.1-py3-none-any.whl (203 kB)\n",
            "\u001b[2K     \u001b[90m━━━━━━━━━━━━━━━━━━━━━━━━━━━━━━━━━━━━━━\u001b[0m \u001b[32m203.0/203.0 KB\u001b[0m \u001b[31m22.9 MB/s\u001b[0m eta \u001b[36m0:00:00\u001b[0m\n",
            "\u001b[?25hRequirement already satisfied: requests in /usr/local/lib/python3.8/dist-packages (from hyperspy) (2.25.1)\n",
            "Requirement already satisfied: python-dateutil>=2.5.0 in /usr/local/lib/python3.8/dist-packages (from hyperspy) (2.8.2)\n",
            "Collecting pint>=0.10\n",
            "  Downloading Pint-0.20.1-py3-none-any.whl (269 kB)\n",
            "\u001b[2K     \u001b[90m━━━━━━━━━━━━━━━━━━━━━━━━━━━━━━━━━━━━━━\u001b[0m \u001b[32m269.5/269.5 KB\u001b[0m \u001b[31m28.8 MB/s\u001b[0m eta \u001b[36m0:00:00\u001b[0m\n",
            "\u001b[?25hRequirement already satisfied: partd>=0.3.10 in /usr/local/lib/python3.8/dist-packages (from dask[array]>=2.11.0->hyperspy) (1.3.0)\n",
            "Requirement already satisfied: cloudpickle>=1.1.1 in /usr/local/lib/python3.8/dist-packages (from dask[array]>=2.11.0->hyperspy) (2.2.1)\n",
            "Requirement already satisfied: zipp>=0.5 in /usr/local/lib/python3.8/dist-packages (from importlib-metadata>=3.6->hyperspy) (3.12.1)\n",
            "Requirement already satisfied: pickleshare in /usr/local/lib/python3.8/dist-packages (from ipython!=8.0.*->hyperspy) (0.7.5)\n",
            "Requirement already satisfied: backcall in /usr/local/lib/python3.8/dist-packages (from ipython!=8.0.*->hyperspy) (0.2.0)\n",
            "Requirement already satisfied: traitlets>=4.2 in /usr/local/lib/python3.8/dist-packages (from ipython!=8.0.*->hyperspy) (5.7.1)\n",
            "Requirement already satisfied: prompt-toolkit<2.1.0,>=2.0.0 in /usr/local/lib/python3.8/dist-packages (from ipython!=8.0.*->hyperspy) (2.0.10)\n",
            "Requirement already satisfied: decorator in /usr/local/lib/python3.8/dist-packages (from ipython!=8.0.*->hyperspy) (4.4.2)\n",
            "Collecting jedi>=0.10\n",
            "  Downloading jedi-0.18.2-py2.py3-none-any.whl (1.6 MB)\n",
            "\u001b[2K     \u001b[90m━━━━━━━━━━━━━━━━━━━━━━━━━━━━━━━━━━━━━━━━\u001b[0m \u001b[32m1.6/1.6 MB\u001b[0m \u001b[31m63.4 MB/s\u001b[0m eta \u001b[36m0:00:00\u001b[0m\n",
            "\u001b[?25hRequirement already satisfied: pygments in /usr/local/lib/python3.8/dist-packages (from ipython!=8.0.*->hyperspy) (2.6.1)\n",
            "Requirement already satisfied: setuptools>=18.5 in /usr/local/lib/python3.8/dist-packages (from ipython!=8.0.*->hyperspy) (57.4.0)\n",
            "Requirement already satisfied: pexpect in /usr/local/lib/python3.8/dist-packages (from ipython!=8.0.*->hyperspy) (4.8.0)\n",
            "Requirement already satisfied: cycler>=0.10 in /usr/local/lib/python3.8/dist-packages (from matplotlib>=3.1.3->hyperspy) (0.11.0)\n",
            "Requirement already satisfied: pyparsing!=2.0.4,!=2.1.2,!=2.1.6,>=2.0.1 in /usr/local/lib/python3.8/dist-packages (from matplotlib>=3.1.3->hyperspy) (3.0.9)\n",
            "Requirement already satisfied: kiwisolver>=1.0.1 in /usr/local/lib/python3.8/dist-packages (from matplotlib>=3.1.3->hyperspy) (1.4.4)\n",
            "Requirement already satisfied: llvmlite<0.40,>=0.39.0dev0 in /usr/local/lib/python3.8/dist-packages (from numba>=0.52->hyperspy) (0.39.1)\n",
            "Requirement already satisfied: six>=1.5 in /usr/local/lib/python3.8/dist-packages (from python-dateutil>=2.5.0->hyperspy) (1.15.0)\n",
            "Requirement already satisfied: networkx>=2.0 in /usr/local/lib/python3.8/dist-packages (from scikit-image>=0.15->hyperspy) (3.0)\n",
            "Requirement already satisfied: pillow!=7.1.0,!=7.1.1,>=4.3.0 in /usr/local/lib/python3.8/dist-packages (from scikit-image>=0.15->hyperspy) (7.1.2)\n",
            "Requirement already satisfied: PyWavelets>=1.1.1 in /usr/local/lib/python3.8/dist-packages (from scikit-image>=0.15->hyperspy) (1.4.1)\n",
            "Collecting fasteners\n",
            "  Downloading fasteners-0.18-py3-none-any.whl (18 kB)\n",
            "Collecting asciitree\n",
            "  Downloading asciitree-0.3.3.tar.gz (4.0 kB)\n",
            "  Preparing metadata (setup.py) ... \u001b[?25l\u001b[?25hdone\n",
            "Collecting numcodecs>=0.10.0\n",
            "  Downloading numcodecs-0.11.0-cp38-cp38-manylinux_2_17_x86_64.manylinux2014_x86_64.whl (6.7 MB)\n",
            "\u001b[2K     \u001b[90m━━━━━━━━━━━━━━━━━━━━━━━━━━━━━━━━━━━━━━━━\u001b[0m \u001b[32m6.7/6.7 MB\u001b[0m \u001b[31m99.9 MB/s\u001b[0m eta \u001b[36m0:00:00\u001b[0m\n",
            "\u001b[?25hRequirement already satisfied: jupyter-client in /usr/local/lib/python3.8/dist-packages (from ipyparallel->hyperspy) (6.1.12)\n",
            "Requirement already satisfied: psutil in /usr/local/lib/python3.8/dist-packages (from ipyparallel->hyperspy) (5.4.8)\n",
            "Requirement already satisfied: tornado>=5.1 in /usr/local/lib/python3.8/dist-packages (from ipyparallel->hyperspy) (6.0.4)\n",
            "Requirement already satisfied: entrypoints in /usr/local/lib/python3.8/dist-packages (from ipyparallel->hyperspy) (0.4)\n",
            "Requirement already satisfied: pyzmq>=18 in /usr/local/lib/python3.8/dist-packages (from ipyparallel->hyperspy) (23.2.1)\n",
            "Requirement already satisfied: ipykernel>=4.4 in /usr/local/lib/python3.8/dist-packages (from ipyparallel->hyperspy) (5.3.4)\n",
            "Requirement already satisfied: MarkupSafe>=0.23 in /usr/local/lib/python3.8/dist-packages (from jinja2->hyperspy) (2.0.1)\n",
            "Requirement already satisfied: wcwidth in /usr/local/lib/python3.8/dist-packages (from prettytable->hyperspy) (0.2.6)\n",
            "Requirement already satisfied: idna<3,>=2.5 in /usr/local/lib/python3.8/dist-packages (from requests->hyperspy) (2.10)\n",
            "Requirement already satisfied: urllib3<1.27,>=1.21.1 in /usr/local/lib/python3.8/dist-packages (from requests->hyperspy) (1.24.3)\n",
            "Requirement already satisfied: chardet<5,>=3.0.2 in /usr/local/lib/python3.8/dist-packages (from requests->hyperspy) (4.0.0)\n",
            "Requirement already satisfied: certifi>=2017.4.17 in /usr/local/lib/python3.8/dist-packages (from requests->hyperspy) (2022.12.7)\n",
            "Requirement already satisfied: mpmath>=0.19 in /usr/local/lib/python3.8/dist-packages (from sympy->hyperspy) (1.2.1)\n",
            "Requirement already satisfied: parso<0.9.0,>=0.8.0 in /usr/local/lib/python3.8/dist-packages (from jedi>=0.10->ipython!=8.0.*->hyperspy) (0.8.3)\n",
            "Requirement already satisfied: locket in /usr/local/lib/python3.8/dist-packages (from partd>=0.3.10->dask[array]>=2.11.0->hyperspy) (1.0.0)\n",
            "Requirement already satisfied: jupyter-core>=4.6.0 in /usr/local/lib/python3.8/dist-packages (from jupyter-client->ipyparallel->hyperspy) (5.2.0)\n",
            "Requirement already satisfied: ptyprocess>=0.5 in /usr/local/lib/python3.8/dist-packages (from pexpect->ipython!=8.0.*->hyperspy) (0.7.0)\n",
            "Requirement already satisfied: platformdirs>=2.5 in /usr/local/lib/python3.8/dist-packages (from jupyter-core>=4.6.0->jupyter-client->ipyparallel->hyperspy) (3.0.0)\n",
            "Building wheels for collected packages: asciitree\n",
            "  Building wheel for asciitree (setup.py) ... \u001b[?25l\u001b[?25hdone\n",
            "  Created wheel for asciitree: filename=asciitree-0.3.3-py3-none-any.whl size=5050 sha256=07d80a0de07c5bb301c10f8d1beaeb8fbb809b47be24c338e1e81f1ee671d812\n",
            "  Stored in directory: /root/.cache/pip/wheels/a3/d7/75/19cd0d2a893cad4bb0b2b16dd572ad2916d19c0d5ee9612511\n",
            "Successfully built asciitree\n",
            "Installing collected packages: asciitree, traits, pint, numcodecs, jedi, fasteners, zarr, sparse, ipyparallel, hyperspy\n",
            "Successfully installed asciitree-0.3.3 fasteners-0.18 hyperspy-1.7.3 ipyparallel-8.4.1 jedi-0.18.2 numcodecs-0.11.0 pint-0.20.1 sparse-0.13.0 traits-6.4.1 zarr-2.14.1\n",
            "/bin/bash: matplotlib: command not found\n"
          ]
        }
      ],
      "source": [
        "!pip install hyperspy\n",
        "!matplotlib qt\n",
        "import hyperspy.api as hs"
      ]
    },
    {
      "cell_type": "markdown",
      "metadata": {
        "id": "FQvV3cgrMvAm"
      },
      "source": [
        "Load the spectrum images of the bare nanoparticles and those with a core-shell structure."
      ]
    },
    {
      "cell_type": "code",
      "execution_count": 25,
      "metadata": {
        "colab": {
          "base_uri": "https://localhost:8080/",
          "height": 0
        },
        "id": "wgBXXONzMvAn",
        "outputId": "bd617b43-3d85-4a90-ce29-5374df8a53da"
      },
      "outputs": [
        {
          "output_type": "stream",
          "name": "stderr",
          "text": [
            "/usr/local/lib/python3.8/dist-packages/hyperspy/misc/utils.py:471: VisibleDeprecationWarning: Use of the `binned` attribute in metadata is going to be deprecated in v2.0. Set the `axis.is_binned` attribute instead. \n",
            "  warnings.warn(\n",
            "/usr/local/lib/python3.8/dist-packages/hyperspy/io.py:572: VisibleDeprecationWarning: Loading old file version. The binned attribute has been moved from metadata.Signal to axis.is_binned. Setting this attribute for all signal axes instead.\n",
            "  warnings.warn('Loading old file version. The binned attribute '\n"
          ]
        }
      ],
      "source": [
        "c = hs.load(\"bare_core.hdf5\")\n",
        "cs = hs.load(\"core_shell.hdf5\")"
      ]
    },
    {
      "cell_type": "markdown",
      "metadata": {
        "id": "9oqYtvK3MvAn"
      },
      "source": [
        "Check the metadata has imported correctly. In particular whether the list of elements you wish to analyse is correct."
      ]
    },
    {
      "cell_type": "code",
      "execution_count": 26,
      "metadata": {
        "colab": {
          "base_uri": "https://localhost:8080/",
          "height": 225
        },
        "id": "iA0dPGweMvAn",
        "outputId": "28daf056-4a07-44c6-9279-27b65c06bd8c"
      },
      "outputs": [
        {
          "output_type": "execute_result",
          "data": {
            "text/plain": [
              "├── Acquisition_instrument\n",
              "│   └── TEM\n",
              "│       ├── Detector\n",
              "│       │   └── EDS\n",
              "│       │       ├── azimuth_angle = 0.0\n",
              "│       │       ├── elevation_angle = 35.0\n",
              "│       │       └── energy_resolution_MnKa = 130.0\n",
              "│       ├── Stage\n",
              "│       │   └── tilt_alpha = 0.0\n",
              "│       ├── acquisition_mode = STEM\n",
              "│       ├── beam_energy = 200.0\n",
              "│       └── microscope = Microscope TecnaiOsiris 200 kV D658 AnalyticalTwin\n",
              "├── General\n",
              "│   ├── FileIO\n",
              "│   │   └── 0\n",
              "│   │       ├── hyperspy_version = 1.7.3\n",
              "│   │       ├── io_plugin = hyperspy.io_plugins.hspy\n",
              "│   │       ├── operation = load\n",
              "│   │       └── timestamp = 2023-02-14T21:02:43.058113+00:00\n",
              "│   ├── date = 14.10.2014\n",
              "│   └── title = Core shell\n",
              "├── Sample\n",
              "│   ├── elements = array(['Fe', 'Pt'], dtype='<U2')\n",
              "│   └── xray_lines = array(['Fe_Ka', 'Pt_La'], dtype='<U5')\n",
              "└── Signal\n",
              "    ├── signal_origin = \n",
              "    └── signal_type = EDS_TEM"
            ],
            "text/html": [
              "<ul style=\"margin: 0px; list-style-position: outside;\">\n",
              "                    <details open>\n",
              "                    <summary style=\"display: list-item;\">\n",
              "                    <li style=\"display: inline;\">\n",
              "                    Acquisition_instrument\n",
              "                    </li></summary>\n",
              "                    <ul style=\"margin: 0px; list-style-position: outside;\">\n",
              "                    <details closed>\n",
              "                    <summary style=\"display: list-item;\">\n",
              "                    <li style=\"display: inline;\">\n",
              "                    TEM\n",
              "                    </li></summary>\n",
              "                    <ul style=\"margin: 0px; list-style-position: outside;\">\n",
              "                    <details closed>\n",
              "                    <summary style=\"display: list-item;\">\n",
              "                    <li style=\"display: inline;\">\n",
              "                    Detector\n",
              "                    </li></summary>\n",
              "                    <ul style=\"margin: 0px; list-style-position: outside;\">\n",
              "                    <details closed>\n",
              "                    <summary style=\"display: list-item;\">\n",
              "                    <li style=\"display: inline;\">\n",
              "                    EDS\n",
              "                    </li></summary>\n",
              "                    \n",
              "    <ul style=\"margin: 0px; list-style-position: outside;\">\n",
              "    <li style='margin-left:1em; padding-left: 0.5em'>azimuth_angle = 0.0</li></ul>\n",
              "    \n",
              "    <ul style=\"margin: 0px; list-style-position: outside;\">\n",
              "    <li style='margin-left:1em; padding-left: 0.5em'>elevation_angle = 35.0</li></ul>\n",
              "    \n",
              "    <ul style=\"margin: 0px; list-style-position: outside;\">\n",
              "    <li style='margin-left:1em; padding-left: 0.5em'>energy_resolution_MnKa = 130.0</li></ul>\n",
              "    </details></ul></details></ul><ul style=\"margin: 0px; list-style-position: outside;\">\n",
              "                    <details closed>\n",
              "                    <summary style=\"display: list-item;\">\n",
              "                    <li style=\"display: inline;\">\n",
              "                    Stage\n",
              "                    </li></summary>\n",
              "                    \n",
              "    <ul style=\"margin: 0px; list-style-position: outside;\">\n",
              "    <li style='margin-left:1em; padding-left: 0.5em'>tilt_alpha = 0.0</li></ul>\n",
              "    </details></ul>\n",
              "    <ul style=\"margin: 0px; list-style-position: outside;\">\n",
              "    <li style='margin-left:1em; padding-left: 0.5em'>acquisition_mode = STEM</li></ul>\n",
              "    \n",
              "    <ul style=\"margin: 0px; list-style-position: outside;\">\n",
              "    <li style='margin-left:1em; padding-left: 0.5em'>beam_energy = 200.0</li></ul>\n",
              "    \n",
              "    <ul style=\"margin: 0px; list-style-position: outside;\">\n",
              "    <li style='margin-left:1em; padding-left: 0.5em'>microscope = Microscope TecnaiOsiris 200 kV D658 AnalyticalTwin</li></ul>\n",
              "    </details></ul></details></ul><ul style=\"margin: 0px; list-style-position: outside;\">\n",
              "                    <details open>\n",
              "                    <summary style=\"display: list-item;\">\n",
              "                    <li style=\"display: inline;\">\n",
              "                    General\n",
              "                    </li></summary>\n",
              "                    <ul style=\"margin: 0px; list-style-position: outside;\">\n",
              "                    <details closed>\n",
              "                    <summary style=\"display: list-item;\">\n",
              "                    <li style=\"display: inline;\">\n",
              "                    FileIO\n",
              "                    </li></summary>\n",
              "                    <ul style=\"margin: 0px; list-style-position: outside;\">\n",
              "                    <details closed>\n",
              "                    <summary style=\"display: list-item;\">\n",
              "                    <li style=\"display: inline;\">\n",
              "                    0\n",
              "                    </li></summary>\n",
              "                    \n",
              "    <ul style=\"margin: 0px; list-style-position: outside;\">\n",
              "    <li style='margin-left:1em; padding-left: 0.5em'>hyperspy_version = 1.7.3</li></ul>\n",
              "    \n",
              "    <ul style=\"margin: 0px; list-style-position: outside;\">\n",
              "    <li style='margin-left:1em; padding-left: 0.5em'>io_plugin = hyperspy.io_plugins.hspy</li></ul>\n",
              "    \n",
              "    <ul style=\"margin: 0px; list-style-position: outside;\">\n",
              "    <li style='margin-left:1em; padding-left: 0.5em'>operation = load</li></ul>\n",
              "    \n",
              "    <ul style=\"margin: 0px; list-style-position: outside;\">\n",
              "    <li style='margin-left:1em; padding-left: 0.5em'>timestamp = 2023-02-14T21:02:43.058113+00:00</li></ul>\n",
              "    </details></ul></details></ul>\n",
              "    <ul style=\"margin: 0px; list-style-position: outside;\">\n",
              "    <li style='margin-left:1em; padding-left: 0.5em'>date = 14.10.2014</li></ul>\n",
              "    \n",
              "    <ul style=\"margin: 0px; list-style-position: outside;\">\n",
              "    <li style='margin-left:1em; padding-left: 0.5em'>title = Core shell</li></ul>\n",
              "    </details></ul><ul style=\"margin: 0px; list-style-position: outside;\">\n",
              "                    <details open>\n",
              "                    <summary style=\"display: list-item;\">\n",
              "                    <li style=\"display: inline;\">\n",
              "                    Sample\n",
              "                    </li></summary>\n",
              "                    \n",
              "    <ul style=\"margin: 0px; list-style-position: outside;\">\n",
              "    <li style='margin-left:1em; padding-left: 0.5em'>elements = array(['Fe', 'Pt'], dtype='&lt;U2')</li></ul>\n",
              "    \n",
              "    <ul style=\"margin: 0px; list-style-position: outside;\">\n",
              "    <li style='margin-left:1em; padding-left: 0.5em'>xray_lines = array(['Fe_Ka', 'Pt_La'], dtype='&lt;U5')</li></ul>\n",
              "    </details></ul><ul style=\"margin: 0px; list-style-position: outside;\">\n",
              "                    <details open>\n",
              "                    <summary style=\"display: list-item;\">\n",
              "                    <li style=\"display: inline;\">\n",
              "                    Signal\n",
              "                    </li></summary>\n",
              "                    \n",
              "    <ul style=\"margin: 0px; list-style-position: outside;\">\n",
              "    <li style='margin-left:1em; padding-left: 0.5em'>signal_origin = </li></ul>\n",
              "    \n",
              "    <ul style=\"margin: 0px; list-style-position: outside;\">\n",
              "    <li style='margin-left:1em; padding-left: 0.5em'>signal_type = EDS_TEM</li></ul>\n",
              "    </details></ul>"
            ]
          },
          "metadata": {},
          "execution_count": 26
        }
      ],
      "source": [
        "cs.metadata"
      ]
    },
    {
      "cell_type": "markdown",
      "metadata": {
        "id": "ciOi7rMOMvAo"
      },
      "source": [
        "Plot the core-shell data to inspect the signal level:"
      ]
    },
    {
      "cell_type": "code",
      "execution_count": 27,
      "metadata": {
        "colab": {
          "base_uri": "https://localhost:8080/",
          "height": 682
        },
        "id": "nIGW-HfkMvAo",
        "outputId": "dcde3129-05a9-4380-812a-9c71f6ba9454"
      },
      "outputs": [
        {
          "output_type": "display_data",
          "data": {
            "text/plain": [
              "<Figure size 432x392.727 with 2 Axes>"
            ],
            "image/png": "[encoded data removed]"
          },
          "metadata": {
            "needs_background": "light"
          }
        },
        {
          "output_type": "display_data",
          "data": {
            "text/plain": [
              "<Figure size 432x288 with 1 Axes>"
            ],
            "image/png": "[encoded data removed]"
          },
          "metadata": {
            "needs_background": "light"
          }
        }
      ],
      "source": [
        "cs.plot()"
      ]
    },
    {
      "cell_type": "markdown",
      "metadata": {
        "id": "WFTCofD-MvAo"
      },
      "source": [
        "Plotting the integrated counts for the whole spectrum image is a good way to check what elements exist in the sample. Adding 'True' to the function also labels any elements from the metadata onto the spectrum."
      ]
    },
    {
      "cell_type": "code",
      "execution_count": 28,
      "metadata": {
        "colab": {
          "base_uri": "https://localhost:8080/",
          "height": 297
        },
        "id": "CWKTpUCnMvAo",
        "outputId": "353a0124-ca89-4ba9-f59c-20911f0bdb87"
      },
      "outputs": [
        {
          "output_type": "display_data",
          "data": {
            "text/plain": [
              "<Figure size 432x288 with 1 Axes>"
            ],
            "image/png": "[encoded data removed]"
          },
          "metadata": {
            "needs_background": "light"
          }
        }
      ],
      "source": [
        "cs.sum().plot(True)"
      ]
    },
    {
      "cell_type": "markdown",
      "metadata": {
        "id": "dL1wqnEPMvAo"
      },
      "source": [
        "## <a id='#counts'></a> 3. Extracting count maps of elements\n",
        "\n",
        "<a href='#top'> Table of contents</a>\n"
      ]
    },
    {
      "cell_type": "markdown",
      "metadata": {
        "id": "mqVzEV4HMvAo"
      },
      "source": [
        "If they're not already added it is important to make sure all the elements you want to extract the intensities for are in the metadata of the sample."
      ]
    },
    {
      "cell_type": "code",
      "execution_count": 29,
      "metadata": {
        "id": "HlzHige8MvAo"
      },
      "outputs": [],
      "source": [
        "cs.set_elements(['Fe','Pt'])\n",
        "cs.set_lines(['Fe_Ka', 'Pt_La'])\n",
        "\n",
        "c.set_elements(['Fe','Pt'])\n",
        "c.set_lines(['Fe_Ka', 'Pt_La'])\n",
        "#cs.add_elements and cs.add_lines also work if you don't want to override what is \n",
        "#already in the metadata."
      ]
    },
    {
      "cell_type": "markdown",
      "metadata": {
        "id": "NN-YGpJTMvAp"
      },
      "source": [
        "Extracting lines can be done without any background or integration window parameters. However if none are specified the default integration window is 1 FWHM and no background subtraction is carried out."
      ]
    },
    {
      "cell_type": "markdown",
      "metadata": {
        "id": "uMaiCx6hMvAp"
      },
      "source": [
        "Line_width is the distance from the x-ray line (in FWHM) the the background window is taken [left, right] allowing different distances for the two directions.\n",
        "An asymmetric value is used here because otherwise the Pt background windows overlap with the Cu K$_β$ line from the sample grid."
      ]
    },
    {
      "cell_type": "code",
      "execution_count": 30,
      "metadata": {
        "id": "x0niK-3IMvAp"
      },
      "outputs": [],
      "source": [
        "bw = cs.estimate_background_windows(line_width=[5.0, 2.0])\n",
        "iw =  cs.estimate_integration_windows(windows_width=3)"
      ]
    },
    {
      "cell_type": "markdown",
      "metadata": {
        "id": "3NhUyGXDMvAp"
      },
      "source": [
        "It is important to plot the windows to check that they are selecting the data correctly otherwise errors, particularly in background subtraction arise.\n",
        "\n",
        "The integration windows are represented by dashed lines and background windows by solid lines. The estimated background is the plotted by the close to horizontal black lines."
      ]
    },
    {
      "cell_type": "code",
      "execution_count": 31,
      "metadata": {
        "colab": {
          "base_uri": "https://localhost:8080/",
          "height": 297
        },
        "id": "FS_bRhlaMvAp",
        "outputId": "07fd9ac3-8517-4a40-d1b7-0a7844986ad1"
      },
      "outputs": [
        {
          "output_type": "display_data",
          "data": {
            "text/plain": [
              "<Figure size 432x288 with 1 Axes>"
            ],
            "image/png": "[encoded data removed]"
          },
          "metadata": {
            "needs_background": "light"
          }
        }
      ],
      "source": [
        "cs.sum().plot(True, background_windows=bw, integration_windows=iw)"
      ]
    },
    {
      "cell_type": "markdown",
      "metadata": {
        "id": "5aRUAl5LMvAp"
      },
      "source": [
        "*Try running the previous two cells of code  above with line_width=[3.0,3.0] and see how this results in an erroneous, background subtraction by plotting the background lines. (You might need to zoom in to see it)*"
      ]
    },
    {
      "cell_type": "markdown",
      "metadata": {
        "id": "3iN1h1dNMvAp"
      },
      "source": [
        "How accurate background subtraction will be on a pixel-by-pixel basis can be see with this plot. \n",
        "\n",
        "The x and y sliders select a pixel in the particle images we plotted earlier. \n",
        "\n",
        "You should be able to find some examples (e.g. the Fe K$_α$ line at X=39, Y=44) of where the background subtraction still fails due to a poor signal-to-noise ratio in the data.\n",
        "\n"
      ]
    },
    {
      "cell_type": "code",
      "execution_count": 32,
      "metadata": {
        "colab": {
          "base_uri": "https://localhost:8080/",
          "height": 315
        },
        "id": "KvrrpipkMvAp",
        "outputId": "8dfb516c-4c58-4d95-9ca4-e95d766199ea"
      },
      "outputs": [
        {
          "output_type": "stream",
          "name": "stderr",
          "text": [
            "WARNING:hyperspy.drawing.mpl_he:Navigation sliders not available. No toolkit registered. Install hyperspy_gui_ipywidgets or hyperspy_gui_traitsui GUI elements.\n"
          ]
        },
        {
          "output_type": "display_data",
          "data": {
            "text/plain": [
              "<Figure size 432x288 with 1 Axes>"
            ],
            "image/png": "[encoded data removed]"
          },
          "metadata": {
            "needs_background": "light"
          }
        }
      ],
      "source": [
        "cs.plot(True, background_windows=bw, navigator='slider')"
      ]
    },
    {
      "cell_type": "markdown",
      "metadata": {
        "id": "5ggR5qK-MvAq"
      },
      "source": [
        "Another way to adjust the location of the background windows is by changing specific numbers in the background window array individually.\n",
        "\n",
        "Running the 'bw' command will output the array, which contains keV coordinates corresponding to the position of the background windows. Each row corresponds to a different element in the list given in the metadata. Remember arrays in Python start at (0,0).\n",
        "\n",
        "These two commands therefore alter the position of the start and end points of the left-hand background window for Pt."
      ]
    },
    {
      "cell_type": "code",
      "execution_count": 33,
      "metadata": {
        "colab": {
          "base_uri": "https://localhost:8080/",
          "height": 0
        },
        "id": "2iylgywHMvAq",
        "outputId": "dd869600-f988-4065-ded4-c16bb04b9af1"
      },
      "outputs": [
        {
          "output_type": "execute_result",
          "data": {
            "text/plain": [
              "array([[5.59527895, 5.73004913, 6.67344035, 6.80821052],\n",
              "       [8.44      , 8.65      , 9.7630891 , 9.92358364]])"
            ]
          },
          "metadata": {},
          "execution_count": 33
        }
      ],
      "source": [
        "bw[1, 0] = 8.44\n",
        "bw[1, 1] = 8.65\n",
        "bw"
      ]
    },
    {
      "cell_type": "markdown",
      "metadata": {
        "id": "W1U3luMHMvAq"
      },
      "source": [
        "Often it is prudent to rebin the data such that counts per pixel are increased and a more reliable background subtraction can be carried out. This can be easily done with the rebin function to any new scale.\n",
        "\n",
        "These functions will perform rebinning on both the core-shell ('cs') data and the core-only ('c') data. We define using the 'scale' parameter that we want 2x binning in X, 2x binning in Y, and 1x binning in Z (our counts).\n",
        "\n",
        "*Note, as we are re-defining 'cs' or 'c', this overwrites our previously-imported data. This means running this command multiple times will re-bin the data multiple times. If you accidentally run this command too many times, simply re-import the data by running the 'hs.load' commands at the top of this workbook'.*"
      ]
    },
    {
      "cell_type": "code",
      "execution_count": 34,
      "metadata": {
        "id": "VOPsqvRUMvAq"
      },
      "outputs": [],
      "source": [
        "cs = cs.rebin(scale=(2,2,1))\n",
        "c = c.rebin(scale=(2,2,1))"
      ]
    },
    {
      "cell_type": "markdown",
      "metadata": {
        "id": "-Z6YFpMkMvAq"
      },
      "source": [
        "Finally, once the background subtraction windows have been selected to be in careful positions it is possible to extract the intensities. \n",
        "\n",
        "Note that exactly the same windows have been used for analysis of both the 'core' and 'core-shell' data sets. This is critical here as we are comparing the two datasets."
      ]
    },
    {
      "cell_type": "code",
      "execution_count": 35,
      "metadata": {
        "id": "ar96CLv-MvAq"
      },
      "outputs": [],
      "source": [
        "cs_intensities = cs.get_lines_intensity(background_windows=bw, integration_windows=iw)\n",
        "c_intensities = c.get_lines_intensity(background_windows=bw, integration_windows=iw)"
      ]
    },
    {
      "cell_type": "markdown",
      "metadata": {
        "id": "ismTi1KZMvAq"
      },
      "source": [
        "Each 'get_lines_intensity' command will create a list of images, again in the same order of the list of elements in the list of metadata. If the element is not in the metadata its intensity map will not be extracted.\n",
        "\n",
        "We can then run 'cs_intensities' to confirm the that we have extracted intensity maps for all our elements of interest."
      ]
    },
    {
      "cell_type": "code",
      "execution_count": 36,
      "metadata": {
        "colab": {
          "base_uri": "https://localhost:8080/",
          "height": 0
        },
        "id": "fDA4Vf5EMvAq",
        "outputId": "f4cc183e-48e3-4af0-dcfb-339a5a7c1c9d"
      },
      "outputs": [
        {
          "output_type": "execute_result",
          "data": {
            "text/plain": [
              "[<BaseSignal, title: X-ray line intensity of Core shell: Fe_Ka at 6.40 keV, dimensions: (32, 32|)>,\n",
              " <BaseSignal, title: X-ray line intensity of Core shell: Pt_La at 9.44 keV, dimensions: (32, 32|)>]"
            ]
          },
          "metadata": {},
          "execution_count": 36
        }
      ],
      "source": [
        "cs_intensities"
      ]
    },
    {
      "cell_type": "code",
      "execution_count": 37,
      "metadata": {
        "colab": {
          "base_uri": "https://localhost:8080/",
          "height": 395
        },
        "id": "Mz3x_CKsMvAr",
        "outputId": "0b574780-57af-4cfb-c989-2b40a5ddab99"
      },
      "outputs": [
        {
          "output_type": "display_data",
          "data": {
            "text/plain": [
              "<Figure size 432x392.727 with 2 Axes>"
            ],
            "image/png": "[encoded data removed]"
          },
          "metadata": {
            "needs_background": "light"
          }
        }
      ],
      "source": [
        "# Plotting one particular image (in this case, the first, Fe_Ka map) can be done with:\n",
        "cs_intensities[0].plot()"
      ]
    },
    {
      "cell_type": "code",
      "execution_count": 38,
      "metadata": {
        "colab": {
          "base_uri": "https://localhost:8080/",
          "height": 248
        },
        "id": "ES80xLnUMvAr",
        "outputId": "b75a01b4-29ad-4add-a3f5-1e677d550b36"
      },
      "outputs": [
        {
          "output_type": "execute_result",
          "data": {
            "text/plain": [
              "[<matplotlib.axes._subplots.AxesSubplot at 0x7fd326a0ea00>,\n",
              " <matplotlib.axes._subplots.AxesSubplot at 0x7fd326a31730>]"
            ]
          },
          "metadata": {},
          "execution_count": 38
        },
        {
          "output_type": "display_data",
          "data": {
            "text/plain": [
              "<Figure size 432x216 with 4 Axes>"
            ],
            "image/png": "[encoded data removed]"
          },
          "metadata": {
            "needs_background": "light"
          }
        }
      ],
      "source": [
        "#All the intensity maps can be plotted using:\n",
        "hs.plot.plot_images(cs_intensities, cmap='viridis', axes_decor=None, scalebar='all')"
      ]
    },
    {
      "cell_type": "markdown",
      "metadata": {
        "id": "9ea59EE4MvAr"
      },
      "source": [
        "Plotting and extracting intensity for both data sets can be condensed into one line."
      ]
    },
    {
      "cell_type": "code",
      "execution_count": 39,
      "metadata": {
        "colab": {
          "base_uri": "https://localhost:8080/",
          "height": 403
        },
        "id": "1uQdz2wEMvAr",
        "outputId": "7af2c1ba-e432-4b9f-84d8-65ad277e6cd8"
      },
      "outputs": [
        {
          "output_type": "display_data",
          "data": {
            "text/plain": [
              "<Figure size 432x432 with 8 Axes>"
            ],
            "image/png": "[encoded data removed]"
          },
          "metadata": {
            "needs_background": "light"
          }
        }
      ],
      "source": [
        "axes = hs.plot.plot_images((c.get_lines_intensity(background_windows=bw, integration_windows=iw)\n",
        "                                          + cs.get_lines_intensity(background_windows=bw, integration_windows=iw)),\n",
        "                           scalebar='all', axes_decor=None, per_row=2, cmap='viridis')"
      ]
    },
    {
      "cell_type": "markdown",
      "metadata": {
        "id": "W1lAqxjCMvAr"
      },
      "source": [
        "## <a id='#quant'></a> 4. Quantification of count maps\n",
        "\n",
        "<a href='#top'> Table of contents</a>"
      ]
    },
    {
      "cell_type": "markdown",
      "metadata": {
        "id": "5Pr5ysISMvAr"
      },
      "source": [
        "Hyperspy is able to carry out EDX quantification using k-factors 'CL', zeta-factors 'zeta', or cross_sections 'cross_sections'. \n",
        "\n",
        "All these methods are applied in the same way using the combination of the stack of intensities and and original data."
      ]
    },
    {
      "cell_type": "markdown",
      "metadata": {
        "id": "PsNL0astMvAr"
      },
      "source": [
        "For 'zeta' or 'cross_section' quantification both a 'live_time' and a 'beam_current' should be in the metadata."
      ]
    },
    {
      "cell_type": "code",
      "execution_count": 40,
      "metadata": {
        "id": "YbscQAF-MvAr"
      },
      "outputs": [],
      "source": [
        "#Setting these parameters in the metadata.\n",
        "cs.set_microscope_parameters(live_time = 6.15) #in seconds\n",
        "cs.set_microscope_parameters(beam_current = 0.5) #in nA"
      ]
    },
    {
      "cell_type": "code",
      "execution_count": 41,
      "metadata": {
        "id": "37b7JsHDMvAr"
      },
      "outputs": [],
      "source": [
        "#From Brucker software (Esprit) k-factors\n",
        "factors = [1.450226, 5.75602]"
      ]
    },
    {
      "cell_type": "code",
      "execution_count": 42,
      "metadata": {
        "colab": {
          "base_uri": "https://localhost:8080/",
          "height": 0
        },
        "id": "UoQAclxuMvAs",
        "outputId": "3815276e-eeba-4c2a-e605-2b0b7ebbc06e"
      },
      "outputs": [
        {
          "output_type": "stream",
          "name": "stdout",
          "text": [
            "[########################################] | 100% Completed |  0.1s\n"
          ]
        },
        {
          "output_type": "stream",
          "name": "stderr",
          "text": [
            "/usr/local/lib/python3.8/dist-packages/hyperspy/misc/material.py:61: RuntimeWarning: invalid value encountered in true_divide\n",
            "  atomic_percent[i] /= sum_weight\n"
          ]
        }
      ],
      "source": [
        "quant = cs.quantification(cs_intensities, 'CL', factors=factors)"
      ]
    },
    {
      "cell_type": "code",
      "execution_count": 43,
      "metadata": {
        "colab": {
          "base_uri": "https://localhost:8080/",
          "height": 0
        },
        "id": "RviKv-sgMvAs",
        "outputId": "69fe0673-d6b2-4f30-c125-8964bfaa4fcf"
      },
      "outputs": [
        {
          "output_type": "execute_result",
          "data": {
            "text/plain": [
              "[<BaseSignal, title: atomic percent of Fe, dimensions: (32, 32|)>,\n",
              " <BaseSignal, title: atomic percent of Pt, dimensions: (32, 32|)>]"
            ]
          },
          "metadata": {},
          "execution_count": 43
        }
      ],
      "source": [
        "quant"
      ]
    },
    {
      "cell_type": "markdown",
      "metadata": {
        "id": "OGsOYa_0MvAs"
      },
      "source": [
        "Again as with the intensities the quantification function result produces a list of images with atomic percent of each element (at least in the 'CL' case). \n",
        "\n",
        "In the 'zeta' and 'cross_section' methods more information is outputed from quantification. See the [EDS quantification](http://hyperspy.org/hyperspy-doc/current/user_guide/eds.html#eds-quantification) section of the documentation for more details."
      ]
    },
    {
      "cell_type": "markdown",
      "metadata": {
        "id": "-iYeuYTbMvAs"
      },
      "source": [
        "Alternatively, if the factors are treated as cross_sections then the output result contains two lists of images, the first is a list of atomic *percent* maps (Index [0]) the second is a list of atomic *number* maps (Index [1]). This allows us to 'zero-out' regions of the image with too few counts."
      ]
    },
    {
      "cell_type": "markdown",
      "metadata": {
        "id": "jhVX2vzvMvAs"
      },
      "source": [
        "*Please note these values aren't accurate cross-sections but can be used as such for the purpose of this demo.*"
      ]
    },
    {
      "cell_type": "markdown",
      "metadata": {
        "id": "AKM0UsFnMvAs"
      },
      "source": [
        "Ignore the warning produced, in this case we want to use a 1nm$^2$ probe size. As long as the pixel scale is calibrated in your spectrum image, probe size is taken as the pixel unless otherwise specified using s.set_microscope_parameters(probe_area = ?)."
      ]
    },
    {
      "cell_type": "code",
      "execution_count": 44,
      "metadata": {
        "colab": {
          "base_uri": "https://localhost:8080/",
          "height": 0
        },
        "id": "1EkozyuQMvAs",
        "outputId": "3a2afc75-0237-4af7-9f8d-e8369e9c3012"
      },
      "outputs": [
        {
          "output_type": "stream",
          "name": "stderr",
          "text": [
            "/usr/local/lib/python3.8/dist-packages/hyperspy/_signals/eds_tem.py:833: UserWarning: Please note that the probe area has been calculated to be 1 nm², meaning that it is highly likley that the scale of the navigation axes have not been set correctly. Please read the user guide for how to set this.\n",
            "  warnings.warn(\"Please note that the probe area has been \"\n",
            "/usr/local/lib/python3.8/dist-packages/hyperspy/misc/eds/utils.py:625: RuntimeWarning: invalid value encountered in true_divide\n",
            "  composition = number_of_atoms / total_atoms\n"
          ]
        }
      ],
      "source": [
        "quant = cs.quantification(cs_intensities, 'cross_section', factors=factors)"
      ]
    },
    {
      "cell_type": "code",
      "execution_count": 45,
      "metadata": {
        "colab": {
          "base_uri": "https://localhost:8080/",
          "height": 0
        },
        "id": "rWB2XTCgMvAt",
        "outputId": "f5d871cf-52a4-4ba9-f431-bed07a126669"
      },
      "outputs": [
        {
          "output_type": "execute_result",
          "data": {
            "text/plain": [
              "([<BaseSignal, title: atomic percent of Fe, dimensions: (32, 32|)>,\n",
              "  <BaseSignal, title: atomic percent of Pt, dimensions: (32, 32|)>],\n",
              " [<BaseSignal, title: atom counts of Fe, dimensions: (32, 32|)>,\n",
              "  <BaseSignal, title: atom counts of Pt, dimensions: (32, 32|)>])"
            ]
          },
          "metadata": {},
          "execution_count": 45
        }
      ],
      "source": [
        "quant"
      ]
    },
    {
      "cell_type": "markdown",
      "metadata": {
        "id": "0bMN1__DMvAt"
      },
      "source": [
        "Summing all the images containing numbers of atoms (quant[1]) gives us an image mapping out the total number of estimated atoms in the sample."
      ]
    },
    {
      "cell_type": "code",
      "execution_count": 46,
      "metadata": {
        "colab": {
          "base_uri": "https://localhost:8080/",
          "height": 400
        },
        "id": "JbJQ0cCgMvAt",
        "outputId": "a8429596-659c-42d0-bc48-04bd0502eab7"
      },
      "outputs": [
        {
          "output_type": "display_data",
          "data": {
            "text/plain": [
              "<Figure size 432x392.727 with 2 Axes>"
            ],
            "image/png": "[encoded data removed]"
          },
          "metadata": {
            "needs_background": "light"
          }
        }
      ],
      "source": [
        "No_of_atoms = quant[1][0] + quant[1][1]\n",
        "No_of_atoms.plot()"
      ]
    },
    {
      "cell_type": "markdown",
      "metadata": {
        "id": "aQ7mAMoTMvAt"
      },
      "source": [
        "This 'total number of atoms' image can be used to make a mask and 'zero-out' any region of the image where the total counts equate to less than 1 atom count. This could also be done on an element by element basis instead."
      ]
    },
    {
      "cell_type": "code",
      "execution_count": 47,
      "metadata": {
        "colab": {
          "base_uri": "https://localhost:8080/",
          "height": 230
        },
        "id": "SPDMw_laMvAt",
        "outputId": "44f12fee-5244-4e30-98fb-bf2e9f06faec"
      },
      "outputs": [
        {
          "output_type": "execute_result",
          "data": {
            "text/plain": [
              "[<matplotlib.axes._subplots.AxesSubplot at 0x7fd3261eaf70>,\n",
              " <matplotlib.axes._subplots.AxesSubplot at 0x7fd3262a9310>]"
            ]
          },
          "metadata": {},
          "execution_count": 47
        },
        {
          "output_type": "display_data",
          "data": {
            "text/plain": [
              "<Figure size 432x216 with 4 Axes>"
            ],
            "image/png": "[encoded data removed]"
          },
          "metadata": {
            "needs_background": "light"
          }
        }
      ],
      "source": [
        "Mask = No_of_atoms > 1.\n",
        "hs.plot.plot_images([Mask*quant[0][0], Mask*quant[0][1]], scalebar ='all', cmap='viridis',\n",
        "                   label=['Fe', 'Pt'], axes_decor='off', vmin=0, vmax=100)"
      ]
    },
    {
      "cell_type": "markdown",
      "metadata": {
        "id": "aUqyH_GXMvAt"
      },
      "source": [
        "## <a id='bss'></a> 5. Blind source separation of core/shell nanoparticles"
      ]
    },
    {
      "cell_type": "markdown",
      "metadata": {
        "id": "W36Uip7cMvAt"
      },
      "source": [
        "<a href='#top'> Table of contents</a>"
      ]
    },
    {
      "cell_type": "markdown",
      "metadata": {
        "id": "0bqTsV7VMvAt"
      },
      "source": [
        "Apply blind source separation (ICA) to obtain a factor (spectrum) corresponding to the core."
      ]
    },
    {
      "cell_type": "code",
      "execution_count": 48,
      "metadata": {
        "colab": {
          "base_uri": "https://localhost:8080/",
          "height": 0
        },
        "id": "i4Xi0WcKMvAt",
        "outputId": "d66b35ea-6248-4666-a9bb-8bc147e19fc0"
      },
      "outputs": [
        {
          "output_type": "stream",
          "name": "stdout",
          "text": [
            "Decomposition info:\n",
            "  normalize_poissonian_noise=True\n",
            "  algorithm=SVD\n",
            "  output_dimension=None\n",
            "  centre=None\n"
          ]
        }
      ],
      "source": [
        "cs.change_dtype('float')\n",
        "cs.decomposition()"
      ]
    },
    {
      "cell_type": "code",
      "execution_count": 49,
      "metadata": {
        "colab": {
          "base_uri": "https://localhost:8080/",
          "height": 313
        },
        "id": "gx0YYW3NMvAu",
        "outputId": "662e4e1a-3576-4dd1-dbaf-fc8cec90f1d3"
      },
      "outputs": [
        {
          "output_type": "display_data",
          "data": {
            "text/plain": [
              "<Figure size 432x288 with 1 Axes>"
            ],
            "image/png": "[encoded data removed]"
          },
          "metadata": {
            "needs_background": "light"
          }
        }
      ],
      "source": [
        "ax = cs.plot_explained_variance_ratio()"
      ]
    },
    {
      "cell_type": "markdown",
      "metadata": {
        "id": "GnMJCiICMvAu"
      },
      "source": [
        "ICA on the three first components."
      ]
    },
    {
      "cell_type": "code",
      "execution_count": 50,
      "metadata": {
        "colab": {
          "base_uri": "https://localhost:8080/",
          "height": 0
        },
        "id": "0qXSr3VjMvAu",
        "outputId": "ff701551-00f6-4d11-dcb3-65a7a86c6ba7"
      },
      "outputs": [
        {
          "output_type": "stream",
          "name": "stdout",
          "text": [
            "[########################################] | 100% Completed |  0.1s\n"
          ]
        },
        {
          "output_type": "stream",
          "name": "stderr",
          "text": [
            "WARNING:hyperspy.learn.mva:HyperSpy already performs its own data whitening (whiten_method='PCA'), so it is ignored for algorithm='sklearn_fastica'.\n"
          ]
        },
        {
          "output_type": "stream",
          "name": "stdout",
          "text": [
            "Blind source separation info:\n",
            "  number_of_components=3\n",
            "  algorithm=sklearn_fastica\n",
            "  diff_order=1\n",
            "  reverse_component_criterion=factors\n",
            "  whiten_method=PCA\n",
            "scikit-learn estimator:\n",
            "FastICA(tol=1e-10, whiten=False)\n"
          ]
        }
      ],
      "source": [
        "cs.blind_source_separation(3)"
      ]
    },
    {
      "cell_type": "code",
      "execution_count": 51,
      "metadata": {
        "colab": {
          "base_uri": "https://localhost:8080/",
          "height": 234
        },
        "id": "zMPc73BPMvAu",
        "outputId": "70f76c16-4416-4602-a5d7-9861ef6faa6b"
      },
      "outputs": [
        {
          "output_type": "display_data",
          "data": {
            "text/plain": [
              "<Figure size 432x288 with 6 Axes>"
            ],
            "image/png": "[encoded data removed]"
          },
          "metadata": {
            "needs_background": "light"
          }
        }
      ],
      "source": [
        "axes = cs.plot_bss_loadings()"
      ]
    },
    {
      "cell_type": "code",
      "execution_count": 52,
      "metadata": {
        "colab": {
          "base_uri": "https://localhost:8080/",
          "height": 297
        },
        "id": "BhW1XzniMvAu",
        "outputId": "bd82875d-b82e-4cc6-a647-2f07297ad1f7"
      },
      "outputs": [
        {
          "output_type": "display_data",
          "data": {
            "text/plain": [
              "<Figure size 432x288 with 1 Axes>"
            ],
            "image/png": "[encoded data removed]"
          },
          "metadata": {
            "needs_background": "light"
          }
        }
      ],
      "source": [
        "axes = cs.plot_bss_factors()"
      ]
    },
    {
      "cell_type": "markdown",
      "metadata": {
        "id": "jL4EOjzBMvAu"
      },
      "source": [
        "The first component corresponds to the core."
      ]
    },
    {
      "cell_type": "code",
      "execution_count": 53,
      "metadata": {
        "id": "7Fh9oV1BMvAu"
      },
      "outputs": [],
      "source": [
        "s_bss = cs.get_bss_factors().inav[0]"
      ]
    },
    {
      "cell_type": "markdown",
      "metadata": {
        "id": "1RazePqRMvAu"
      },
      "source": [
        "## <a id='bare'></a> 6. Representative spectrum from bare cores"
      ]
    },
    {
      "cell_type": "markdown",
      "metadata": {
        "id": "F28N9e9ZMvAu"
      },
      "source": [
        "<a href='#top'> Table of contents</a>"
      ]
    },
    {
      "cell_type": "markdown",
      "metadata": {
        "id": "Bt0gB65hMvAu"
      },
      "source": [
        "To obtain an integrated representative spectrum of the bare nanoparticles, the low intensity of Pt L$_{\\alpha}$ is masked."
      ]
    },
    {
      "cell_type": "code",
      "execution_count": 54,
      "metadata": {
        "id": "_b7v7EBmMvAu"
      },
      "outputs": [],
      "source": [
        "pt_la = c.get_lines_intensity(['Pt_La'])[0]\n",
        "mask = pt_la > 12"
      ]
    },
    {
      "cell_type": "code",
      "source": [
        "mask"
      ],
      "metadata": {
        "id": "xvN-az95Itry",
        "outputId": "6dbdf63f-3351-4904-84ac-3d8883325358",
        "colab": {
          "base_uri": "https://localhost:8080/",
          "height": 0
        }
      },
      "execution_count": 55,
      "outputs": [
        {
          "output_type": "execute_result",
          "data": {
            "text/plain": [
              "<BaseSignal, title: X-ray line intensity of Bare core: Pt_La at 9.44 keV, dimensions: (42, 42|)>"
            ]
          },
          "metadata": {},
          "execution_count": 55
        }
      ]
    },
    {
      "cell_type": "code",
      "source": [
        "pt_la"
      ],
      "metadata": {
        "id": "kMx6lgiyIvq0",
        "outputId": "0af9cba8-21bd-4288-a33e-60b65e7805cd",
        "colab": {
          "base_uri": "https://localhost:8080/",
          "height": 0
        }
      },
      "execution_count": 56,
      "outputs": [
        {
          "output_type": "execute_result",
          "data": {
            "text/plain": [
              "<BaseSignal, title: X-ray line intensity of Bare core: Pt_La at 9.44 keV, dimensions: (42, 42|)>"
            ]
          },
          "metadata": {},
          "execution_count": 56
        }
      ]
    },
    {
      "cell_type": "code",
      "source": [
        "pt_la*mask"
      ],
      "metadata": {
        "id": "FAZyLWIcJJzR",
        "outputId": "1fb417db-4ae1-4593-e519-c279b72f9369",
        "colab": {
          "base_uri": "https://localhost:8080/",
          "height": 0
        }
      },
      "execution_count": 57,
      "outputs": [
        {
          "output_type": "execute_result",
          "data": {
            "text/plain": [
              "<BaseSignal, title: X-ray line intensity of Bare core: Pt_La at 9.44 keV, dimensions: (42, 42|)>"
            ]
          },
          "metadata": {},
          "execution_count": 57
        }
      ]
    },
    {
      "cell_type": "code",
      "execution_count": 58,
      "metadata": {
        "colab": {
          "base_uri": "https://localhost:8080/",
          "height": 203
        },
        "id": "lwYnwTmqMvAu",
        "outputId": "f776aa56-068f-4a0e-c3f1-d4719c91341b"
      },
      "outputs": [
        {
          "output_type": "display_data",
          "data": {
            "text/plain": [
              "<Figure size 432x216 with 2 Axes>"
            ],
            "image/png": "[encoded data removed]"
          },
          "metadata": {
            "needs_background": "light"
          }
        }
      ],
      "source": [
        "axes = hs.plot.plot_images((mask*1, pt_la * mask), axes_decor=None, colorbar=None,\n",
        "                           label=['Mask', 'Pt Lα intensity'], cmap='viridis')"
      ]
    },
    {
      "cell_type": "markdown",
      "metadata": {
        "id": "ModBHC3UMvAv"
      },
      "source": [
        "To apply the mask, the navigation dimensions of the mask must be manipulated to match the navigation dimensions of the EDS spectrum image. This is achieved crudely via first generating a mask using the built in vacuum_mask() method and then overwriting the data with the mask generated above."
      ]
    },
    {
      "cell_type": "code",
      "execution_count": 59,
      "metadata": {
        "id": "UIQitJqbMvAv"
      },
      "outputs": [],
      "source": [
        "c_mask = c.sum(-1)\n",
        "c_mask.data = mask.data"
      ]
    },
    {
      "cell_type": "markdown",
      "metadata": {
        "id": "gD30IsQEMvAv"
      },
      "source": [
        "The sum over the particles is used as a bare core spectrum."
      ]
    },
    {
      "cell_type": "code",
      "execution_count": 60,
      "metadata": {
        "id": "SAgAQGEiMvAv"
      },
      "outputs": [],
      "source": [
        "s_bare = (c * c_mask).sum()"
      ]
    },
    {
      "cell_type": "markdown",
      "metadata": {
        "id": "BOe0NpPzMvAv"
      },
      "source": [
        "## <a id='com'></a> 7. Model fitting and quantification"
      ]
    },
    {
      "cell_type": "markdown",
      "metadata": {
        "id": "kiciKIFqMvAv"
      },
      "source": [
        "<a href='#top'> Table of contents</a>"
      ]
    },
    {
      "cell_type": "markdown",
      "metadata": {
        "id": "16hAuNQ6MvAv"
      },
      "source": [
        "With a greater signal to noise ratio from integrating the spectrum curve fitting now beceoms possible as a method of intensity extraction. \n",
        "\n",
        "First we stack together the spectrum of bare particles and the first ICA component."
      ]
    },
    {
      "cell_type": "code",
      "execution_count": 61,
      "metadata": {
        "id": "zE5QVKd-MvAv",
        "outputId": "fbe2713e-c722-4da2-f27e-be8e9d6be75e",
        "colab": {
          "base_uri": "https://localhost:8080/",
          "height": 0
        }
      },
      "outputs": [
        {
          "output_type": "stream",
          "name": "stdout",
          "text": [
            "[########################################] | 100% Completed |  0.1s\n"
          ]
        }
      ],
      "source": [
        "s_bare.change_dtype('float')\n",
        "s = hs.stack([s_bare, s_bss], new_axis_name='Bare or BSS')\n",
        "s.metadata.General.title = 'Bare or BSS'"
      ]
    },
    {
      "cell_type": "code",
      "execution_count": 62,
      "metadata": {
        "id": "QvOvqPqEMvAv",
        "outputId": "2cbb9e08-e07d-4277-e566-58f9f2b1c7f0",
        "colab": {
          "base_uri": "https://localhost:8080/",
          "height": 585
        }
      },
      "outputs": [
        {
          "output_type": "display_data",
          "data": {
            "text/plain": [
              "<Figure size 432x576 with 2 Axes>"
            ],
            "image/png": "[encoded data removed]"
          },
          "metadata": {
            "needs_background": "light"
          }
        }
      ],
      "source": [
        "axes = hs.plot.plot_spectra(s, style='mosaic', legend=['Bare particles', 'BSS #0'])"
      ]
    },
    {
      "cell_type": "markdown",
      "metadata": {
        "id": "9ZZpwJdbMvAv"
      },
      "source": [
        "### Method 1 - Window extraction\n",
        "\n",
        "X-ray intensities measurement with background subtraction, using the windows created earlier."
      ]
    },
    {
      "cell_type": "code",
      "execution_count": 63,
      "metadata": {
        "id": "lOyI0MwsMvAv",
        "outputId": "2cab346d-5845-444d-b34a-3a93f0b37ed6",
        "colab": {
          "base_uri": "https://localhost:8080/",
          "height": 433
        }
      },
      "outputs": [
        {
          "output_type": "display_data",
          "data": {
            "text/plain": [
              "<Figure size 432x144 with 2 Axes>"
            ],
            "image/png": "[encoded data removed]"
          },
          "metadata": {
            "needs_background": "light"
          }
        },
        {
          "output_type": "display_data",
          "data": {
            "text/plain": [
              "<Figure size 432x288 with 1 Axes>"
            ],
            "image/png": "[encoded data removed]"
          },
          "metadata": {
            "needs_background": "light"
          }
        }
      ],
      "source": [
        "s.plot(background_windows=bw, integration_windows=iw)"
      ]
    },
    {
      "cell_type": "code",
      "execution_count": 64,
      "metadata": {
        "id": "cbIjZGO1MvAv"
      },
      "outputs": [],
      "source": [
        "sI = s.get_lines_intensity(background_windows=bw, integration_windows=iw)"
      ]
    },
    {
      "cell_type": "code",
      "execution_count": 65,
      "metadata": {
        "id": "Z5XuZBb8MvAw",
        "outputId": "b7b74e7f-875e-4a21-c0f7-7eb5373a6b76",
        "colab": {
          "base_uri": "https://localhost:8080/",
          "height": 0
        }
      },
      "outputs": [
        {
          "output_type": "stream",
          "name": "stdout",
          "text": [
            "Bare core Fe_Kα/Pt_Lα ratio: \t0.19\n",
            "BSS Fe_Kα/Pt_Lα ratio: \t\t0.16\n"
          ]
        }
      ],
      "source": [
        "print('Bare core Fe_Kα/Pt_Lα ratio: \\t{:.2f}'.format(list(sI[0].inav[0].data / sI[1].inav[0].data)[0]))\n",
        "print('BSS Fe_Kα/Pt_Lα ratio: \\t\\t{:.2f}'.format(list(sI[0].inav[1].data / sI[1].inav[1].data)[0]))"
      ]
    },
    {
      "cell_type": "markdown",
      "metadata": {
        "id": "bL2RAFW0MvAw"
      },
      "source": [
        "### Method 2 - Model fitting\n",
        "\n",
        "Measure X-ray intensity by fitting a Gaussian model"
      ]
    },
    {
      "cell_type": "code",
      "execution_count": 66,
      "metadata": {
        "id": "p8E9Pg1UMvAw"
      },
      "outputs": [],
      "source": [
        "#Removing the low energy part of the spectrum as this is not a region we're interested in.\n",
        "m = s.isig[5.:15.].create_model()"
      ]
    },
    {
      "cell_type": "code",
      "execution_count": 67,
      "metadata": {
        "id": "TZva3nGLMvAw"
      },
      "outputs": [],
      "source": [
        "#These lines needed to be added to the model because they are not in the metadata. \n",
        "#In this way they are included in the curve fitting but not in the final quantification.\n",
        "m.add_family_lines(['Cu_Ka', 'Co_Ka'])"
      ]
    },
    {
      "cell_type": "code",
      "execution_count": 68,
      "metadata": {
        "id": "MvCy9wkRMvAw",
        "outputId": "a52c41e8-a04b-4266-ad28-a69d6e3bc272",
        "colab": {
          "base_uri": "https://localhost:8080/",
          "height": 0
        }
      },
      "outputs": [
        {
          "output_type": "execute_result",
          "data": {
            "text/plain": [
              "   # |      Attribute Name |      Component Name |      Component Type\n",
              "---- | ------------------- | ------------------- | -------------------\n",
              "   0 |  background_order_6 |  background_order_6 |          Polynomial\n",
              "   1 |               Fe_Ka |               Fe_Ka |            Gaussian\n",
              "   2 |               Fe_Kb |               Fe_Kb |            Gaussian\n",
              "   3 |               Pt_La |               Pt_La |            Gaussian\n",
              "   4 |              Pt_Lb1 |              Pt_Lb1 |            Gaussian\n",
              "   5 |              Pt_Lb4 |              Pt_Lb4 |            Gaussian\n",
              "   6 |               Pt_Ln |               Pt_Ln |            Gaussian\n",
              "   7 |               Pt_Ll |               Pt_Ll |            Gaussian\n",
              "   8 |              Pt_Lb2 |              Pt_Lb2 |            Gaussian\n",
              "   9 |              Pt_Lb3 |              Pt_Lb3 |            Gaussian\n",
              "  10 |              Pt_Lg3 |              Pt_Lg3 |            Gaussian\n",
              "  11 |              Pt_Lg1 |              Pt_Lg1 |            Gaussian\n",
              "  12 |               Cu_Ka |               Cu_Ka |            Gaussian\n",
              "  13 |               Cu_Kb |               Cu_Kb |            Gaussian\n",
              "  14 |               Co_Ka |               Co_Ka |            Gaussian\n",
              "  15 |               Co_Kb |               Co_Kb |            Gaussian"
            ]
          },
          "metadata": {},
          "execution_count": 68
        }
      ],
      "source": [
        "m.components"
      ]
    },
    {
      "cell_type": "code",
      "execution_count": 69,
      "metadata": {
        "id": "7M8t_WZ6MvAw",
        "outputId": "082b59f8-9e19-49cd-d3f6-5bcde5bc855f",
        "colab": {
          "base_uri": "https://localhost:8080/",
          "height": 433
        }
      },
      "outputs": [
        {
          "output_type": "display_data",
          "data": {
            "text/plain": [
              "<Figure size 432x144 with 2 Axes>"
            ],
            "image/png": "[encoded data removed]"
          },
          "metadata": {
            "needs_background": "light"
          }
        },
        {
          "output_type": "display_data",
          "data": {
            "text/plain": [
              "<Figure size 432x288 with 1 Axes>"
            ],
            "image/png": "[encoded data removed]"
          },
          "metadata": {
            "needs_background": "light"
          }
        }
      ],
      "source": [
        "m.plot()"
      ]
    },
    {
      "cell_type": "code",
      "execution_count": 70,
      "metadata": {
        "id": "hVuJwolmMvAw",
        "outputId": "8bda180c-4291-4294-eff3-6b16bafdd119",
        "colab": {
          "base_uri": "https://localhost:8080/",
          "height": 105,
          "referenced_widgets": [
            "aad1f187f39b49539e7ee9053fa640eb",
            "03861c44cd1d45689a87526a65bbd843",
            "e6f3f3ead66642f28a17fc7819d595ec",
            "107025a936ca4f62a242bf500d8ecddc",
            "3e385d5d72974de895b7ecff7635d083",
            "a4609779c4154afeba4def855ac41fb5",
            "e784c0e54ff14b58afc16fa5576fd3d6",
            "fd0ed4b9a2ef4dffafdf3806849aab3a",
            "dd9b0398e86644a9910be11b95477747",
            "fa5353b892c7465e991586039312de35",
            "9c07ea5403b446c6a1cb0783c42f193b"
          ]
        }
      },
      "outputs": [
        {
          "output_type": "stream",
          "name": "stderr",
          "text": [
            "/usr/local/lib/python3.8/dist-packages/hyperspy/model.py:1890: VisibleDeprecationWarning: The `iterpath` default will change from 'flyback' to 'serpentine' in HyperSpy version 2.0. Change the 'iterpath' argument to other than None to suppress this warning.\n",
            "  warnings.warn(\n"
          ]
        },
        {
          "output_type": "display_data",
          "data": {
            "text/plain": [
              "  0%|          | 0/2 [00:00<?, ?it/s]"
            ],
            "application/vnd.jupyter.widget-view+json": {
              "version_major": 2,
              "version_minor": 0,
              "model_id": "aad1f187f39b49539e7ee9053fa640eb"
            }
          },
          "metadata": {}
        }
      ],
      "source": [
        "m.multifit()"
      ]
    },
    {
      "cell_type": "code",
      "execution_count": 71,
      "metadata": {
        "id": "tTSKZMIlMvAw"
      },
      "outputs": [],
      "source": [
        "m.fit_background()"
      ]
    },
    {
      "cell_type": "code",
      "execution_count": 72,
      "metadata": {
        "id": "RpjBKIjXMvAw"
      },
      "outputs": [],
      "source": [
        "m.calibrate_energy_axis()"
      ]
    },
    {
      "cell_type": "code",
      "execution_count": 73,
      "metadata": {
        "id": "qahUt_JUMvAw",
        "outputId": "2457302c-364a-4bd2-8079-88a675f6a772",
        "colab": {
          "base_uri": "https://localhost:8080/",
          "height": 433
        }
      },
      "outputs": [
        {
          "output_type": "display_data",
          "data": {
            "text/plain": [
              "<Figure size 432x144 with 2 Axes>"
            ],
            "image/png": "[encoded data removed]"
          },
          "metadata": {
            "needs_background": "light"
          }
        },
        {
          "output_type": "display_data",
          "data": {
            "text/plain": [
              "<Figure size 432x288 with 1 Axes>"
            ],
            "image/png": "[encoded data removed]"
          },
          "metadata": {
            "needs_background": "light"
          }
        }
      ],
      "source": [
        "m.plot()"
      ]
    },
    {
      "cell_type": "code",
      "execution_count": 74,
      "metadata": {
        "id": "vqAFqlB1MvAw",
        "outputId": "ed00c579-715b-4cca-8fb8-f54165f7b42f",
        "colab": {
          "base_uri": "https://localhost:8080/",
          "height": 0
        }
      },
      "outputs": [
        {
          "output_type": "execute_result",
          "data": {
            "text/plain": [
              "[<BaseSignal, title: Intensity of Fe_Ka at 6.40 keV from Bare or BSS, dimensions: (2|)>,\n",
              " <BaseSignal, title: Intensity of Pt_La at 9.44 keV from Bare or BSS, dimensions: (2|)>]"
            ]
          },
          "metadata": {},
          "execution_count": 74
        }
      ],
      "source": [
        "sI = m.get_lines_intensity()[:2]\n",
        "sI"
      ]
    },
    {
      "cell_type": "markdown",
      "metadata": {
        "id": "R5IxW5JaMvAx"
      },
      "source": [
        "Set up the kfactors for Fe K$_{\\alpha}$ and Pt L$_{\\alpha}$."
      ]
    },
    {
      "cell_type": "code",
      "execution_count": 75,
      "metadata": {
        "id": "BDJYYCawMvAx"
      },
      "outputs": [],
      "source": [
        "#From Brucker software (Esprit)\n",
        "kfactors = [1.450226, 5.075602]"
      ]
    },
    {
      "cell_type": "markdown",
      "metadata": {
        "id": "HKdZqFdEMvAx"
      },
      "source": [
        "Quantify with Cliff Lorimer."
      ]
    },
    {
      "cell_type": "code",
      "execution_count": 76,
      "metadata": {
        "id": "Tpk4t3PxMvAx",
        "outputId": "5664be8f-dc16-4f1f-f2e8-7cf39a9bfdc8",
        "colab": {
          "base_uri": "https://localhost:8080/",
          "height": 0
        }
      },
      "outputs": [
        {
          "output_type": "stream",
          "name": "stdout",
          "text": [
            "[########################################] | 100% Completed |  0.1s\n"
          ]
        },
        {
          "output_type": "stream",
          "name": "stderr",
          "text": [
            "/usr/local/lib/python3.8/dist-packages/hyperspy/misc/material.py:61: RuntimeWarning: invalid value encountered in true_divide\n",
            "  atomic_percent[i] /= sum_weight\n"
          ]
        }
      ],
      "source": [
        "composition = s.quantification(method=\"CL\", intensities=sI, factors=kfactors)"
      ]
    },
    {
      "cell_type": "code",
      "execution_count": 77,
      "metadata": {
        "id": "Ba2ZoFYqMvAx",
        "outputId": "73e20d5c-13bf-474c-9c0c-d24b765b4b3a",
        "colab": {
          "base_uri": "https://localhost:8080/",
          "height": 0
        }
      },
      "outputs": [
        {
          "output_type": "stream",
          "name": "stdout",
          "text": [
            "             |-----------------------------|\n",
            "             |     Atomic compositions     |\n",
            "             |-----------------------------|\n",
            " \t     |  Bare core  |   BSS Signal  |\n",
            "|------------|-------------|---------------|\n",
            "| Fe (at. %) |    0.00    |     0.00     |\n",
            "| Pt (at. %) |    0.00    |     0.00     |\n",
            "|------------|-------------|---------------|\n"
          ]
        }
      ],
      "source": [
        "print('             |-----------------------------|')\n",
        "print('             |     Atomic compositions     |')\n",
        "print('             |-----------------------------|')\n",
        "\n",
        "print(' \\t     |  Bare core  |   BSS Signal  |')\n",
        "print('|------------|-------------|---------------|')\n",
        "print('| Fe (at. %) |    {:.2f}    |     {:.2f}     |'.format(composition[0].data[0], composition[0].data[1]))\n",
        "print('| Pt (at. %) |    {:.2f}    |     {:.2f}     |'.format(composition[1].data[0], composition[1].data[1]))\n",
        "print('|------------|-------------|---------------|')"
      ]
    },
    {
      "cell_type": "markdown",
      "metadata": {
        "id": "_8KVpVqSMvAx"
      },
      "source": [
        "## <a id='fur'></a> 6. Going further"
      ]
    },
    {
      "cell_type": "markdown",
      "metadata": {
        "id": "IuJGYQfbMvAx"
      },
      "source": [
        "<a href='#top'> Table of contents</a>"
      ]
    },
    {
      "cell_type": "markdown",
      "metadata": {
        "id": "O3f3EZn6MvAx"
      },
      "source": [
        "Further image processing with [scikit-image](http://scikit-image.org/) and [scipy](http://www.scipy.org/). Apply a watershed transformation to isolate the nanoparticles."
      ]
    },
    {
      "cell_type": "markdown",
      "metadata": {
        "id": "efA4kEYwMvAx"
      },
      "source": [
        "- Transform the mask into a distance map.\n",
        "- Find local maxima.\n",
        "- Apply the watershed to the distance map using the local maximum as seed (markers).\n",
        "\n",
        "Adapted from this scikit-image [example](http://scikit-image.org/docs/dev/auto_examples/plot_watershed.html)."
      ]
    },
    {
      "cell_type": "code",
      "execution_count": 78,
      "metadata": {
        "id": "7g7OxvriMvAx"
      },
      "outputs": [],
      "source": [
        "from scipy.ndimage import distance_transform_edt, label\n",
        "from skimage.morphology import watershed\n",
        "from skimage.feature import peak_local_max"
      ]
    },
    {
      "cell_type": "code",
      "execution_count": 79,
      "metadata": {
        "id": "UpsJCLWpMvAx",
        "outputId": "6b94b7c5-15b8-4f43-9426-c04848c6d206",
        "colab": {
          "base_uri": "https://localhost:8080/",
          "height": 0
        }
      },
      "outputs": [
        {
          "output_type": "stream",
          "name": "stderr",
          "text": [
            "<ipython-input-79-acc72c3946a5>:2: FutureWarning: indices argument is deprecated and will be removed in version 0.20. To avoid this warning, please do not use the indices argument. Please see peak_local_max documentation for more details.\n",
            "  local_maxi = peak_local_max(distance, indices=False,\n",
            "/usr/local/lib/python3.8/dist-packages/skimage/morphology/_deprecated.py:5: skimage_deprecation: Function ``watershed`` is deprecated and will be removed in version 0.19. Use ``skimage.segmentation.watershed`` instead.\n",
            "  def watershed(image, markers=None, connectivity=1, offset=None, mask=None,\n"
          ]
        }
      ],
      "source": [
        "distance = distance_transform_edt(mask.data)\n",
        "local_maxi = peak_local_max(distance, indices=False,\n",
        "                            min_distance=2, labels=mask.data)\n",
        "labels = watershed(-distance, markers=label(local_maxi)[0],\n",
        "                   mask=mask.data)"
      ]
    },
    {
      "cell_type": "code",
      "execution_count": 80,
      "metadata": {
        "id": "oRgKENFJMvAx",
        "outputId": "96e63209-a822-4703-94de-46e9f7718f0d",
        "colab": {
          "base_uri": "https://localhost:8080/",
          "height": 444
        }
      },
      "outputs": [
        {
          "output_type": "stream",
          "name": "stderr",
          "text": [
            "/usr/local/lib/python3.8/dist-packages/hyperspy/signal.py:2310: RuntimeWarning: overflow encountered in multiply\n",
            "  getattr(self.data, op_name)(other))\n",
            "/usr/local/lib/python3.8/dist-packages/numpy/lib/function_base.py:4009: RuntimeWarning: invalid value encountered in subtract\n",
            "  diff_b_a = subtract(b, a)\n"
          ]
        },
        {
          "output_type": "display_data",
          "data": {
            "text/plain": [
              "<Figure size 432x432 with 4 Axes>"
            ],
            "image/png": "[encoded data removed]"
          },
          "metadata": {
            "needs_background": "light"
          }
        }
      ],
      "source": [
        "axes = hs.plot.plot_images(\n",
        "    [pt_la.T*1, mask.T*1, hs.signals.Signal2D(distance)*1.1, hs.signals.Signal2D(labels)*1],\n",
        "    axes_decor='off', per_row=2, colorbar=None, cmap=['viridis','tab20'],\n",
        "    label=['Pt Lα intensity', 'Mask',\n",
        "           'Distances', 'Separated particles'])"
      ]
    },
    {
      "cell_type": "code",
      "source": [],
      "metadata": {
        "id": "YYpmYUGavpPM"
      },
      "execution_count": null,
      "outputs": []
    }
  ],
  "metadata": {
    "anaconda-cloud": {},
    "kernelspec": {
      "display_name": "Python 3",
      "language": "python",
      "name": "python3"
    },
    "language_info": {
      "codemirror_mode": {
        "name": "ipython",
        "version": 3
      },
      "file_extension": ".py",
      "mimetype": "text/x-python",
      "name": "python",
      "nbconvert_exporter": "python",
      "pygments_lexer": "ipython3",
      "version": "3.5.6"
    },
    "colab": {
      "provenance": [],
      "include_colab_link": true
    },
    "widgets": {
      "application/vnd.jupyter.widget-state+json": {
        "aad1f187f39b49539e7ee9053fa640eb": {
          "model_module": "@jupyter-widgets/controls",
          "model_name": "HBoxModel",
          "model_module_version": "1.5.0",
          "state": {
            "_dom_classes": [],
            "_model_module": "@jupyter-widgets/controls",
            "_model_module_version": "1.5.0",
            "_model_name": "HBoxModel",
            "_view_count": null,
            "_view_module": "@jupyter-widgets/controls",
            "_view_module_version": "1.5.0",
            "_view_name": "HBoxView",
            "box_style": "",
            "children": [
              "IPY_MODEL_03861c44cd1d45689a87526a65bbd843",
              "IPY_MODEL_e6f3f3ead66642f28a17fc7819d595ec",
              "IPY_MODEL_107025a936ca4f62a242bf500d8ecddc"
            ],
            "layout": "IPY_MODEL_3e385d5d72974de895b7ecff7635d083"
          }
        },
        "03861c44cd1d45689a87526a65bbd843": {
          "model_module": "@jupyter-widgets/controls",
          "model_name": "HTMLModel",
          "model_module_version": "1.5.0",
          "state": {
            "_dom_classes": [],
            "_model_module": "@jupyter-widgets/controls",
            "_model_module_version": "1.5.0",
            "_model_name": "HTMLModel",
            "_view_count": null,
            "_view_module": "@jupyter-widgets/controls",
            "_view_module_version": "1.5.0",
            "_view_name": "HTMLView",
            "description": "",
            "description_tooltip": null,
            "layout": "IPY_MODEL_a4609779c4154afeba4def855ac41fb5",
            "placeholder": "​",
            "style": "IPY_MODEL_e784c0e54ff14b58afc16fa5576fd3d6",
            "value": "100%"
          }
        },
        "e6f3f3ead66642f28a17fc7819d595ec": {
          "model_module": "@jupyter-widgets/controls",
          "model_name": "FloatProgressModel",
          "model_module_version": "1.5.0",
          "state": {
            "_dom_classes": [],
            "_model_module": "@jupyter-widgets/controls",
            "_model_module_version": "1.5.0",
            "_model_name": "FloatProgressModel",
            "_view_count": null,
            "_view_module": "@jupyter-widgets/controls",
            "_view_module_version": "1.5.0",
            "_view_name": "ProgressView",
            "bar_style": "success",
            "description": "",
            "description_tooltip": null,
            "layout": "IPY_MODEL_fd0ed4b9a2ef4dffafdf3806849aab3a",
            "max": 2,
            "min": 0,
            "orientation": "horizontal",
            "style": "IPY_MODEL_dd9b0398e86644a9910be11b95477747",
            "value": 2
          }
        },
        "107025a936ca4f62a242bf500d8ecddc": {
          "model_module": "@jupyter-widgets/controls",
          "model_name": "HTMLModel",
          "model_module_version": "1.5.0",
          "state": {
            "_dom_classes": [],
            "_model_module": "@jupyter-widgets/controls",
            "_model_module_version": "1.5.0",
            "_model_name": "HTMLModel",
            "_view_count": null,
            "_view_module": "@jupyter-widgets/controls",
            "_view_module_version": "1.5.0",
            "_view_name": "HTMLView",
            "description": "",
            "description_tooltip": null,
            "layout": "IPY_MODEL_fa5353b892c7465e991586039312de35",
            "placeholder": "​",
            "style": "IPY_MODEL_9c07ea5403b446c6a1cb0783c42f193b",
            "value": " 2/2 [00:00&lt;00:00, 14.54it/s]"
          }
        },
        "3e385d5d72974de895b7ecff7635d083": {
          "model_module": "@jupyter-widgets/base",
          "model_name": "LayoutModel",
          "model_module_version": "1.2.0",
          "state": {
            "_model_module": "@jupyter-widgets/base",
            "_model_module_version": "1.2.0",
            "_model_name": "LayoutModel",
            "_view_count": null,
            "_view_module": "@jupyter-widgets/base",
            "_view_module_version": "1.2.0",
            "_view_name": "LayoutView",
            "align_content": null,
            "align_items": null,
            "align_self": null,
            "border": null,
            "bottom": null,
            "display": null,
            "flex": null,
            "flex_flow": null,
            "grid_area": null,
            "grid_auto_columns": null,
            "grid_auto_flow": null,
            "grid_auto_rows": null,
            "grid_column": null,
            "grid_gap": null,
            "grid_row": null,
            "grid_template_areas": null,
            "grid_template_columns": null,
            "grid_template_rows": null,
            "height": null,
            "justify_content": null,
            "justify_items": null,
            "left": null,
            "margin": null,
            "max_height": null,
            "max_width": null,
            "min_height": null,
            "min_width": null,
            "object_fit": null,
            "object_position": null,
            "order": null,
            "overflow": null,
            "overflow_x": null,
            "overflow_y": null,
            "padding": null,
            "right": null,
            "top": null,
            "visibility": null,
            "width": null
          }
        },
        "a4609779c4154afeba4def855ac41fb5": {
          "model_module": "@jupyter-widgets/base",
          "model_name": "LayoutModel",
          "model_module_version": "1.2.0",
          "state": {
            "_model_module": "@jupyter-widgets/base",
            "_model_module_version": "1.2.0",
            "_model_name": "LayoutModel",
            "_view_count": null,
            "_view_module": "@jupyter-widgets/base",
            "_view_module_version": "1.2.0",
            "_view_name": "LayoutView",
            "align_content": null,
            "align_items": null,
            "align_self": null,
            "border": null,
            "bottom": null,
            "display": null,
            "flex": null,
            "flex_flow": null,
            "grid_area": null,
            "grid_auto_columns": null,
            "grid_auto_flow": null,
            "grid_auto_rows": null,
            "grid_column": null,
            "grid_gap": null,
            "grid_row": null,
            "grid_template_areas": null,
            "grid_template_columns": null,
            "grid_template_rows": null,
            "height": null,
            "justify_content": null,
            "justify_items": null,
            "left": null,
            "margin": null,
            "max_height": null,
            "max_width": null,
            "min_height": null,
            "min_width": null,
            "object_fit": null,
            "object_position": null,
            "order": null,
            "overflow": null,
            "overflow_x": null,
            "overflow_y": null,
            "padding": null,
            "right": null,
            "top": null,
            "visibility": null,
            "width": null
          }
        },
        "e784c0e54ff14b58afc16fa5576fd3d6": {
          "model_module": "@jupyter-widgets/controls",
          "model_name": "DescriptionStyleModel",
          "model_module_version": "1.5.0",
          "state": {
            "_model_module": "@jupyter-widgets/controls",
            "_model_module_version": "1.5.0",
            "_model_name": "DescriptionStyleModel",
            "_view_count": null,
            "_view_module": "@jupyter-widgets/base",
            "_view_module_version": "1.2.0",
            "_view_name": "StyleView",
            "description_width": ""
          }
        },
        "fd0ed4b9a2ef4dffafdf3806849aab3a": {
          "model_module": "@jupyter-widgets/base",
          "model_name": "LayoutModel",
          "model_module_version": "1.2.0",
          "state": {
            "_model_module": "@jupyter-widgets/base",
            "_model_module_version": "1.2.0",
            "_model_name": "LayoutModel",
            "_view_count": null,
            "_view_module": "@jupyter-widgets/base",
            "_view_module_version": "1.2.0",
            "_view_name": "LayoutView",
            "align_content": null,
            "align_items": null,
            "align_self": null,
            "border": null,
            "bottom": null,
            "display": null,
            "flex": null,
            "flex_flow": null,
            "grid_area": null,
            "grid_auto_columns": null,
            "grid_auto_flow": null,
            "grid_auto_rows": null,
            "grid_column": null,
            "grid_gap": null,
            "grid_row": null,
            "grid_template_areas": null,
            "grid_template_columns": null,
            "grid_template_rows": null,
            "height": null,
            "justify_content": null,
            "justify_items": null,
            "left": null,
            "margin": null,
            "max_height": null,
            "max_width": null,
            "min_height": null,
            "min_width": null,
            "object_fit": null,
            "object_position": null,
            "order": null,
            "overflow": null,
            "overflow_x": null,
            "overflow_y": null,
            "padding": null,
            "right": null,
            "top": null,
            "visibility": null,
            "width": null
          }
        },
        "dd9b0398e86644a9910be11b95477747": {
          "model_module": "@jupyter-widgets/controls",
          "model_name": "ProgressStyleModel",
          "model_module_version": "1.5.0",
          "state": {
            "_model_module": "@jupyter-widgets/controls",
            "_model_module_version": "1.5.0",
            "_model_name": "ProgressStyleModel",
            "_view_count": null,
            "_view_module": "@jupyter-widgets/base",
            "_view_module_version": "1.2.0",
            "_view_name": "StyleView",
            "bar_color": null,
            "description_width": ""
          }
        },
        "fa5353b892c7465e991586039312de35": {
          "model_module": "@jupyter-widgets/base",
          "model_name": "LayoutModel",
          "model_module_version": "1.2.0",
          "state": {
            "_model_module": "@jupyter-widgets/base",
            "_model_module_version": "1.2.0",
            "_model_name": "LayoutModel",
            "_view_count": null,
            "_view_module": "@jupyter-widgets/base",
            "_view_module_version": "1.2.0",
            "_view_name": "LayoutView",
            "align_content": null,
            "align_items": null,
            "align_self": null,
            "border": null,
            "bottom": null,
            "display": null,
            "flex": null,
            "flex_flow": null,
            "grid_area": null,
            "grid_auto_columns": null,
            "grid_auto_flow": null,
            "grid_auto_rows": null,
            "grid_column": null,
            "grid_gap": null,
            "grid_row": null,
            "grid_template_areas": null,
            "grid_template_columns": null,
            "grid_template_rows": null,
            "height": null,
            "justify_content": null,
            "justify_items": null,
            "left": null,
            "margin": null,
            "max_height": null,
            "max_width": null,
            "min_height": null,
            "min_width": null,
            "object_fit": null,
            "object_position": null,
            "order": null,
            "overflow": null,
            "overflow_x": null,
            "overflow_y": null,
            "padding": null,
            "right": null,
            "top": null,
            "visibility": null,
            "width": null
          }
        },
        "9c07ea5403b446c6a1cb0783c42f193b": {
          "model_module": "@jupyter-widgets/controls",
          "model_name": "DescriptionStyleModel",
          "model_module_version": "1.5.0",
          "state": {
            "_model_module": "@jupyter-widgets/controls",
            "_model_module_version": "1.5.0",
            "_model_name": "DescriptionStyleModel",
            "_view_count": null,
            "_view_module": "@jupyter-widgets/base",
            "_view_module_version": "1.2.0",
            "_view_name": "StyleView",
            "description_width": ""
          }
        }
      }
    }
  },
  "nbformat": 4,
  "nbformat_minor": 0
}