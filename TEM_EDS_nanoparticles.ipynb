{
  "cells": [
    {
      "cell_type": "markdown",
      "metadata": {
        "id": "view-in-github",
        "colab_type": "text"
      },
      "source": [
        "<a href=\"https://colab.research.google.com/github/keyoumao/Defect_dP_PaCKage/blob/main/TEM_EDS_nanoparticles.ipynb\" target=\"_parent\"><img src=\"https://colab.research.google.com/assets/colab-badge.svg\" alt=\"Open In Colab\"/></a>"
      ]
    },
    {
      "cell_type": "markdown",
      "metadata": {
        "id": "vtaEkW74MvAi"
      },
      "source": [
        "# EDS-TEM quantification of core shell nanoparticles\n",
        "\n",
        "Using machine learning methods, such as independent component analysis (ICA), the composition of embedded nanostructures, such as core-shell nanoparticles, can be accurately measured as demonstrated by D. Roussow et al., Nano Letters, 2015 (see the [full article](https://www.repository.cam.ac.uk/bitstream/handle/1810/248102/Roussouw%20et%20al%202015%20Nano%20Letters.pdf?sequence=1)). Using the same data, this notebook reproduces the main results of this article.\n",
        "\n",
        "\n",
        "## Author\n",
        "\n",
        "* 13/04/2015 Pierre Burdet - Developed for HyperSpy workshop at University of Cambridge\n",
        "\n",
        "## Changes\n",
        "\n",
        "* 29/05/2016 Duncan Johnstone. Update the syntax for HyperSpy 0.8.5 (Python 3 compatibility)\n",
        "* 03/08/2016 Francisco de la Peña. Update the syntax for HyperSpy 1.1\n",
        "* 06/08/2016 Francisco de la Peña. Update the syntax for HyperSpy 0.8.1\n",
        "* 27/08/2016 Pierre Burdet. Update for workshop at EMC Lyon\n",
        "* 04/04/2018 Joshua Taillon. Bugfix and update for workshop at NIST\n",
        "* 18/07/2019 Katherine MacArthur. Update to include basic quantification, for M&M 2019 Portland\n",
        "\n",
        "## Requirements\n",
        "\n",
        "* HyperSpy 1.5.1\n",
        "\n",
        "## <a id='top'></a> Contents\n",
        "\n",
        "1. <a href='dat'> Specimen & Data</a>\n",
        "2. <a href='#loa'> Loading and viewing data</a>\n",
        "3. <a href='#counts'> Extracting Counts </a>\n",
        "4. <a href='#quant'> Basic Quantification </a>\n",
        "5. <a href='#bss'> Blind source separation of core/shell nanoparticles</a>\n",
        "6. <a href='#bare'> Representative spectrum from bare cores</a>\n",
        "7. <a href='#com'> Comparison and quantification</a>\n",
        "8. <a href='#fur'> Going father: Isolating the nanoparticles</a>\n",
        "\n",
        "# <a id='dat'></a> 1. Specimen & Data\n",
        "\n",
        "The sample and the data used in this tutorial are described in \n",
        "D. Roussow, et al., Nano Letters, In Press (2015) (see the [full article](https://www.repository.cam.ac.uk/bitstream/handle/1810/248102/Roussouw%20et%20al%202015%20Nano%20Letters.pdf?sequence=1)).\n",
        "\n",
        "FePt@Fe$_3$O$_4$ core-shell nanoparticles are investigated with an EDS/TEM experiment (FEI Osiris TEM, 4 EDS detectors). The composition of the core can be measured with ICA (see figure 1c). To prove the accuracy of the results, measurements on bare FePt bimetallic nanoparticles from a synthesis prior to the shell addition step are used."
      ]
    },
    {
      "cell_type": "markdown",
      "metadata": {
        "id": "nH8B81ndMvAk"
      },
      "source": [
        "<img src=\"images/core_shell.png\" style=\"height:350px;\">\n",
        "Figure 1: (a) A spectrum image obtained from a cluster of core-shell nanoparticles. (b) The nanoparticles are comprised of a bi-metallic Pt/Fe core surrounded by an iron oxide shell on a carbon support. (c) ICA decomposes the mixed EDX signals into components representing the core (IC#0), shell (IC#1) and support (IC#2)."
      ]
    },
    {
      "cell_type": "code",
      "execution_count": 1,
      "metadata": {
        "id": "mK3FS-jaMvAl"
      },
      "outputs": [],
      "source": [
        "#Download the data (1MB)\n",
        "from urllib.request import urlretrieve, urlopen\n",
        "from zipfile import ZipFile\n",
        "files = urlretrieve(\"https://www.dropbox.com/s/ecdlgwxjq04m5mx/HyperSpy_demos_EDS_TEM_files.zip?raw=1\", \"./HyperSpy_demos_EDX_TEM_files.zip\")\n",
        "with ZipFile(\"HyperSpy_demos_EDX_TEM_files.zip\") as z:\n",
        "    z.extractall()"
      ]
    },
    {
      "cell_type": "markdown",
      "metadata": {
        "id": "QBeCDyXCMvAm"
      },
      "source": [
        "# <a id='loa'></a> 2. Loading and viewing data"
      ]
    },
    {
      "cell_type": "markdown",
      "metadata": {
        "id": "jLAWyig1MvAm"
      },
      "source": [
        "<a href='#top'> Table of contents</a>"
      ]
    },
    {
      "cell_type": "markdown",
      "metadata": {
        "id": "mp4DxCqWMvAm"
      },
      "source": [
        "Import HyperSpy, numpy and matplotlib libraries.\n",
        "\n",
        "*Remember, if at any point you do not understand how a function operates, its help file can be loaded by typing the name of the command followed by a '?' into a cell and then running that cell.*"
      ]
    },
    {
      "cell_type": "code",
      "execution_count": 2,
      "metadata": {
        "colab": {
          "base_uri": "https://localhost:8080/"
        },
        "id": "_ALGprDDMvAm",
        "outputId": "3b4de8d3-3fd4-4bbb-a93d-31129c034632"
      },
      "outputs": [
        {
          "output_type": "stream",
          "name": "stdout",
          "text": [
            "Looking in indexes: https://pypi.org/simple, https://us-python.pkg.dev/colab-wheels/public/simple/\n",
            "Collecting hyperspy\n",
            "  Downloading hyperspy-1.7.3-cp38-cp38-manylinux_2_17_x86_64.manylinux2014_x86_64.manylinux_2_24_x86_64.whl (32.6 MB)\n",
            "\u001b[2K     \u001b[90m━━━━━━━━━━━━━━━━━━━━━━━━━━━━━━━━━━━━━━━━\u001b[0m \u001b[32m32.6/32.6 MB\u001b[0m \u001b[31m18.2 MB/s\u001b[0m eta \u001b[36m0:00:00\u001b[0m\n",
            "\u001b[?25hCollecting sparse\n",
            "  Downloading sparse-0.13.0-py2.py3-none-any.whl (77 kB)\n",
            "\u001b[2K     \u001b[90m━━━━━━━━━━━━━━━━━━━━━━━━━━━━━━━━━━━━━━━━\u001b[0m \u001b[32m77.8/77.8 KB\u001b[0m \u001b[31m7.3 MB/s\u001b[0m eta \u001b[36m0:00:00\u001b[0m\n",
            "\u001b[?25hRequirement already satisfied: dill in /usr/local/lib/python3.8/dist-packages (from hyperspy) (0.3.6)\n",
            "Collecting zarr>=2.9.0\n",
            "  Downloading zarr-2.14.1-py3-none-any.whl (203 kB)\n",
            "\u001b[2K     \u001b[90m━━━━━━━━━━━━━━━━━━━━━━━━━━━━━━━━━━━━━━\u001b[0m \u001b[32m203.0/203.0 KB\u001b[0m \u001b[31m17.9 MB/s\u001b[0m eta \u001b[36m0:00:00\u001b[0m\n",
            "\u001b[?25hRequirement already satisfied: requests in /usr/local/lib/python3.8/dist-packages (from hyperspy) (2.25.1)\n",
            "Requirement already satisfied: prettytable in /usr/local/lib/python3.8/dist-packages (from hyperspy) (3.6.0)\n",
            "Requirement already satisfied: scikit-image>=0.15 in /usr/local/lib/python3.8/dist-packages (from hyperspy) (0.18.3)\n",
            "Requirement already satisfied: jinja2 in /usr/local/lib/python3.8/dist-packages (from hyperspy) (2.11.3)\n",
            "Requirement already satisfied: ipython!=8.0.* in /usr/local/lib/python3.8/dist-packages (from hyperspy) (7.9.0)\n",
            "Requirement already satisfied: numexpr in /usr/local/lib/python3.8/dist-packages (from hyperspy) (2.8.4)\n",
            "Requirement already satisfied: fsspec in /usr/local/lib/python3.8/dist-packages (from hyperspy) (2023.1.0)\n",
            "Requirement already satisfied: scipy>=1.1 in /usr/local/lib/python3.8/dist-packages (from hyperspy) (1.7.3)\n",
            "Requirement already satisfied: imageio in /usr/local/lib/python3.8/dist-packages (from hyperspy) (2.9.0)\n",
            "Collecting pint>=0.10\n",
            "  Downloading Pint-0.20.1-py3-none-any.whl (269 kB)\n",
            "\u001b[2K     \u001b[90m━━━━━━━━━━━━━━━━━━━━━━━━━━━━━━━━━━━━━━\u001b[0m \u001b[32m269.5/269.5 KB\u001b[0m \u001b[31m20.9 MB/s\u001b[0m eta \u001b[36m0:00:00\u001b[0m\n",
            "\u001b[?25hRequirement already satisfied: tifffile>=2020.2.16 in /usr/local/lib/python3.8/dist-packages (from hyperspy) (2023.2.3)\n",
            "Requirement already satisfied: numpy>=1.17.1 in /usr/local/lib/python3.8/dist-packages (from hyperspy) (1.21.6)\n",
            "Requirement already satisfied: dask[array]>=2.11.0 in /usr/local/lib/python3.8/dist-packages (from hyperspy) (2022.2.1)\n",
            "Requirement already satisfied: h5py>=2.3 in /usr/local/lib/python3.8/dist-packages (from hyperspy) (3.1.0)\n",
            "Collecting ipyparallel\n",
            "  Downloading ipyparallel-8.4.1-py3-none-any.whl (298 kB)\n",
            "\u001b[2K     \u001b[90m━━━━━━━━━━━━━━━━━━━━━━━━━━━━━━━━━━━━━━\u001b[0m \u001b[32m298.0/298.0 KB\u001b[0m \u001b[31m30.2 MB/s\u001b[0m eta \u001b[36m0:00:00\u001b[0m\n",
            "\u001b[?25hCollecting traits>=4.5.0\n",
            "  Downloading traits-6.4.1-cp38-cp38-manylinux_2_5_x86_64.manylinux1_x86_64.manylinux_2_17_x86_64.manylinux2014_x86_64.whl (5.1 MB)\n",
            "\u001b[2K     \u001b[90m━━━━━━━━━━━━━━━━━━━━━━━━━━━━━━━━━━━━━━━━\u001b[0m \u001b[32m5.1/5.1 MB\u001b[0m \u001b[31m48.1 MB/s\u001b[0m eta \u001b[36m0:00:00\u001b[0m\n",
            "\u001b[?25hRequirement already satisfied: pyyaml in /usr/local/lib/python3.8/dist-packages (from hyperspy) (6.0)\n",
            "Requirement already satisfied: natsort in /usr/local/lib/python3.8/dist-packages (from hyperspy) (5.5.0)\n",
            "Requirement already satisfied: matplotlib>=3.1.3 in /usr/local/lib/python3.8/dist-packages (from hyperspy) (3.2.2)\n",
            "Requirement already satisfied: packaging in /usr/local/lib/python3.8/dist-packages (from hyperspy) (23.0)\n",
            "Requirement already satisfied: toolz in /usr/local/lib/python3.8/dist-packages (from hyperspy) (0.12.0)\n",
            "Requirement already satisfied: importlib-metadata>=3.6 in /usr/local/lib/python3.8/dist-packages (from hyperspy) (6.0.0)\n",
            "Requirement already satisfied: numba>=0.52 in /usr/local/lib/python3.8/dist-packages (from hyperspy) (0.56.4)\n",
            "Requirement already satisfied: tqdm>=4.9.0 in /usr/local/lib/python3.8/dist-packages (from hyperspy) (4.64.1)\n",
            "Requirement already satisfied: python-dateutil>=2.5.0 in /usr/local/lib/python3.8/dist-packages (from hyperspy) (2.8.2)\n",
            "Requirement already satisfied: sympy in /usr/local/lib/python3.8/dist-packages (from hyperspy) (1.7.1)\n",
            "Requirement already satisfied: partd>=0.3.10 in /usr/local/lib/python3.8/dist-packages (from dask[array]>=2.11.0->hyperspy) (1.3.0)\n",
            "Requirement already satisfied: cloudpickle>=1.1.1 in /usr/local/lib/python3.8/dist-packages (from dask[array]>=2.11.0->hyperspy) (2.2.1)\n",
            "Requirement already satisfied: zipp>=0.5 in /usr/local/lib/python3.8/dist-packages (from importlib-metadata>=3.6->hyperspy) (3.12.1)\n",
            "Collecting jedi>=0.10\n",
            "  Downloading jedi-0.18.2-py2.py3-none-any.whl (1.6 MB)\n",
            "\u001b[2K     \u001b[90m━━━━━━━━━━━━━━━━━━━━━━━━━━━━━━━━━━━━━━━━\u001b[0m \u001b[32m1.6/1.6 MB\u001b[0m \u001b[31m66.8 MB/s\u001b[0m eta \u001b[36m0:00:00\u001b[0m\n",
            "\u001b[?25hRequirement already satisfied: decorator in /usr/local/lib/python3.8/dist-packages (from ipython!=8.0.*->hyperspy) (4.4.2)\n",
            "Requirement already satisfied: setuptools>=18.5 in /usr/local/lib/python3.8/dist-packages (from ipython!=8.0.*->hyperspy) (57.4.0)\n",
            "Requirement already satisfied: pickleshare in /usr/local/lib/python3.8/dist-packages (from ipython!=8.0.*->hyperspy) (0.7.5)\n",
            "Requirement already satisfied: prompt-toolkit<2.1.0,>=2.0.0 in /usr/local/lib/python3.8/dist-packages (from ipython!=8.0.*->hyperspy) (2.0.10)\n",
            "Requirement already satisfied: backcall in /usr/local/lib/python3.8/dist-packages (from ipython!=8.0.*->hyperspy) (0.2.0)\n",
            "Requirement already satisfied: pexpect in /usr/local/lib/python3.8/dist-packages (from ipython!=8.0.*->hyperspy) (4.8.0)\n",
            "Requirement already satisfied: traitlets>=4.2 in /usr/local/lib/python3.8/dist-packages (from ipython!=8.0.*->hyperspy) (5.7.1)\n",
            "Requirement already satisfied: pygments in /usr/local/lib/python3.8/dist-packages (from ipython!=8.0.*->hyperspy) (2.6.1)\n",
            "Requirement already satisfied: kiwisolver>=1.0.1 in /usr/local/lib/python3.8/dist-packages (from matplotlib>=3.1.3->hyperspy) (1.4.4)\n",
            "Requirement already satisfied: cycler>=0.10 in /usr/local/lib/python3.8/dist-packages (from matplotlib>=3.1.3->hyperspy) (0.11.0)\n",
            "Requirement already satisfied: pyparsing!=2.0.4,!=2.1.2,!=2.1.6,>=2.0.1 in /usr/local/lib/python3.8/dist-packages (from matplotlib>=3.1.3->hyperspy) (3.0.9)\n",
            "Requirement already satisfied: llvmlite<0.40,>=0.39.0dev0 in /usr/local/lib/python3.8/dist-packages (from numba>=0.52->hyperspy) (0.39.1)\n",
            "Requirement already satisfied: six>=1.5 in /usr/local/lib/python3.8/dist-packages (from python-dateutil>=2.5.0->hyperspy) (1.15.0)\n",
            "Requirement already satisfied: PyWavelets>=1.1.1 in /usr/local/lib/python3.8/dist-packages (from scikit-image>=0.15->hyperspy) (1.4.1)\n",
            "Requirement already satisfied: pillow!=7.1.0,!=7.1.1,>=4.3.0 in /usr/local/lib/python3.8/dist-packages (from scikit-image>=0.15->hyperspy) (7.1.2)\n",
            "Requirement already satisfied: networkx>=2.0 in /usr/local/lib/python3.8/dist-packages (from scikit-image>=0.15->hyperspy) (3.0)\n",
            "Collecting fasteners\n",
            "  Downloading fasteners-0.18-py3-none-any.whl (18 kB)\n",
            "Collecting numcodecs>=0.10.0\n",
            "  Downloading numcodecs-0.11.0-cp38-cp38-manylinux_2_17_x86_64.manylinux2014_x86_64.whl (6.7 MB)\n",
            "\u001b[2K     \u001b[90m━━━━━━━━━━━━━━━━━━━━━━━━━━━━━━━━━━━━━━━━\u001b[0m \u001b[32m6.7/6.7 MB\u001b[0m \u001b[31m63.0 MB/s\u001b[0m eta \u001b[36m0:00:00\u001b[0m\n",
            "\u001b[?25hCollecting asciitree\n",
            "  Downloading asciitree-0.3.3.tar.gz (4.0 kB)\n",
            "  Preparing metadata (setup.py) ... \u001b[?25l\u001b[?25hdone\n",
            "Requirement already satisfied: jupyter-client in /usr/local/lib/python3.8/dist-packages (from ipyparallel->hyperspy) (6.1.12)\n",
            "Requirement already satisfied: ipykernel>=4.4 in /usr/local/lib/python3.8/dist-packages (from ipyparallel->hyperspy) (5.3.4)\n",
            "Requirement already satisfied: tornado>=5.1 in /usr/local/lib/python3.8/dist-packages (from ipyparallel->hyperspy) (6.0.4)\n",
            "Requirement already satisfied: pyzmq>=18 in /usr/local/lib/python3.8/dist-packages (from ipyparallel->hyperspy) (23.2.1)\n",
            "Requirement already satisfied: entrypoints in /usr/local/lib/python3.8/dist-packages (from ipyparallel->hyperspy) (0.4)\n",
            "Requirement already satisfied: psutil in /usr/local/lib/python3.8/dist-packages (from ipyparallel->hyperspy) (5.4.8)\n",
            "Requirement already satisfied: MarkupSafe>=0.23 in /usr/local/lib/python3.8/dist-packages (from jinja2->hyperspy) (2.0.1)\n",
            "Requirement already satisfied: wcwidth in /usr/local/lib/python3.8/dist-packages (from prettytable->hyperspy) (0.2.6)\n",
            "Requirement already satisfied: idna<3,>=2.5 in /usr/local/lib/python3.8/dist-packages (from requests->hyperspy) (2.10)\n",
            "Requirement already satisfied: urllib3<1.27,>=1.21.1 in /usr/local/lib/python3.8/dist-packages (from requests->hyperspy) (1.24.3)\n",
            "Requirement already satisfied: certifi>=2017.4.17 in /usr/local/lib/python3.8/dist-packages (from requests->hyperspy) (2022.12.7)\n",
            "Requirement already satisfied: chardet<5,>=3.0.2 in /usr/local/lib/python3.8/dist-packages (from requests->hyperspy) (4.0.0)\n",
            "Requirement already satisfied: mpmath>=0.19 in /usr/local/lib/python3.8/dist-packages (from sympy->hyperspy) (1.2.1)\n",
            "Requirement already satisfied: parso<0.9.0,>=0.8.0 in /usr/local/lib/python3.8/dist-packages (from jedi>=0.10->ipython!=8.0.*->hyperspy) (0.8.3)\n",
            "Requirement already satisfied: locket in /usr/local/lib/python3.8/dist-packages (from partd>=0.3.10->dask[array]>=2.11.0->hyperspy) (1.0.0)\n",
            "Requirement already satisfied: jupyter-core>=4.6.0 in /usr/local/lib/python3.8/dist-packages (from jupyter-client->ipyparallel->hyperspy) (5.2.0)\n",
            "Requirement already satisfied: ptyprocess>=0.5 in /usr/local/lib/python3.8/dist-packages (from pexpect->ipython!=8.0.*->hyperspy) (0.7.0)\n",
            "Requirement already satisfied: platformdirs>=2.5 in /usr/local/lib/python3.8/dist-packages (from jupyter-core>=4.6.0->jupyter-client->ipyparallel->hyperspy) (3.0.0)\n",
            "Building wheels for collected packages: asciitree\n",
            "  Building wheel for asciitree (setup.py) ... \u001b[?25l\u001b[?25hdone\n",
            "  Created wheel for asciitree: filename=asciitree-0.3.3-py3-none-any.whl size=5050 sha256=4c5b7aed5798d125cd0d84e0e142ee45c2e0bf696579a26c3d0ea439d23d365d\n",
            "  Stored in directory: /root/.cache/pip/wheels/a3/d7/75/19cd0d2a893cad4bb0b2b16dd572ad2916d19c0d5ee9612511\n",
            "Successfully built asciitree\n",
            "Installing collected packages: asciitree, traits, pint, numcodecs, jedi, fasteners, zarr, sparse, ipyparallel, hyperspy\n",
            "Successfully installed asciitree-0.3.3 fasteners-0.18 hyperspy-1.7.3 ipyparallel-8.4.1 jedi-0.18.2 numcodecs-0.11.0 pint-0.20.1 sparse-0.13.0 traits-6.4.1 zarr-2.14.1\n",
            "/bin/bash: matplotlib: command not found\n"
          ]
        }
      ],
      "source": [
        "!pip install hyperspy\n",
        "!matplotlib qt\n",
        "import hyperspy.api as hs"
      ]
    },
    {
      "cell_type": "markdown",
      "metadata": {
        "id": "FQvV3cgrMvAm"
      },
      "source": [
        "Load the spectrum images of the bare nanoparticles and those with a core-shell structure."
      ]
    },
    {
      "cell_type": "code",
      "execution_count": 3,
      "metadata": {
        "colab": {
          "base_uri": "https://localhost:8080/"
        },
        "id": "wgBXXONzMvAn",
        "outputId": "a14efdd9-e197-4df1-dd72-22f661d4c56c"
      },
      "outputs": [
        {
          "output_type": "stream",
          "name": "stderr",
          "text": [
            "/usr/local/lib/python3.8/dist-packages/hyperspy/misc/utils.py:471: VisibleDeprecationWarning: Use of the `binned` attribute in metadata is going to be deprecated in v2.0. Set the `axis.is_binned` attribute instead. \n",
            "  warnings.warn(\n",
            "/usr/local/lib/python3.8/dist-packages/hyperspy/io.py:572: VisibleDeprecationWarning: Loading old file version. The binned attribute has been moved from metadata.Signal to axis.is_binned. Setting this attribute for all signal axes instead.\n",
            "  warnings.warn('Loading old file version. The binned attribute '\n"
          ]
        }
      ],
      "source": [
        "c = hs.load(\"bare_core.hdf5\")\n",
        "cs = hs.load(\"core_shell.hdf5\")"
      ]
    },
    {
      "cell_type": "markdown",
      "metadata": {
        "id": "9oqYtvK3MvAn"
      },
      "source": [
        "Check the metadata has imported correctly. In particular whether the list of elements you wish to analyse is correct."
      ]
    },
    {
      "cell_type": "code",
      "execution_count": 4,
      "metadata": {
        "colab": {
          "base_uri": "https://localhost:8080/",
          "height": 225
        },
        "id": "iA0dPGweMvAn",
        "outputId": "efa18274-b7dd-42a2-f7e4-e9408e4ac020"
      },
      "outputs": [
        {
          "output_type": "execute_result",
          "data": {
            "text/plain": [
              "├── Acquisition_instrument\n",
              "│   └── TEM\n",
              "│       ├── Detector\n",
              "│       │   └── EDS\n",
              "│       │       ├── azimuth_angle = 0.0\n",
              "│       │       ├── elevation_angle = 35.0\n",
              "│       │       └── energy_resolution_MnKa = 130.0\n",
              "│       ├── Stage\n",
              "│       │   └── tilt_alpha = 0.0\n",
              "│       ├── acquisition_mode = STEM\n",
              "│       ├── beam_energy = 200.0\n",
              "│       └── microscope = Microscope TecnaiOsiris 200 kV D658 AnalyticalTwin\n",
              "├── General\n",
              "│   ├── FileIO\n",
              "│   │   └── 0\n",
              "│   │       ├── hyperspy_version = 1.7.3\n",
              "│   │       ├── io_plugin = hyperspy.io_plugins.hspy\n",
              "│   │       ├── operation = load\n",
              "│   │       └── timestamp = 2023-02-13T22:20:02.209744+00:00\n",
              "│   ├── date = 14.10.2014\n",
              "│   └── title = Core shell\n",
              "├── Sample\n",
              "│   ├── elements = array(['Fe', 'Pt'], dtype='<U2')\n",
              "│   └── xray_lines = array(['Fe_Ka', 'Pt_La'], dtype='<U5')\n",
              "└── Signal\n",
              "    ├── signal_origin = \n",
              "    └── signal_type = EDS_TEM"
            ],
            "text/html": [
              "<ul style=\"margin: 0px; list-style-position: outside;\">\n",
              "                    <details open>\n",
              "                    <summary style=\"display: list-item;\">\n",
              "                    <li style=\"display: inline;\">\n",
              "                    Acquisition_instrument\n",
              "                    </li></summary>\n",
              "                    <ul style=\"margin: 0px; list-style-position: outside;\">\n",
              "                    <details closed>\n",
              "                    <summary style=\"display: list-item;\">\n",
              "                    <li style=\"display: inline;\">\n",
              "                    TEM\n",
              "                    </li></summary>\n",
              "                    <ul style=\"margin: 0px; list-style-position: outside;\">\n",
              "                    <details closed>\n",
              "                    <summary style=\"display: list-item;\">\n",
              "                    <li style=\"display: inline;\">\n",
              "                    Detector\n",
              "                    </li></summary>\n",
              "                    <ul style=\"margin: 0px; list-style-position: outside;\">\n",
              "                    <details closed>\n",
              "                    <summary style=\"display: list-item;\">\n",
              "                    <li style=\"display: inline;\">\n",
              "                    EDS\n",
              "                    </li></summary>\n",
              "                    \n",
              "    <ul style=\"margin: 0px; list-style-position: outside;\">\n",
              "    <li style='margin-left:1em; padding-left: 0.5em'>azimuth_angle = 0.0</li></ul>\n",
              "    \n",
              "    <ul style=\"margin: 0px; list-style-position: outside;\">\n",
              "    <li style='margin-left:1em; padding-left: 0.5em'>elevation_angle = 35.0</li></ul>\n",
              "    \n",
              "    <ul style=\"margin: 0px; list-style-position: outside;\">\n",
              "    <li style='margin-left:1em; padding-left: 0.5em'>energy_resolution_MnKa = 130.0</li></ul>\n",
              "    </details></ul></details></ul><ul style=\"margin: 0px; list-style-position: outside;\">\n",
              "                    <details closed>\n",
              "                    <summary style=\"display: list-item;\">\n",
              "                    <li style=\"display: inline;\">\n",
              "                    Stage\n",
              "                    </li></summary>\n",
              "                    \n",
              "    <ul style=\"margin: 0px; list-style-position: outside;\">\n",
              "    <li style='margin-left:1em; padding-left: 0.5em'>tilt_alpha = 0.0</li></ul>\n",
              "    </details></ul>\n",
              "    <ul style=\"margin: 0px; list-style-position: outside;\">\n",
              "    <li style='margin-left:1em; padding-left: 0.5em'>acquisition_mode = STEM</li></ul>\n",
              "    \n",
              "    <ul style=\"margin: 0px; list-style-position: outside;\">\n",
              "    <li style='margin-left:1em; padding-left: 0.5em'>beam_energy = 200.0</li></ul>\n",
              "    \n",
              "    <ul style=\"margin: 0px; list-style-position: outside;\">\n",
              "    <li style='margin-left:1em; padding-left: 0.5em'>microscope = Microscope TecnaiOsiris 200 kV D658 AnalyticalTwin</li></ul>\n",
              "    </details></ul></details></ul><ul style=\"margin: 0px; list-style-position: outside;\">\n",
              "                    <details open>\n",
              "                    <summary style=\"display: list-item;\">\n",
              "                    <li style=\"display: inline;\">\n",
              "                    General\n",
              "                    </li></summary>\n",
              "                    <ul style=\"margin: 0px; list-style-position: outside;\">\n",
              "                    <details closed>\n",
              "                    <summary style=\"display: list-item;\">\n",
              "                    <li style=\"display: inline;\">\n",
              "                    FileIO\n",
              "                    </li></summary>\n",
              "                    <ul style=\"margin: 0px; list-style-position: outside;\">\n",
              "                    <details closed>\n",
              "                    <summary style=\"display: list-item;\">\n",
              "                    <li style=\"display: inline;\">\n",
              "                    0\n",
              "                    </li></summary>\n",
              "                    \n",
              "    <ul style=\"margin: 0px; list-style-position: outside;\">\n",
              "    <li style='margin-left:1em; padding-left: 0.5em'>hyperspy_version = 1.7.3</li></ul>\n",
              "    \n",
              "    <ul style=\"margin: 0px; list-style-position: outside;\">\n",
              "    <li style='margin-left:1em; padding-left: 0.5em'>io_plugin = hyperspy.io_plugins.hspy</li></ul>\n",
              "    \n",
              "    <ul style=\"margin: 0px; list-style-position: outside;\">\n",
              "    <li style='margin-left:1em; padding-left: 0.5em'>operation = load</li></ul>\n",
              "    \n",
              "    <ul style=\"margin: 0px; list-style-position: outside;\">\n",
              "    <li style='margin-left:1em; padding-left: 0.5em'>timestamp = 2023-02-13T22:20:02.209744+00:00</li></ul>\n",
              "    </details></ul></details></ul>\n",
              "    <ul style=\"margin: 0px; list-style-position: outside;\">\n",
              "    <li style='margin-left:1em; padding-left: 0.5em'>date = 14.10.2014</li></ul>\n",
              "    \n",
              "    <ul style=\"margin: 0px; list-style-position: outside;\">\n",
              "    <li style='margin-left:1em; padding-left: 0.5em'>title = Core shell</li></ul>\n",
              "    </details></ul><ul style=\"margin: 0px; list-style-position: outside;\">\n",
              "                    <details open>\n",
              "                    <summary style=\"display: list-item;\">\n",
              "                    <li style=\"display: inline;\">\n",
              "                    Sample\n",
              "                    </li></summary>\n",
              "                    \n",
              "    <ul style=\"margin: 0px; list-style-position: outside;\">\n",
              "    <li style='margin-left:1em; padding-left: 0.5em'>elements = array(['Fe', 'Pt'], dtype='&lt;U2')</li></ul>\n",
              "    \n",
              "    <ul style=\"margin: 0px; list-style-position: outside;\">\n",
              "    <li style='margin-left:1em; padding-left: 0.5em'>xray_lines = array(['Fe_Ka', 'Pt_La'], dtype='&lt;U5')</li></ul>\n",
              "    </details></ul><ul style=\"margin: 0px; list-style-position: outside;\">\n",
              "                    <details open>\n",
              "                    <summary style=\"display: list-item;\">\n",
              "                    <li style=\"display: inline;\">\n",
              "                    Signal\n",
              "                    </li></summary>\n",
              "                    \n",
              "    <ul style=\"margin: 0px; list-style-position: outside;\">\n",
              "    <li style='margin-left:1em; padding-left: 0.5em'>signal_origin = </li></ul>\n",
              "    \n",
              "    <ul style=\"margin: 0px; list-style-position: outside;\">\n",
              "    <li style='margin-left:1em; padding-left: 0.5em'>signal_type = EDS_TEM</li></ul>\n",
              "    </details></ul>"
            ]
          },
          "metadata": {},
          "execution_count": 4
        }
      ],
      "source": [
        "cs.metadata"
      ]
    },
    {
      "cell_type": "markdown",
      "metadata": {
        "id": "ciOi7rMOMvAo"
      },
      "source": [
        "Plot the core-shell data to inspect the signal level:"
      ]
    },
    {
      "cell_type": "code",
      "execution_count": 5,
      "metadata": {
        "colab": {
          "base_uri": "https://localhost:8080/",
          "height": 682
        },
        "id": "nIGW-HfkMvAo",
        "outputId": "3df78bf9-017d-488a-e72d-1049e3f2fad7"
      },
      "outputs": [
        {
          "output_type": "display_data",
          "data": {
            "text/plain": [
              "<Figure size 432x392.727 with 2 Axes>"
            ],
            "image/png": "[encoded data removed]"
          },
          "metadata": {
            "needs_background": "light"
          }
        },
        {
          "output_type": "display_data",
          "data": {
            "text/plain": [
              "<Figure size 432x288 with 1 Axes>"
            ],
            "image/png": "[encoded data removed]"
          },
          "metadata": {
            "needs_background": "light"
          }
        }
      ],
      "source": [
        "cs.plot()"
      ]
    },
    {
      "cell_type": "markdown",
      "metadata": {
        "id": "WFTCofD-MvAo"
      },
      "source": [
        "Plotting the integrated counts for the whole spectrum image is a good way to check what elements exist in the sample. Adding 'True' to the function also labels any elements from the metadata onto the spectrum."
      ]
    },
    {
      "cell_type": "code",
      "execution_count": 6,
      "metadata": {
        "colab": {
          "base_uri": "https://localhost:8080/",
          "height": 297
        },
        "id": "CWKTpUCnMvAo",
        "outputId": "e3744fca-d4d9-45a7-ee56-281e395f132e"
      },
      "outputs": [
        {
          "output_type": "display_data",
          "data": {
            "text/plain": [
              "<Figure size 432x288 with 1 Axes>"
            ],
            "image/png": "[encoded data removed]"
          },
          "metadata": {
            "needs_background": "light"
          }
        }
      ],
      "source": [
        "cs.sum().plot(True)"
      ]
    },
    {
      "cell_type": "markdown",
      "metadata": {
        "id": "dL1wqnEPMvAo"
      },
      "source": [
        "## <a id='#counts'></a> 3. Extracting count maps of elements\n",
        "\n",
        "<a href='#top'> Table of contents</a>\n"
      ]
    },
    {
      "cell_type": "markdown",
      "metadata": {
        "id": "mqVzEV4HMvAo"
      },
      "source": [
        "If they're not already added it is important to make sure all the elements you want to extract the intensities for are in the metadata of the sample."
      ]
    },
    {
      "cell_type": "code",
      "execution_count": 7,
      "metadata": {
        "id": "HlzHige8MvAo"
      },
      "outputs": [],
      "source": [
        "cs.set_elements(['Fe','Pt'])\n",
        "cs.set_lines(['Fe_Ka', 'Pt_La'])\n",
        "\n",
        "c.set_elements(['Fe','Pt'])\n",
        "c.set_lines(['Fe_Ka', 'Pt_La'])\n",
        "#cs.add_elements and cs.add_lines also work if you don't want to override what is \n",
        "#already in the metadata."
      ]
    },
    {
      "cell_type": "markdown",
      "metadata": {
        "id": "NN-YGpJTMvAp"
      },
      "source": [
        "Extracting lines can be done without any background or integration window parameters. However if none are specified the default integration window is 1 FWHM and no background subtraction is carried out."
      ]
    },
    {
      "cell_type": "markdown",
      "metadata": {
        "id": "uMaiCx6hMvAp"
      },
      "source": [
        "Line_width is the distance from the x-ray line (in FWHM) the the background window is taken [left, right] allowing different distances for the two directions.\n",
        "An asymmetric value is used here because otherwise the Pt background windows overlap with the Cu K$_β$ line from the sample grid."
      ]
    },
    {
      "cell_type": "code",
      "execution_count": 8,
      "metadata": {
        "id": "x0niK-3IMvAp"
      },
      "outputs": [],
      "source": [
        "bw = cs.estimate_background_windows(line_width=[5.0, 2.0])\n",
        "iw =  cs.estimate_integration_windows(windows_width=3)"
      ]
    },
    {
      "cell_type": "markdown",
      "metadata": {
        "id": "3NhUyGXDMvAp"
      },
      "source": [
        "It is important to plot the windows to check that they are selecting the data correctly otherwise errors, particularly in background subtraction arise.\n",
        "\n",
        "The integration windows are represented by dashed lines and background windows by solid lines. The estimated background is the plotted by the close to horizontal black lines."
      ]
    },
    {
      "cell_type": "code",
      "execution_count": 9,
      "metadata": {
        "colab": {
          "base_uri": "https://localhost:8080/",
          "height": 297
        },
        "id": "FS_bRhlaMvAp",
        "outputId": "d8448182-0ddb-4bd9-846a-ce8c8e62a64c"
      },
      "outputs": [
        {
          "output_type": "display_data",
          "data": {
            "text/plain": [
              "<Figure size 432x288 with 1 Axes>"
            ],
            "image/png": "[encoded data removed]"
          },
          "metadata": {
            "needs_background": "light"
          }
        }
      ],
      "source": [
        "cs.sum().plot(True, background_windows=bw, integration_windows=iw)"
      ]
    },
    {
      "cell_type": "markdown",
      "metadata": {
        "id": "5aRUAl5LMvAp"
      },
      "source": [
        "*Try running the previous two cells of code  above with line_width=[3.0,3.0] and see how this results in an erroneous, background subtraction by plotting the background lines. (You might need to zoom in to see it)*"
      ]
    },
    {
      "cell_type": "markdown",
      "metadata": {
        "id": "3iN1h1dNMvAp"
      },
      "source": [
        "How accurate background subtraction will be on a pixel-by-pixel basis can be see with this plot. \n",
        "\n",
        "The x and y sliders select a pixel in the particle images we plotted earlier. \n",
        "\n",
        "You should be able to find some examples (e.g. the Fe K$_α$ line at X=39, Y=44) of where the background subtraction still fails due to a poor signal-to-noise ratio in the data.\n",
        "\n"
      ]
    },
    {
      "cell_type": "code",
      "execution_count": 10,
      "metadata": {
        "colab": {
          "base_uri": "https://localhost:8080/",
          "height": 334
        },
        "id": "KvrrpipkMvAp",
        "outputId": "adcbf92b-8639-401b-83e4-b4d8478a193f"
      },
      "outputs": [
        {
          "output_type": "stream",
          "name": "stderr",
          "text": [
            "WARNING:hyperspy.drawing.mpl_he:Navigation sliders not available. No toolkit registered. Install hyperspy_gui_ipywidgets or hyperspy_gui_traitsui GUI elements.\n"
          ]
        },
        {
          "output_type": "display_data",
          "data": {
            "text/plain": [
              "<Figure size 432x288 with 1 Axes>"
            ],
            "image/png": "[encoded data removed]"
          },
          "metadata": {
            "needs_background": "light"
          }
        }
      ],
      "source": [
        "cs.plot(True, background_windows=bw, navigator='slider')"
      ]
    },
    {
      "cell_type": "markdown",
      "metadata": {
        "id": "5ggR5qK-MvAq"
      },
      "source": [
        "Another way to adjust the location of the background windows is by changing specific numbers in the background window array individually.\n",
        "\n",
        "Running the 'bw' command will output the array, which contains keV coordinates corresponding to the position of the background windows. Each row corresponds to a different element in the list given in the metadata. Remember arrays in Python start at (0,0).\n",
        "\n",
        "These two commands therefore alter the position of the start and end points of the left-hand background window for Pt."
      ]
    },
    {
      "cell_type": "code",
      "execution_count": 11,
      "metadata": {
        "colab": {
          "base_uri": "https://localhost:8080/"
        },
        "id": "2iylgywHMvAq",
        "outputId": "e7fde282-bc56-4505-d37b-381f798283a2"
      },
      "outputs": [
        {
          "output_type": "execute_result",
          "data": {
            "text/plain": [
              "array([[5.59527895, 5.73004913, 6.67344035, 6.80821052],\n",
              "       [8.44      , 8.65      , 9.7630891 , 9.92358364]])"
            ]
          },
          "metadata": {},
          "execution_count": 11
        }
      ],
      "source": [
        "bw[1, 0] = 8.44\n",
        "bw[1, 1] = 8.65\n",
        "bw"
      ]
    },
    {
      "cell_type": "markdown",
      "metadata": {
        "id": "W1U3luMHMvAq"
      },
      "source": [
        "Often it is prudent to rebin the data such that counts per pixel are increased and a more reliable background subtraction can be carried out. This can be easily done with the rebin function to any new scale.\n",
        "\n",
        "These functions will perform rebinning on both the core-shell ('cs') data and the core-only ('c') data. We define using the 'scale' parameter that we want 2x binning in X, 2x binning in Y, and 1x binning in Z (our counts).\n",
        "\n",
        "*Note, as we are re-defining 'cs' or 'c', this overwrites our previously-imported data. This means running this command multiple times will re-bin the data multiple times. If you accidentally run this command too many times, simply re-import the data by running the 'hs.load' commands at the top of this workbook'.*"
      ]
    },
    {
      "cell_type": "code",
      "execution_count": 12,
      "metadata": {
        "id": "VOPsqvRUMvAq"
      },
      "outputs": [],
      "source": [
        "cs = cs.rebin(scale=(2,2,1))\n",
        "c = c.rebin(scale=(2,2,1))"
      ]
    },
    {
      "cell_type": "markdown",
      "metadata": {
        "id": "-Z6YFpMkMvAq"
      },
      "source": [
        "Finally, once the background subtraction windows have been selected to be in careful positions it is possible to extract the intensities. \n",
        "\n",
        "Note that exactly the same windows have been used for analysis of both the 'core' and 'core-shell' data sets. This is critical here as we are comparing the two datasets."
      ]
    },
    {
      "cell_type": "code",
      "execution_count": 13,
      "metadata": {
        "id": "ar96CLv-MvAq"
      },
      "outputs": [],
      "source": [
        "cs_intensities = cs.get_lines_intensity(background_windows=bw, integration_windows=iw)\n",
        "c_intensities = c.get_lines_intensity(background_windows=bw, integration_windows=iw)"
      ]
    },
    {
      "cell_type": "markdown",
      "metadata": {
        "id": "ismTi1KZMvAq"
      },
      "source": [
        "Each 'get_lines_intensity' command will create a list of images, again in the same order of the list of elements in the list of metadata. If the element is not in the metadata its intensity map will not be extracted.\n",
        "\n",
        "We can then run 'cs_intensities' to confirm the that we have extracted intensity maps for all our elements of interest."
      ]
    },
    {
      "cell_type": "code",
      "execution_count": 14,
      "metadata": {
        "colab": {
          "base_uri": "https://localhost:8080/"
        },
        "id": "fDA4Vf5EMvAq",
        "outputId": "ca5cd787-9d26-4c5f-cef6-8b1104ca6b36"
      },
      "outputs": [
        {
          "output_type": "execute_result",
          "data": {
            "text/plain": [
              "[<BaseSignal, title: X-ray line intensity of Core shell: Fe_Ka at 6.40 keV, dimensions: (32, 32|)>,\n",
              " <BaseSignal, title: X-ray line intensity of Core shell: Pt_La at 9.44 keV, dimensions: (32, 32|)>]"
            ]
          },
          "metadata": {},
          "execution_count": 14
        }
      ],
      "source": [
        "cs_intensities"
      ]
    },
    {
      "cell_type": "code",
      "execution_count": 15,
      "metadata": {
        "colab": {
          "base_uri": "https://localhost:8080/",
          "height": 395
        },
        "id": "Mz3x_CKsMvAr",
        "outputId": "ecc66615-8d9e-4a49-841e-f4ada252c116"
      },
      "outputs": [
        {
          "output_type": "display_data",
          "data": {
            "text/plain": [
              "<Figure size 432x392.727 with 2 Axes>"
            ],
            "image/png": "[encoded data removed]"
          },
          "metadata": {
            "needs_background": "light"
          }
        }
      ],
      "source": [
        "# Plotting one particular image (in this case, the first, Fe_Ka map) can be done with:\n",
        "cs_intensities[0].plot()"
      ]
    },
    {
      "cell_type": "code",
      "execution_count": 16,
      "metadata": {
        "colab": {
          "base_uri": "https://localhost:8080/",
          "height": 247
        },
        "id": "ES80xLnUMvAr",
        "outputId": "a10dab4e-9e22-4646-b678-7662739571bc"
      },
      "outputs": [
        {
          "output_type": "execute_result",
          "data": {
            "text/plain": [
              "[<matplotlib.axes._subplots.AxesSubplot at 0x7fd9b2539160>,\n",
              " <matplotlib.axes._subplots.AxesSubplot at 0x7fd9b0e1a970>]"
            ]
          },
          "metadata": {},
          "execution_count": 16
        },
        {
          "output_type": "display_data",
          "data": {
            "text/plain": [
              "<Figure size 432x216 with 4 Axes>"
            ],
            "image/png": "[encoded data removed]"
          },
          "metadata": {
            "needs_background": "light"
          }
        }
      ],
      "source": [
        "#All the intensity maps can be plotted using:\n",
        "hs.plot.plot_images(cs_intensities, cmap='viridis', axes_decor=None, scalebar='all')"
      ]
    },
    {
      "cell_type": "markdown",
      "metadata": {
        "id": "9ea59EE4MvAr"
      },
      "source": [
        "Plotting and extracting intensity for both data sets can be condensed into one line."
      ]
    },
    {
      "cell_type": "code",
      "execution_count": 17,
      "metadata": {
        "colab": {
          "base_uri": "https://localhost:8080/",
          "height": 403
        },
        "id": "1uQdz2wEMvAr",
        "outputId": "f222e9e3-d49b-4bad-d123-60c2dcfce636"
      },
      "outputs": [
        {
          "output_type": "display_data",
          "data": {
            "text/plain": [
              "<Figure size 432x432 with 8 Axes>"
            ],
            "image/png": "[encoded data removed]"
          },
          "metadata": {
            "needs_background": "light"
          }
        }
      ],
      "source": [
        "axes = hs.plot.plot_images((c.get_lines_intensity(background_windows=bw, integration_windows=iw)\n",
        "                                          + cs.get_lines_intensity(background_windows=bw, integration_windows=iw)),\n",
        "                           scalebar='all', axes_decor=None, per_row=2, cmap='viridis')"
      ]
    },
    {
      "cell_type": "markdown",
      "metadata": {
        "id": "W1lAqxjCMvAr"
      },
      "source": [
        "## <a id='#quant'></a> 4. Quantification of count maps\n",
        "\n",
        "<a href='#top'> Table of contents</a>"
      ]
    },
    {
      "cell_type": "markdown",
      "metadata": {
        "id": "5Pr5ysISMvAr"
      },
      "source": [
        "Hyperspy is able to carry out EDX quantification using k-factors 'CL', zeta-factors 'zeta', or cross_sections 'cross_sections'. \n",
        "\n",
        "All these methods are applied in the same way using the combination of the stack of intensities and and original data."
      ]
    },
    {
      "cell_type": "markdown",
      "metadata": {
        "id": "PsNL0astMvAr"
      },
      "source": [
        "For 'zeta' or 'cross_section' quantification both a 'live_time' and a 'beam_current' should be in the metadata."
      ]
    },
    {
      "cell_type": "code",
      "execution_count": 18,
      "metadata": {
        "id": "YbscQAF-MvAr"
      },
      "outputs": [],
      "source": [
        "#Setting these parameters in the metadata.\n",
        "cs.set_microscope_parameters(live_time = 6.15) #in seconds\n",
        "cs.set_microscope_parameters(beam_current = 0.5) #in nA"
      ]
    },
    {
      "cell_type": "code",
      "execution_count": 19,
      "metadata": {
        "id": "37b7JsHDMvAr"
      },
      "outputs": [],
      "source": [
        "#From Brucker software (Esprit) k-factors\n",
        "factors = [1.450226, 5.75602]"
      ]
    },
    {
      "cell_type": "code",
      "execution_count": 20,
      "metadata": {
        "colab": {
          "base_uri": "https://localhost:8080/"
        },
        "id": "UoQAclxuMvAs",
        "outputId": "1a3cb11c-7108-404f-99c8-f6bd18e3ae55"
      },
      "outputs": [
        {
          "output_type": "stream",
          "name": "stdout",
          "text": [
            "[########################################] | 100% Completed |  0.1s\n"
          ]
        },
        {
          "output_type": "stream",
          "name": "stderr",
          "text": [
            "/usr/local/lib/python3.8/dist-packages/hyperspy/misc/material.py:61: RuntimeWarning: invalid value encountered in true_divide\n",
            "  atomic_percent[i] /= sum_weight\n"
          ]
        }
      ],
      "source": [
        "quant = cs.quantification(cs_intensities, 'CL', factors=factors)"
      ]
    },
    {
      "cell_type": "code",
      "execution_count": 21,
      "metadata": {
        "colab": {
          "base_uri": "https://localhost:8080/"
        },
        "id": "RviKv-sgMvAs",
        "outputId": "65234587-4c6a-45e4-d055-c2a4f42231aa"
      },
      "outputs": [
        {
          "output_type": "execute_result",
          "data": {
            "text/plain": [
              "[<BaseSignal, title: atomic percent of Fe, dimensions: (32, 32|)>,\n",
              " <BaseSignal, title: atomic percent of Pt, dimensions: (32, 32|)>]"
            ]
          },
          "metadata": {},
          "execution_count": 21
        }
      ],
      "source": [
        "quant"
      ]
    },
    {
      "cell_type": "markdown",
      "metadata": {
        "id": "OGsOYa_0MvAs"
      },
      "source": [
        "Again as with the intensities the quantification function result produces a list of images with atomic percent of each element (at least in the 'CL' case). \n",
        "\n",
        "In the 'zeta' and 'cross_section' methods more information is outputed from quantification. See the [EDS quantification](http://hyperspy.org/hyperspy-doc/current/user_guide/eds.html#eds-quantification) section of the documentation for more details."
      ]
    },
    {
      "cell_type": "markdown",
      "metadata": {
        "id": "-iYeuYTbMvAs"
      },
      "source": [
        "Alternatively, if the factors are treated as cross_sections then the output result contains two lists of images, the first is a list of atomic *percent* maps (Index [0]) the second is a list of atomic *number* maps (Index [1]). This allows us to 'zero-out' regions of the image with too few counts."
      ]
    },
    {
      "cell_type": "markdown",
      "metadata": {
        "id": "jhVX2vzvMvAs"
      },
      "source": [
        "*Please note these values aren't accurate cross-sections but can be used as such for the purpose of this demo.*"
      ]
    },
    {
      "cell_type": "markdown",
      "metadata": {
        "id": "AKM0UsFnMvAs"
      },
      "source": [
        "Ignore the warning produced, in this case we want to use a 1nm$^2$ probe size. As long as the pixel scale is calibrated in your spectrum image, probe size is taken as the pixel unless otherwise specified using s.set_microscope_parameters(probe_area = ?)."
      ]
    },
    {
      "cell_type": "code",
      "execution_count": 22,
      "metadata": {
        "colab": {
          "base_uri": "https://localhost:8080/"
        },
        "id": "1EkozyuQMvAs",
        "outputId": "0e88971d-2582-4fff-fadd-90b236a42677"
      },
      "outputs": [
        {
          "output_type": "stream",
          "name": "stderr",
          "text": [
            "/usr/local/lib/python3.8/dist-packages/hyperspy/_signals/eds_tem.py:833: UserWarning: Please note that the probe area has been calculated to be 1 nm², meaning that it is highly likley that the scale of the navigation axes have not been set correctly. Please read the user guide for how to set this.\n",
            "  warnings.warn(\"Please note that the probe area has been \"\n",
            "/usr/local/lib/python3.8/dist-packages/hyperspy/misc/eds/utils.py:625: RuntimeWarning: invalid value encountered in true_divide\n",
            "  composition = number_of_atoms / total_atoms\n"
          ]
        }
      ],
      "source": [
        "quant = cs.quantification(cs_intensities, 'cross_section', factors=factors)"
      ]
    },
    {
      "cell_type": "code",
      "execution_count": 23,
      "metadata": {
        "colab": {
          "base_uri": "https://localhost:8080/"
        },
        "id": "rWB2XTCgMvAt",
        "outputId": "b539f201-82cf-4074-bae1-e72518717cd2"
      },
      "outputs": [
        {
          "output_type": "execute_result",
          "data": {
            "text/plain": [
              "([<BaseSignal, title: atomic percent of Fe, dimensions: (32, 32|)>,\n",
              "  <BaseSignal, title: atomic percent of Pt, dimensions: (32, 32|)>],\n",
              " [<BaseSignal, title: atom counts of Fe, dimensions: (32, 32|)>,\n",
              "  <BaseSignal, title: atom counts of Pt, dimensions: (32, 32|)>])"
            ]
          },
          "metadata": {},
          "execution_count": 23
        }
      ],
      "source": [
        "quant"
      ]
    },
    {
      "cell_type": "markdown",
      "metadata": {
        "id": "0bMN1__DMvAt"
      },
      "source": [
        "Summing all the images containing numbers of atoms (quant[1]) gives us an image mapping out the total number of estimated atoms in the sample."
      ]
    },
    {
      "cell_type": "code",
      "execution_count": 24,
      "metadata": {
        "colab": {
          "base_uri": "https://localhost:8080/",
          "height": 400
        },
        "id": "JbJQ0cCgMvAt",
        "outputId": "121ac1c6-1492-4342-ecd6-cdad433b0516"
      },
      "outputs": [
        {
          "output_type": "display_data",
          "data": {
            "text/plain": [
              "<Figure size 432x392.727 with 2 Axes>"
            ],
            "image/png": "[encoded data removed]"
          },
          "metadata": {
            "needs_background": "light"
          }
        }
      ],
      "source": [
        "No_of_atoms = quant[1][0] + quant[1][1]\n",
        "No_of_atoms.plot()"
      ]
    },
    {
      "cell_type": "markdown",
      "metadata": {
        "id": "aQ7mAMoTMvAt"
      },
      "source": [
        "This 'total number of atoms' image can be used to make a mask and 'zero-out' any region of the image where the total counts equate to less than 1 atom count. This could also be done on an element by element basis instead."
      ]
    },
    {
      "cell_type": "code",
      "execution_count": 25,
      "metadata": {
        "colab": {
          "base_uri": "https://localhost:8080/",
          "height": 229
        },
        "id": "SPDMw_laMvAt",
        "outputId": "23f3ebff-4f97-4c81-d288-4a2d2d0108c0"
      },
      "outputs": [
        {
          "output_type": "execute_result",
          "data": {
            "text/plain": [
              "[<matplotlib.axes._subplots.AxesSubplot at 0x7fd9bcce1280>,\n",
              " <matplotlib.axes._subplots.AxesSubplot at 0x7fd9bccf19a0>]"
            ]
          },
          "metadata": {},
          "execution_count": 25
        },
        {
          "output_type": "display_data",
          "data": {
            "text/plain": [
              "<Figure size 432x216 with 4 Axes>"
            ],
            "image/png": "[encoded data removed]"
          },
          "metadata": {
            "needs_background": "light"
          }
        }
      ],
      "source": [
        "Mask = No_of_atoms > 1.\n",
        "hs.plot.plot_images([Mask*quant[0][0], Mask*quant[0][1]], scalebar ='all', cmap='viridis',\n",
        "                   label=['Fe', 'Pt'], axes_decor='off', vmin=0, vmax=100)"
      ]
    },
    {
      "cell_type": "markdown",
      "metadata": {
        "id": "aUqyH_GXMvAt"
      },
      "source": [
        "## <a id='bss'></a> 5. Blind source separation of core/shell nanoparticles"
      ]
    },
    {
      "cell_type": "markdown",
      "metadata": {
        "id": "W36Uip7cMvAt"
      },
      "source": [
        "<a href='#top'> Table of contents</a>"
      ]
    },
    {
      "cell_type": "markdown",
      "metadata": {
        "id": "0bqTsV7VMvAt"
      },
      "source": [
        "Apply blind source separation (ICA) to obtain a factor (spectrum) corresponding to the core."
      ]
    },
    {
      "cell_type": "code",
      "execution_count": 26,
      "metadata": {
        "colab": {
          "base_uri": "https://localhost:8080/"
        },
        "id": "i4Xi0WcKMvAt",
        "outputId": "c67c972f-efea-4818-b207-7af1a63938bb"
      },
      "outputs": [
        {
          "output_type": "stream",
          "name": "stdout",
          "text": [
            "Decomposition info:\n",
            "  normalize_poissonian_noise=True\n",
            "  algorithm=SVD\n",
            "  output_dimension=None\n",
            "  centre=None\n"
          ]
        }
      ],
      "source": [
        "cs.change_dtype('float')\n",
        "cs.decomposition()"
      ]
    },
    {
      "cell_type": "code",
      "execution_count": 27,
      "metadata": {
        "colab": {
          "base_uri": "https://localhost:8080/",
          "height": 313
        },
        "id": "gx0YYW3NMvAu",
        "outputId": "8e7832e5-e19a-4350-b92d-d1e5486f958a"
      },
      "outputs": [
        {
          "output_type": "display_data",
          "data": {
            "text/plain": [
              "<Figure size 432x288 with 1 Axes>"
            ],
            "image/png": "[encoded data removed]"
          },
          "metadata": {
            "needs_background": "light"
          }
        }
      ],
      "source": [
        "ax = cs.plot_explained_variance_ratio()"
      ]
    },
    {
      "cell_type": "markdown",
      "metadata": {
        "id": "GnMJCiICMvAu"
      },
      "source": [
        "ICA on the three first components."
      ]
    },
    {
      "cell_type": "code",
      "execution_count": 28,
      "metadata": {
        "colab": {
          "base_uri": "https://localhost:8080/"
        },
        "id": "0qXSr3VjMvAu",
        "outputId": "6d2b4fdf-8412-421d-f203-1b465020ea65"
      },
      "outputs": [
        {
          "output_type": "stream",
          "name": "stdout",
          "text": [
            "[########################################] | 100% Completed |  0.1s\n"
          ]
        },
        {
          "output_type": "stream",
          "name": "stderr",
          "text": [
            "WARNING:hyperspy.learn.mva:HyperSpy already performs its own data whitening (whiten_method='PCA'), so it is ignored for algorithm='sklearn_fastica'.\n"
          ]
        },
        {
          "output_type": "stream",
          "name": "stdout",
          "text": [
            "Blind source separation info:\n",
            "  number_of_components=3\n",
            "  algorithm=sklearn_fastica\n",
            "  diff_order=1\n",
            "  reverse_component_criterion=factors\n",
            "  whiten_method=PCA\n",
            "scikit-learn estimator:\n",
            "FastICA(tol=1e-10, whiten=False)\n"
          ]
        }
      ],
      "source": [
        "cs.blind_source_separation(3)"
      ]
    },
    {
      "cell_type": "code",
      "execution_count": 29,
      "metadata": {
        "colab": {
          "base_uri": "https://localhost:8080/",
          "height": 234
        },
        "id": "zMPc73BPMvAu",
        "outputId": "7ba75343-7c50-4eab-e0f3-6b8a0a20c663"
      },
      "outputs": [
        {
          "output_type": "display_data",
          "data": {
            "text/plain": [
              "<Figure size 432x288 with 6 Axes>"
            ],
            "image/png": "[encoded data removed]"
          },
          "metadata": {
            "needs_background": "light"
          }
        }
      ],
      "source": [
        "axes = cs.plot_bss_loadings()"
      ]
    },
    {
      "cell_type": "code",
      "execution_count": 30,
      "metadata": {
        "colab": {
          "base_uri": "https://localhost:8080/",
          "height": 297
        },
        "id": "BhW1XzniMvAu",
        "outputId": "12ef6fce-3d1a-4704-a3ea-c62a7aeaee7f"
      },
      "outputs": [
        {
          "output_type": "display_data",
          "data": {
            "text/plain": [
              "<Figure size 432x288 with 1 Axes>"
            ],
            "image/png": "[encoded data removed]"
          },
          "metadata": {
            "needs_background": "light"
          }
        }
      ],
      "source": [
        "axes = cs.plot_bss_factors()"
      ]
    },
    {
      "cell_type": "markdown",
      "metadata": {
        "id": "jL4EOjzBMvAu"
      },
      "source": [
        "The first component corresponds to the core."
      ]
    },
    {
      "cell_type": "code",
      "execution_count": 31,
      "metadata": {
        "id": "7Fh9oV1BMvAu"
      },
      "outputs": [],
      "source": [
        "s_bss = cs.get_bss_factors().inav[0]"
      ]
    },
    {
      "cell_type": "markdown",
      "metadata": {
        "id": "1RazePqRMvAu"
      },
      "source": [
        "## <a id='bare'></a> 6. Representative spectrum from bare cores"
      ]
    },
    {
      "cell_type": "markdown",
      "metadata": {
        "id": "F28N9e9ZMvAu"
      },
      "source": [
        "<a href='#top'> Table of contents</a>"
      ]
    },
    {
      "cell_type": "markdown",
      "metadata": {
        "id": "Bt0gB65hMvAu"
      },
      "source": [
        "To obtain an integrated representative spectrum of the bare nanoparticles, the low intensity of Pt L$_{\\alpha}$ is masked."
      ]
    },
    {
      "cell_type": "code",
      "execution_count": 32,
      "metadata": {
        "id": "_b7v7EBmMvAu"
      },
      "outputs": [],
      "source": [
        "pt_la = c.get_lines_intensity(['Pt_La'])[0]\n",
        "mask = pt_la > 12"
      ]
    },
    {
      "cell_type": "code",
      "execution_count": 35,
      "metadata": {
        "colab": {
          "base_uri": "https://localhost:8080/",
          "height": 579
        },
        "id": "lwYnwTmqMvAu",
        "outputId": "50695ac4-5d13-43a5-820a-c97545dc8b23"
      },
      "outputs": [
        {
          "output_type": "error",
          "ename": "TypeError",
          "evalue": "ignored",
          "traceback": [
            "\u001b[0;31m---------------------------------------------------------------------------\u001b[0m",
            "\u001b[0;31mTypeError\u001b[0m                                 Traceback (most recent call last)",
            "\u001b[0;32m<ipython-input-35-5cec6a06bc1e>\u001b[0m in \u001b[0;36m<module>\u001b[0;34m\u001b[0m\n\u001b[0;32m----> 1\u001b[0;31m axes = hs.plot.plot_images((mask, pt_la * mask),\n\u001b[0m\u001b[1;32m      2\u001b[0m                            label=['Mask', 'Pt Lα intensity'], cmap='viridis')\n",
            "\u001b[0;32m/usr/local/lib/python3.8/dist-packages/hyperspy/drawing/utils.py\u001b[0m in \u001b[0;36mplot_images\u001b[0;34m(images, cmap, no_nans, per_row, label, labelwrap, suptitle, suptitle_fontsize, colorbar, centre_colormap, scalebar, scalebar_color, axes_decor, padding, tight_layout, aspect, min_asp, namefrac_thresh, fig, vmin, vmax, overlay, colors, alphas, legend_picking, legend_loc, pixel_size_factor, **kwargs)\u001b[0m\n\u001b[1;32m   1061\u001b[0m                     \u001b[0m_vmin\u001b[0m \u001b[0;34m=\u001b[0m \u001b[0mvmin\u001b[0m\u001b[0;34m[\u001b[0m\u001b[0midx\u001b[0m\u001b[0;34m]\u001b[0m \u001b[0;32mif\u001b[0m \u001b[0misinstance\u001b[0m\u001b[0;34m(\u001b[0m\u001b[0mvmin\u001b[0m\u001b[0;34m,\u001b[0m \u001b[0;34m(\u001b[0m\u001b[0mtuple\u001b[0m\u001b[0;34m,\u001b[0m \u001b[0mlist\u001b[0m\u001b[0;34m)\u001b[0m\u001b[0;34m)\u001b[0m \u001b[0;32melse\u001b[0m \u001b[0mvmin\u001b[0m\u001b[0;34m\u001b[0m\u001b[0;34m\u001b[0m\u001b[0m\n\u001b[1;32m   1062\u001b[0m                     \u001b[0m_vmax\u001b[0m \u001b[0;34m=\u001b[0m \u001b[0mvmax\u001b[0m\u001b[0;34m[\u001b[0m\u001b[0midx\u001b[0m\u001b[0;34m]\u001b[0m \u001b[0;32mif\u001b[0m \u001b[0misinstance\u001b[0m\u001b[0;34m(\u001b[0m\u001b[0mvmax\u001b[0m\u001b[0;34m,\u001b[0m \u001b[0;34m(\u001b[0m\u001b[0mtuple\u001b[0m\u001b[0;34m,\u001b[0m \u001b[0mlist\u001b[0m\u001b[0;34m)\u001b[0m\u001b[0;34m)\u001b[0m \u001b[0;32melse\u001b[0m \u001b[0mvmax\u001b[0m\u001b[0;34m\u001b[0m\u001b[0;34m\u001b[0m\u001b[0m\n\u001b[0;32m-> 1063\u001b[0;31m                     \u001b[0m_vmin\u001b[0m\u001b[0;34m,\u001b[0m \u001b[0m_vmax\u001b[0m \u001b[0;34m=\u001b[0m \u001b[0mcontrast_stretching\u001b[0m\u001b[0;34m(\u001b[0m\u001b[0mdata\u001b[0m\u001b[0;34m,\u001b[0m \u001b[0m_vmin\u001b[0m\u001b[0;34m,\u001b[0m \u001b[0m_vmax\u001b[0m\u001b[0;34m)\u001b[0m\u001b[0;34m\u001b[0m\u001b[0;34m\u001b[0m\u001b[0m\n\u001b[0m\u001b[1;32m   1064\u001b[0m                     \u001b[0;32mif\u001b[0m \u001b[0mcentre\u001b[0m\u001b[0;34m:\u001b[0m\u001b[0;34m\u001b[0m\u001b[0;34m\u001b[0m\u001b[0m\n\u001b[1;32m   1065\u001b[0m                         \u001b[0m_vmin\u001b[0m\u001b[0;34m,\u001b[0m \u001b[0m_vmax\u001b[0m \u001b[0;34m=\u001b[0m \u001b[0mcentre_colormap_values\u001b[0m\u001b[0;34m(\u001b[0m\u001b[0m_vmin\u001b[0m\u001b[0;34m,\u001b[0m \u001b[0m_vmax\u001b[0m\u001b[0;34m)\u001b[0m\u001b[0;34m\u001b[0m\u001b[0;34m\u001b[0m\u001b[0m\n",
            "\u001b[0;32m/usr/local/lib/python3.8/dist-packages/hyperspy/drawing/utils.py\u001b[0m in \u001b[0;36mcontrast_stretching\u001b[0;34m(data, vmin, vmax)\u001b[0m\n\u001b[1;32m     89\u001b[0m     \u001b[0;31m# the precentile value\u001b[0m\u001b[0;34m\u001b[0m\u001b[0;34m\u001b[0m\u001b[0;34m\u001b[0m\u001b[0m\n\u001b[1;32m     90\u001b[0m     \u001b[0;32mif\u001b[0m \u001b[0;32mnot\u001b[0m \u001b[0misinstance\u001b[0m\u001b[0;34m(\u001b[0m\u001b[0mvmin\u001b[0m\u001b[0;34m,\u001b[0m \u001b[0;34m(\u001b[0m\u001b[0mfloat\u001b[0m\u001b[0;34m,\u001b[0m \u001b[0mint\u001b[0m\u001b[0;34m)\u001b[0m\u001b[0;34m)\u001b[0m\u001b[0;34m:\u001b[0m\u001b[0;34m\u001b[0m\u001b[0;34m\u001b[0m\u001b[0m\n\u001b[0;32m---> 91\u001b[0;31m         \u001b[0mvmin\u001b[0m \u001b[0;34m=\u001b[0m \u001b[0mnp\u001b[0m\u001b[0;34m.\u001b[0m\u001b[0mnanpercentile\u001b[0m\u001b[0;34m(\u001b[0m\u001b[0mdata\u001b[0m\u001b[0;34m,\u001b[0m \u001b[0m_parse_value\u001b[0m\u001b[0;34m(\u001b[0m\u001b[0mvmin\u001b[0m\u001b[0;34m,\u001b[0m \u001b[0;34m'vmin'\u001b[0m\u001b[0;34m)\u001b[0m\u001b[0;34m)\u001b[0m\u001b[0;34m\u001b[0m\u001b[0;34m\u001b[0m\u001b[0m\n\u001b[0m\u001b[1;32m     92\u001b[0m     \u001b[0;32mif\u001b[0m \u001b[0;32mnot\u001b[0m \u001b[0misinstance\u001b[0m\u001b[0;34m(\u001b[0m\u001b[0mvmax\u001b[0m\u001b[0;34m,\u001b[0m \u001b[0;34m(\u001b[0m\u001b[0mfloat\u001b[0m\u001b[0;34m,\u001b[0m \u001b[0mint\u001b[0m\u001b[0;34m)\u001b[0m\u001b[0;34m)\u001b[0m\u001b[0;34m:\u001b[0m\u001b[0;34m\u001b[0m\u001b[0;34m\u001b[0m\u001b[0m\n\u001b[1;32m     93\u001b[0m         \u001b[0mvmax\u001b[0m \u001b[0;34m=\u001b[0m \u001b[0mnp\u001b[0m\u001b[0;34m.\u001b[0m\u001b[0mnanpercentile\u001b[0m\u001b[0;34m(\u001b[0m\u001b[0mdata\u001b[0m\u001b[0;34m,\u001b[0m \u001b[0m_parse_value\u001b[0m\u001b[0;34m(\u001b[0m\u001b[0mvmax\u001b[0m\u001b[0;34m,\u001b[0m \u001b[0;34m'vmax'\u001b[0m\u001b[0;34m)\u001b[0m\u001b[0;34m)\u001b[0m\u001b[0;34m\u001b[0m\u001b[0;34m\u001b[0m\u001b[0m\n",
            "\u001b[0;32m<__array_function__ internals>\u001b[0m in \u001b[0;36mnanpercentile\u001b[0;34m(*args, **kwargs)\u001b[0m\n",
            "\u001b[0;32m/usr/local/lib/python3.8/dist-packages/numpy/lib/nanfunctions.py\u001b[0m in \u001b[0;36mnanpercentile\u001b[0;34m(a, q, axis, out, overwrite_input, interpolation, keepdims)\u001b[0m\n\u001b[1;32m   1247\u001b[0m     \u001b[0;32mif\u001b[0m \u001b[0;32mnot\u001b[0m \u001b[0mfunction_base\u001b[0m\u001b[0;34m.\u001b[0m\u001b[0m_quantile_is_valid\u001b[0m\u001b[0;34m(\u001b[0m\u001b[0mq\u001b[0m\u001b[0;34m)\u001b[0m\u001b[0;34m:\u001b[0m\u001b[0;34m\u001b[0m\u001b[0;34m\u001b[0m\u001b[0m\n\u001b[1;32m   1248\u001b[0m         \u001b[0;32mraise\u001b[0m \u001b[0mValueError\u001b[0m\u001b[0;34m(\u001b[0m\u001b[0;34m\"Percentiles must be in the range [0, 100]\"\u001b[0m\u001b[0;34m)\u001b[0m\u001b[0;34m\u001b[0m\u001b[0;34m\u001b[0m\u001b[0m\n\u001b[0;32m-> 1249\u001b[0;31m     return _nanquantile_unchecked(\n\u001b[0m\u001b[1;32m   1250\u001b[0m         a, q, axis, out, overwrite_input, interpolation, keepdims)\n\u001b[1;32m   1251\u001b[0m \u001b[0;34m\u001b[0m\u001b[0m\n",
            "\u001b[0;32m/usr/local/lib/python3.8/dist-packages/numpy/lib/nanfunctions.py\u001b[0m in \u001b[0;36m_nanquantile_unchecked\u001b[0;34m(a, q, axis, out, overwrite_input, interpolation, keepdims)\u001b[0m\n\u001b[1;32m   1372\u001b[0m         \u001b[0;32mreturn\u001b[0m \u001b[0mnp\u001b[0m\u001b[0;34m.\u001b[0m\u001b[0mnanmean\u001b[0m\u001b[0;34m(\u001b[0m\u001b[0ma\u001b[0m\u001b[0;34m,\u001b[0m \u001b[0maxis\u001b[0m\u001b[0;34m,\u001b[0m \u001b[0mout\u001b[0m\u001b[0;34m=\u001b[0m\u001b[0mout\u001b[0m\u001b[0;34m,\u001b[0m \u001b[0mkeepdims\u001b[0m\u001b[0;34m=\u001b[0m\u001b[0mkeepdims\u001b[0m\u001b[0;34m)\u001b[0m\u001b[0;34m\u001b[0m\u001b[0;34m\u001b[0m\u001b[0m\n\u001b[1;32m   1373\u001b[0m \u001b[0;34m\u001b[0m\u001b[0m\n\u001b[0;32m-> 1374\u001b[0;31m     r, k = function_base._ureduce(\n\u001b[0m\u001b[1;32m   1375\u001b[0m         \u001b[0ma\u001b[0m\u001b[0;34m,\u001b[0m \u001b[0mfunc\u001b[0m\u001b[0;34m=\u001b[0m\u001b[0m_nanquantile_ureduce_func\u001b[0m\u001b[0;34m,\u001b[0m \u001b[0mq\u001b[0m\u001b[0;34m=\u001b[0m\u001b[0mq\u001b[0m\u001b[0;34m,\u001b[0m \u001b[0maxis\u001b[0m\u001b[0;34m=\u001b[0m\u001b[0maxis\u001b[0m\u001b[0;34m,\u001b[0m \u001b[0mout\u001b[0m\u001b[0;34m=\u001b[0m\u001b[0mout\u001b[0m\u001b[0;34m,\u001b[0m\u001b[0;34m\u001b[0m\u001b[0;34m\u001b[0m\u001b[0m\n\u001b[1;32m   1376\u001b[0m         \u001b[0moverwrite_input\u001b[0m\u001b[0;34m=\u001b[0m\u001b[0moverwrite_input\u001b[0m\u001b[0;34m,\u001b[0m \u001b[0minterpolation\u001b[0m\u001b[0;34m=\u001b[0m\u001b[0minterpolation\u001b[0m\u001b[0;34m\u001b[0m\u001b[0;34m\u001b[0m\u001b[0m\n",
            "\u001b[0;32m/usr/local/lib/python3.8/dist-packages/numpy/lib/function_base.py\u001b[0m in \u001b[0;36m_ureduce\u001b[0;34m(a, func, **kwargs)\u001b[0m\n\u001b[1;32m   3562\u001b[0m         \u001b[0mkeepdim\u001b[0m \u001b[0;34m=\u001b[0m \u001b[0;34m(\u001b[0m\u001b[0;36m1\u001b[0m\u001b[0;34m,\u001b[0m\u001b[0;34m)\u001b[0m \u001b[0;34m*\u001b[0m \u001b[0ma\u001b[0m\u001b[0;34m.\u001b[0m\u001b[0mndim\u001b[0m\u001b[0;34m\u001b[0m\u001b[0;34m\u001b[0m\u001b[0m\n\u001b[1;32m   3563\u001b[0m \u001b[0;34m\u001b[0m\u001b[0m\n\u001b[0;32m-> 3564\u001b[0;31m     \u001b[0mr\u001b[0m \u001b[0;34m=\u001b[0m \u001b[0mfunc\u001b[0m\u001b[0;34m(\u001b[0m\u001b[0ma\u001b[0m\u001b[0;34m,\u001b[0m \u001b[0;34m**\u001b[0m\u001b[0mkwargs\u001b[0m\u001b[0;34m)\u001b[0m\u001b[0;34m\u001b[0m\u001b[0;34m\u001b[0m\u001b[0m\n\u001b[0m\u001b[1;32m   3565\u001b[0m     \u001b[0;32mreturn\u001b[0m \u001b[0mr\u001b[0m\u001b[0;34m,\u001b[0m \u001b[0mkeepdim\u001b[0m\u001b[0;34m\u001b[0m\u001b[0;34m\u001b[0m\u001b[0m\n\u001b[1;32m   3566\u001b[0m \u001b[0;34m\u001b[0m\u001b[0m\n",
            "\u001b[0;32m/usr/local/lib/python3.8/dist-packages/numpy/lib/nanfunctions.py\u001b[0m in \u001b[0;36m_nanquantile_ureduce_func\u001b[0;34m(a, q, axis, out, overwrite_input, interpolation)\u001b[0m\n\u001b[1;32m   1391\u001b[0m     \u001b[0;32mif\u001b[0m \u001b[0maxis\u001b[0m \u001b[0;32mis\u001b[0m \u001b[0;32mNone\u001b[0m \u001b[0;32mor\u001b[0m \u001b[0ma\u001b[0m\u001b[0;34m.\u001b[0m\u001b[0mndim\u001b[0m \u001b[0;34m==\u001b[0m \u001b[0;36m1\u001b[0m\u001b[0;34m:\u001b[0m\u001b[0;34m\u001b[0m\u001b[0;34m\u001b[0m\u001b[0m\n\u001b[1;32m   1392\u001b[0m         \u001b[0mpart\u001b[0m \u001b[0;34m=\u001b[0m \u001b[0ma\u001b[0m\u001b[0;34m.\u001b[0m\u001b[0mravel\u001b[0m\u001b[0;34m(\u001b[0m\u001b[0;34m)\u001b[0m\u001b[0;34m\u001b[0m\u001b[0;34m\u001b[0m\u001b[0m\n\u001b[0;32m-> 1393\u001b[0;31m         \u001b[0mresult\u001b[0m \u001b[0;34m=\u001b[0m \u001b[0m_nanquantile_1d\u001b[0m\u001b[0;34m(\u001b[0m\u001b[0mpart\u001b[0m\u001b[0;34m,\u001b[0m \u001b[0mq\u001b[0m\u001b[0;34m,\u001b[0m \u001b[0moverwrite_input\u001b[0m\u001b[0;34m,\u001b[0m \u001b[0minterpolation\u001b[0m\u001b[0;34m)\u001b[0m\u001b[0;34m\u001b[0m\u001b[0;34m\u001b[0m\u001b[0m\n\u001b[0m\u001b[1;32m   1394\u001b[0m     \u001b[0;32melse\u001b[0m\u001b[0;34m:\u001b[0m\u001b[0;34m\u001b[0m\u001b[0;34m\u001b[0m\u001b[0m\n\u001b[1;32m   1395\u001b[0m         result = np.apply_along_axis(_nanquantile_1d, axis, a, q,\n",
            "\u001b[0;32m/usr/local/lib/python3.8/dist-packages/numpy/lib/nanfunctions.py\u001b[0m in \u001b[0;36m_nanquantile_1d\u001b[0;34m(arr1d, q, overwrite_input, interpolation)\u001b[0m\n\u001b[1;32m   1416\u001b[0m         \u001b[0;32mreturn\u001b[0m \u001b[0mnp\u001b[0m\u001b[0;34m.\u001b[0m\u001b[0mfull\u001b[0m\u001b[0;34m(\u001b[0m\u001b[0mq\u001b[0m\u001b[0;34m.\u001b[0m\u001b[0mshape\u001b[0m\u001b[0;34m,\u001b[0m \u001b[0mnp\u001b[0m\u001b[0;34m.\u001b[0m\u001b[0mnan\u001b[0m\u001b[0;34m)\u001b[0m\u001b[0;34m[\u001b[0m\u001b[0;34m(\u001b[0m\u001b[0;34m)\u001b[0m\u001b[0;34m]\u001b[0m  \u001b[0;31m# convert to scalar\u001b[0m\u001b[0;34m\u001b[0m\u001b[0;34m\u001b[0m\u001b[0m\n\u001b[1;32m   1417\u001b[0m \u001b[0;34m\u001b[0m\u001b[0m\n\u001b[0;32m-> 1418\u001b[0;31m     return function_base._quantile_unchecked(\n\u001b[0m\u001b[1;32m   1419\u001b[0m         arr1d, q, overwrite_input=overwrite_input, interpolation=interpolation)\n\u001b[1;32m   1420\u001b[0m \u001b[0;34m\u001b[0m\u001b[0m\n",
            "\u001b[0;32m/usr/local/lib/python3.8/dist-packages/numpy/lib/function_base.py\u001b[0m in \u001b[0;36m_quantile_unchecked\u001b[0;34m(a, q, axis, out, overwrite_input, interpolation, keepdims)\u001b[0m\n\u001b[1;32m   3984\u001b[0m                         interpolation='linear', keepdims=False):\n\u001b[1;32m   3985\u001b[0m     \u001b[0;34m\"\"\"Assumes that q is in [0, 1], and is an ndarray\"\"\"\u001b[0m\u001b[0;34m\u001b[0m\u001b[0;34m\u001b[0m\u001b[0m\n\u001b[0;32m-> 3986\u001b[0;31m     r, k = _ureduce(a, func=_quantile_ureduce_func, q=q, axis=axis, out=out,\n\u001b[0m\u001b[1;32m   3987\u001b[0m                     \u001b[0moverwrite_input\u001b[0m\u001b[0;34m=\u001b[0m\u001b[0moverwrite_input\u001b[0m\u001b[0;34m,\u001b[0m\u001b[0;34m\u001b[0m\u001b[0;34m\u001b[0m\u001b[0m\n\u001b[1;32m   3988\u001b[0m                     interpolation=interpolation)\n",
            "\u001b[0;32m/usr/local/lib/python3.8/dist-packages/numpy/lib/function_base.py\u001b[0m in \u001b[0;36m_ureduce\u001b[0;34m(a, func, **kwargs)\u001b[0m\n\u001b[1;32m   3562\u001b[0m         \u001b[0mkeepdim\u001b[0m \u001b[0;34m=\u001b[0m \u001b[0;34m(\u001b[0m\u001b[0;36m1\u001b[0m\u001b[0;34m,\u001b[0m\u001b[0;34m)\u001b[0m \u001b[0;34m*\u001b[0m \u001b[0ma\u001b[0m\u001b[0;34m.\u001b[0m\u001b[0mndim\u001b[0m\u001b[0;34m\u001b[0m\u001b[0;34m\u001b[0m\u001b[0m\n\u001b[1;32m   3563\u001b[0m \u001b[0;34m\u001b[0m\u001b[0m\n\u001b[0;32m-> 3564\u001b[0;31m     \u001b[0mr\u001b[0m \u001b[0;34m=\u001b[0m \u001b[0mfunc\u001b[0m\u001b[0;34m(\u001b[0m\u001b[0ma\u001b[0m\u001b[0;34m,\u001b[0m \u001b[0;34m**\u001b[0m\u001b[0mkwargs\u001b[0m\u001b[0;34m)\u001b[0m\u001b[0;34m\u001b[0m\u001b[0;34m\u001b[0m\u001b[0m\n\u001b[0m\u001b[1;32m   3565\u001b[0m     \u001b[0;32mreturn\u001b[0m \u001b[0mr\u001b[0m\u001b[0;34m,\u001b[0m \u001b[0mkeepdim\u001b[0m\u001b[0;34m\u001b[0m\u001b[0;34m\u001b[0m\u001b[0m\n\u001b[1;32m   3566\u001b[0m \u001b[0;34m\u001b[0m\u001b[0m\n",
            "\u001b[0;32m/usr/local/lib/python3.8/dist-packages/numpy/lib/function_base.py\u001b[0m in \u001b[0;36m_quantile_ureduce_func\u001b[0;34m(***failed resolving arguments***)\u001b[0m\n\u001b[1;32m   4110\u001b[0m         \u001b[0mx_above\u001b[0m \u001b[0;34m=\u001b[0m \u001b[0mtake\u001b[0m\u001b[0;34m(\u001b[0m\u001b[0map\u001b[0m\u001b[0;34m,\u001b[0m \u001b[0mindices_above\u001b[0m\u001b[0;34m,\u001b[0m \u001b[0maxis\u001b[0m\u001b[0;34m=\u001b[0m\u001b[0;36m0\u001b[0m\u001b[0;34m)\u001b[0m\u001b[0;34m\u001b[0m\u001b[0;34m\u001b[0m\u001b[0m\n\u001b[1;32m   4111\u001b[0m \u001b[0;34m\u001b[0m\u001b[0m\n\u001b[0;32m-> 4112\u001b[0;31m         \u001b[0mr\u001b[0m \u001b[0;34m=\u001b[0m \u001b[0m_lerp\u001b[0m\u001b[0;34m(\u001b[0m\u001b[0mx_below\u001b[0m\u001b[0;34m,\u001b[0m \u001b[0mx_above\u001b[0m\u001b[0;34m,\u001b[0m \u001b[0mweights_above\u001b[0m\u001b[0;34m,\u001b[0m \u001b[0mout\u001b[0m\u001b[0;34m=\u001b[0m\u001b[0mout\u001b[0m\u001b[0;34m)\u001b[0m\u001b[0;34m\u001b[0m\u001b[0;34m\u001b[0m\u001b[0m\n\u001b[0m\u001b[1;32m   4113\u001b[0m \u001b[0;34m\u001b[0m\u001b[0m\n\u001b[1;32m   4114\u001b[0m     \u001b[0;31m# if any slice contained a nan, then all results on that slice are also nan\u001b[0m\u001b[0;34m\u001b[0m\u001b[0;34m\u001b[0m\u001b[0;34m\u001b[0m\u001b[0m\n",
            "\u001b[0;32m/usr/local/lib/python3.8/dist-packages/numpy/lib/function_base.py\u001b[0m in \u001b[0;36m_lerp\u001b[0;34m(a, b, t, out)\u001b[0m\n\u001b[1;32m   4007\u001b[0m \u001b[0;32mdef\u001b[0m \u001b[0m_lerp\u001b[0m\u001b[0;34m(\u001b[0m\u001b[0ma\u001b[0m\u001b[0;34m,\u001b[0m \u001b[0mb\u001b[0m\u001b[0;34m,\u001b[0m \u001b[0mt\u001b[0m\u001b[0;34m,\u001b[0m \u001b[0mout\u001b[0m\u001b[0;34m=\u001b[0m\u001b[0;32mNone\u001b[0m\u001b[0;34m)\u001b[0m\u001b[0;34m:\u001b[0m\u001b[0;34m\u001b[0m\u001b[0;34m\u001b[0m\u001b[0m\n\u001b[1;32m   4008\u001b[0m     \u001b[0;34m\"\"\" Linearly interpolate from a to b by a factor of t \"\"\"\u001b[0m\u001b[0;34m\u001b[0m\u001b[0;34m\u001b[0m\u001b[0m\n\u001b[0;32m-> 4009\u001b[0;31m     \u001b[0mdiff_b_a\u001b[0m \u001b[0;34m=\u001b[0m \u001b[0msubtract\u001b[0m\u001b[0;34m(\u001b[0m\u001b[0mb\u001b[0m\u001b[0;34m,\u001b[0m \u001b[0ma\u001b[0m\u001b[0;34m)\u001b[0m\u001b[0;34m\u001b[0m\u001b[0;34m\u001b[0m\u001b[0m\n\u001b[0m\u001b[1;32m   4010\u001b[0m     \u001b[0;31m# asanyarray is a stop-gap until gh-13105\u001b[0m\u001b[0;34m\u001b[0m\u001b[0;34m\u001b[0m\u001b[0;34m\u001b[0m\u001b[0m\n\u001b[1;32m   4011\u001b[0m     \u001b[0mlerp_interpolation\u001b[0m \u001b[0;34m=\u001b[0m \u001b[0masanyarray\u001b[0m\u001b[0;34m(\u001b[0m\u001b[0madd\u001b[0m\u001b[0;34m(\u001b[0m\u001b[0ma\u001b[0m\u001b[0;34m,\u001b[0m \u001b[0mdiff_b_a\u001b[0m\u001b[0;34m*\u001b[0m\u001b[0mt\u001b[0m\u001b[0;34m,\u001b[0m \u001b[0mout\u001b[0m\u001b[0;34m=\u001b[0m\u001b[0mout\u001b[0m\u001b[0;34m)\u001b[0m\u001b[0;34m)\u001b[0m\u001b[0;34m\u001b[0m\u001b[0;34m\u001b[0m\u001b[0m\n",
            "\u001b[0;31mTypeError\u001b[0m: numpy boolean subtract, the `-` operator, is not supported, use the bitwise_xor, the `^` operator, or the logical_xor function instead."
          ]
        },
        {
          "output_type": "display_data",
          "data": {
            "text/plain": [
              "<Figure size 432x216 with 1 Axes>"
            ],
            "image/png": "[encoded data removed]"
          },
          "metadata": {
            "needs_background": "light"
          }
        }
      ],
      "source": [
        "axes = hs.plot.plot_images((mask, pt_la * mask), axes_decor=None, colorbar=None,\n",
        "                           label=['Mask', 'Pt Lα intensity'], cmap='viridis')"
      ]
    },
    {
      "cell_type": "markdown",
      "metadata": {
        "id": "ModBHC3UMvAv"
      },
      "source": [
        "To apply the mask, the navigation dimensions of the mask must be manipulated to match the navigation dimensions of the EDS spectrum image. This is achieved crudely via first generating a mask using the built in vacuum_mask() method and then overwriting the data with the mask generated above."
      ]
    },
    {
      "cell_type": "code",
      "execution_count": null,
      "metadata": {
        "id": "UIQitJqbMvAv"
      },
      "outputs": [],
      "source": [
        "c_mask = c.sum(-1)\n",
        "c_mask.data = mask.data"
      ]
    },
    {
      "cell_type": "markdown",
      "metadata": {
        "id": "gD30IsQEMvAv"
      },
      "source": [
        "The sum over the particles is used as a bare core spectrum."
      ]
    },
    {
      "cell_type": "code",
      "execution_count": null,
      "metadata": {
        "id": "SAgAQGEiMvAv"
      },
      "outputs": [],
      "source": [
        "s_bare = (c * c_mask).sum()"
      ]
    },
    {
      "cell_type": "markdown",
      "metadata": {
        "id": "BOe0NpPzMvAv"
      },
      "source": [
        "## <a id='com'></a> 7. Model fitting and quantification"
      ]
    },
    {
      "cell_type": "markdown",
      "metadata": {
        "id": "kiciKIFqMvAv"
      },
      "source": [
        "<a href='#top'> Table of contents</a>"
      ]
    },
    {
      "cell_type": "markdown",
      "metadata": {
        "id": "16hAuNQ6MvAv"
      },
      "source": [
        "With a greater signal to noise ratio from integrating the spectrum curve fitting now beceoms possible as a method of intensity extraction. \n",
        "\n",
        "First we stack together the spectrum of bare particles and the first ICA component."
      ]
    },
    {
      "cell_type": "code",
      "execution_count": null,
      "metadata": {
        "id": "zE5QVKd-MvAv"
      },
      "outputs": [],
      "source": [
        "s_bare.change_dtype('float')\n",
        "s = hs.stack([s_bare, s_bss], new_axis_name='Bare or BSS')\n",
        "s.metadata.General.title = 'Bare or BSS'"
      ]
    },
    {
      "cell_type": "code",
      "execution_count": null,
      "metadata": {
        "id": "QvOvqPqEMvAv"
      },
      "outputs": [],
      "source": [
        "axes = hs.plot.plot_spectra(s, style='mosaic', legend=['Bare particles', 'BSS #0'])"
      ]
    },
    {
      "cell_type": "markdown",
      "metadata": {
        "id": "9ZZpwJdbMvAv"
      },
      "source": [
        "### Method 1 - Window extraction\n",
        "\n",
        "X-ray intensities measurement with background subtraction, using the windows created earlier."
      ]
    },
    {
      "cell_type": "code",
      "execution_count": null,
      "metadata": {
        "id": "lOyI0MwsMvAv"
      },
      "outputs": [],
      "source": [
        "s.plot(background_windows=bw, integration_windows=iw)"
      ]
    },
    {
      "cell_type": "code",
      "execution_count": null,
      "metadata": {
        "id": "cbIjZGO1MvAv"
      },
      "outputs": [],
      "source": [
        "sI = s.get_lines_intensity(background_windows=bw, integration_windows=iw)"
      ]
    },
    {
      "cell_type": "code",
      "execution_count": null,
      "metadata": {
        "id": "Z5XuZBb8MvAw"
      },
      "outputs": [],
      "source": [
        "print('Bare core Fe_Kα/Pt_Lα ratio: \\t{:.2f}'.format(list(sI[0].inav[0].data / sI[1].inav[0].data)[0]))\n",
        "print('BSS Fe_Kα/Pt_Lα ratio: \\t\\t{:.2f}'.format(list(sI[0].inav[1].data / sI[1].inav[1].data)[0]))"
      ]
    },
    {
      "cell_type": "markdown",
      "metadata": {
        "id": "bL2RAFW0MvAw"
      },
      "source": [
        "### Method 2 - Model fitting\n",
        "\n",
        "Measure X-ray intensity by fitting a Gaussian model"
      ]
    },
    {
      "cell_type": "code",
      "execution_count": null,
      "metadata": {
        "id": "p8E9Pg1UMvAw"
      },
      "outputs": [],
      "source": [
        "#Removing the low energy part of the spectrum as this is not a region we're interested in.\n",
        "m = s.isig[5.:15.].create_model()"
      ]
    },
    {
      "cell_type": "code",
      "execution_count": null,
      "metadata": {
        "id": "TZva3nGLMvAw"
      },
      "outputs": [],
      "source": [
        "#These lines needed to be added to the model because they are not in the metadata. \n",
        "#In this way they are included in the curve fitting but not in the final quantification.\n",
        "m.add_family_lines(['Cu_Ka', 'Co_Ka'])"
      ]
    },
    {
      "cell_type": "code",
      "execution_count": null,
      "metadata": {
        "id": "MvCy9wkRMvAw"
      },
      "outputs": [],
      "source": [
        "m.components"
      ]
    },
    {
      "cell_type": "code",
      "execution_count": null,
      "metadata": {
        "id": "7M8t_WZ6MvAw"
      },
      "outputs": [],
      "source": [
        "m.plot()"
      ]
    },
    {
      "cell_type": "code",
      "execution_count": null,
      "metadata": {
        "id": "hVuJwolmMvAw"
      },
      "outputs": [],
      "source": [
        "m.multifit()"
      ]
    },
    {
      "cell_type": "code",
      "execution_count": null,
      "metadata": {
        "id": "tTSKZMIlMvAw"
      },
      "outputs": [],
      "source": [
        "m.fit_background()"
      ]
    },
    {
      "cell_type": "code",
      "execution_count": null,
      "metadata": {
        "id": "RpjBKIjXMvAw"
      },
      "outputs": [],
      "source": [
        "m.calibrate_energy_axis()"
      ]
    },
    {
      "cell_type": "code",
      "execution_count": null,
      "metadata": {
        "id": "qahUt_JUMvAw"
      },
      "outputs": [],
      "source": [
        "m.plot()"
      ]
    },
    {
      "cell_type": "code",
      "execution_count": null,
      "metadata": {
        "id": "vqAFqlB1MvAw"
      },
      "outputs": [],
      "source": [
        "sI = m.get_lines_intensity()[:2]\n",
        "sI"
      ]
    },
    {
      "cell_type": "markdown",
      "metadata": {
        "id": "R5IxW5JaMvAx"
      },
      "source": [
        "Set up the kfactors for Fe K$_{\\alpha}$ and Pt L$_{\\alpha}$."
      ]
    },
    {
      "cell_type": "code",
      "execution_count": null,
      "metadata": {
        "id": "BDJYYCawMvAx"
      },
      "outputs": [],
      "source": [
        "#From Brucker software (Esprit)\n",
        "kfactors = [1.450226, 5.075602]"
      ]
    },
    {
      "cell_type": "markdown",
      "metadata": {
        "id": "HKdZqFdEMvAx"
      },
      "source": [
        "Quantify with Cliff Lorimer."
      ]
    },
    {
      "cell_type": "code",
      "execution_count": null,
      "metadata": {
        "id": "Tpk4t3PxMvAx"
      },
      "outputs": [],
      "source": [
        "composition = s.quantification(method=\"CL\", intensities=sI, factors=kfactors)"
      ]
    },
    {
      "cell_type": "code",
      "execution_count": null,
      "metadata": {
        "id": "Ba2ZoFYqMvAx"
      },
      "outputs": [],
      "source": [
        "print('             |-----------------------------|')\n",
        "print('             |     Atomic compositions     |')\n",
        "print('             |-----------------------------|')\n",
        "\n",
        "print(' \\t     |  Bare core  |   BSS Signal  |')\n",
        "print('|------------|-------------|---------------|')\n",
        "print('| Fe (at. %) |    {:.2f}    |     {:.2f}     |'.format(composition[0].data[0], composition[0].data[1]))\n",
        "print('| Pt (at. %) |    {:.2f}    |     {:.2f}     |'.format(composition[1].data[0], composition[1].data[1]))\n",
        "print('|------------|-------------|---------------|')"
      ]
    },
    {
      "cell_type": "markdown",
      "metadata": {
        "id": "_8KVpVqSMvAx"
      },
      "source": [
        "## <a id='fur'></a> 6. Going further"
      ]
    },
    {
      "cell_type": "markdown",
      "metadata": {
        "id": "IuJGYQfbMvAx"
      },
      "source": [
        "<a href='#top'> Table of contents</a>"
      ]
    },
    {
      "cell_type": "markdown",
      "metadata": {
        "id": "O3f3EZn6MvAx"
      },
      "source": [
        "Further image processing with [scikit-image](http://scikit-image.org/) and [scipy](http://www.scipy.org/). Apply a watershed transformation to isolate the nanoparticles."
      ]
    },
    {
      "cell_type": "markdown",
      "metadata": {
        "id": "efA4kEYwMvAx"
      },
      "source": [
        "- Transform the mask into a distance map.\n",
        "- Find local maxima.\n",
        "- Apply the watershed to the distance map using the local maximum as seed (markers).\n",
        "\n",
        "Adapted from this scikit-image [example](http://scikit-image.org/docs/dev/auto_examples/plot_watershed.html)."
      ]
    },
    {
      "cell_type": "code",
      "execution_count": null,
      "metadata": {
        "id": "7g7OxvriMvAx"
      },
      "outputs": [],
      "source": [
        "from scipy.ndimage import distance_transform_edt, label\n",
        "from skimage.morphology import watershed\n",
        "from skimage.feature import peak_local_max"
      ]
    },
    {
      "cell_type": "code",
      "execution_count": null,
      "metadata": {
        "id": "UpsJCLWpMvAx"
      },
      "outputs": [],
      "source": [
        "distance = distance_transform_edt(mask.data)\n",
        "local_maxi = peak_local_max(distance, indices=False,\n",
        "                            min_distance=2, labels=mask.data)\n",
        "labels = watershed(-distance, markers=label(local_maxi)[0],\n",
        "                   mask=mask.data)"
      ]
    },
    {
      "cell_type": "code",
      "execution_count": null,
      "metadata": {
        "id": "oRgKENFJMvAx"
      },
      "outputs": [],
      "source": [
        "axes = hs.plot.plot_images(\n",
        "    [pt_la.T, mask.T, hs.signals.Signal2D(distance), hs.signals.Signal2D(labels)],\n",
        "    axes_decor='off', per_row=2, colorbar=None, cmap=['viridis','tab20'],\n",
        "    label=['Pt Lα intensity', 'Mask',\n",
        "           'Distances', 'Separated particles'])"
      ]
    },
    {
      "cell_type": "code",
      "execution_count": null,
      "metadata": {
        "collapsed": true,
        "id": "mR3VWLTkMvAx"
      },
      "outputs": [],
      "source": []
    }
  ],
  "metadata": {
    "anaconda-cloud": {},
    "kernelspec": {
      "display_name": "Python 3",
      "language": "python",
      "name": "python3"
    },
    "language_info": {
      "codemirror_mode": {
        "name": "ipython",
        "version": 3
      },
      "file_extension": ".py",
      "mimetype": "text/x-python",
      "name": "python",
      "nbconvert_exporter": "python",
      "pygments_lexer": "ipython3",
      "version": "3.5.6"
    },
    "colab": {
      "provenance": [],
      "include_colab_link": true
    }
  },
  "nbformat": 4,
  "nbformat_minor": 0
}